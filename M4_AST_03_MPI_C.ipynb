{
  "nbformat": 4,
  "nbformat_minor": 5,
  "metadata": {
    "kernelspec": {
      "display_name": "Python 3",
      "language": "python",
      "name": "python3"
    },
    "language_info": {
      "codemirror_mode": {
        "name": "ipython",
        "version": 3
      },
      "file_extension": ".py",
      "mimetype": "text/x-python",
      "name": "python",
      "nbconvert_exporter": "python",
      "pygments_lexer": "ipython3",
      "version": "3.5.2"
    },
    "colab": {
      "provenance": [],
      "collapsed_sections": [
        "chicken-moldova",
        "restricted-bouquet",
        "respected-album",
        "advanced-marketplace",
        "aggressive-playing",
        "passing-tooth",
        "useful-shape",
        "random-gross"
      ],
      "include_colab_link": true
    }
  },
  "cells": [
    {
      "cell_type": "markdown",
      "metadata": {
        "id": "view-in-github",
        "colab_type": "text"
      },
      "source": [
        "<a href=\"https://colab.research.google.com/github/shanvelc/module4/blob/main/M4_AST_03_MPI_C.ipynb\" target=\"_parent\"><img src=\"https://colab.research.google.com/assets/colab-badge.svg\" alt=\"Open In Colab\"/></a>"
      ]
    },
    {
      "cell_type": "markdown",
      "metadata": {
        "id": "positive-demand"
      },
      "source": [
        "# Advanced Certification Program in Computational Data Science\n",
        "## A program by IISc and TalentSprint\n",
        "### Assignment 3: Parallel Programming with MPI"
      ],
      "id": "positive-demand"
    },
    {
      "cell_type": "markdown",
      "metadata": {
        "id": "dressed-humanitarian"
      },
      "source": [
        "## Learning Objectives"
      ],
      "id": "dressed-humanitarian"
    },
    {
      "cell_type": "markdown",
      "metadata": {
        "id": "proof-import"
      },
      "source": [
        "At the end of the experiment, you will be able to:\n",
        "\n",
        "\n",
        "* implement standard message-passing algorithms in MPI\n",
        "* debug simple MPI code\n",
        "* understand the basics of point-to-point communication\n",
        "* understand the difference between blocking and non-blocking communication\n",
        "* understand how non-blocking communication can improve program performance\n",
        "* understand the basics of collective communication\n",
        "* learn about the different types of collective communication\n"
      ],
      "id": "proof-import"
    },
    {
      "cell_type": "markdown",
      "metadata": {
        "id": "environmental-complexity"
      },
      "source": [
        "## Information\n"
      ],
      "id": "environmental-complexity"
    },
    {
      "cell_type": "markdown",
      "metadata": {
        "id": "boolean-sacramento"
      },
      "source": [
        "### MPI in a Nutshell\n",
        "\n",
        "MPI stands for \"Message Passing Interface\". It is a library of functions (in C / Python) or subroutines (in Fortran) that you insert into source code to perform data communication between processes. MPI was developed over two years of discussions led by the MPI Forum, a group of roughly sixty people representing some forty organizations.\n",
        "\n",
        "To know more about MPI click [here](https://computing.llnl.gov/tutorials/mpi/#What)"
      ],
      "id": "boolean-sacramento"
    },
    {
      "cell_type": "markdown",
      "metadata": {
        "id": "BNLA8HiKxQhc"
      },
      "source": [
        "### Setup Steps:"
      ],
      "id": "BNLA8HiKxQhc"
    },
    {
      "cell_type": "code",
      "metadata": {
        "id": "2YzfoPvJDiTX"
      },
      "source": [
        "#@title Please enter your registration id to start: { run: \"auto\", display-mode: \"form\" }\n",
        "Id = \"\" #@param {type:\"string\"}"
      ],
      "id": "2YzfoPvJDiTX",
      "execution_count": null,
      "outputs": []
    },
    {
      "cell_type": "code",
      "metadata": {
        "id": "AjoZJWGErxGf"
      },
      "source": [
        "#@title Please enter your password (your registered phone number) to continue: { run: \"auto\", display-mode: \"form\" }\n",
        "password = \"\" #@param {type:\"string\"}"
      ],
      "id": "AjoZJWGErxGf",
      "execution_count": null,
      "outputs": []
    },
    {
      "cell_type": "code",
      "metadata": {
        "id": "WBPPuGmBlDIN",
        "cellView": "form"
      },
      "source": [
        "#@title Run this cell to complete the setup for this Notebook\n",
        "from IPython import get_ipython\n",
        "\n",
        "ipython = get_ipython()\n",
        "\n",
        "notebook= \"M4_AST_03_MPI_C\" #name of the notebook\n",
        "\n",
        "def setup():\n",
        "#  ipython.magic(\"sx pip3 install torch\")\n",
        "    from IPython.display import HTML, display\n",
        "    display(HTML('<script src=\"https://dashboard.talentsprint.com/aiml/record_ip.html?traineeId={0}&recordId={1}\"></script>'.format(getId(),submission_id)))\n",
        "    print(\"Setup completed successfully\")\n",
        "    return\n",
        "\n",
        "def submit_notebook():\n",
        "    ipython.magic(\"notebook -e \"+ notebook + \".ipynb\")\n",
        "\n",
        "    import requests, json, base64, datetime\n",
        "\n",
        "    url = \"https://dashboard.talentsprint.com/xp/app/save_notebook_attempts\"\n",
        "    if not submission_id:\n",
        "      data = {\"id\" : getId(), \"notebook\" : notebook, \"mobile\" : getPassword()}\n",
        "      r = requests.post(url, data = data)\n",
        "      r = json.loads(r.text)\n",
        "\n",
        "      if r[\"status\"] == \"Success\":\n",
        "          return r[\"record_id\"]\n",
        "      elif \"err\" in r:\n",
        "        print(r[\"err\"])\n",
        "        return None\n",
        "      else:\n",
        "        print (\"Something is wrong, the notebook will not be submitted for grading\")\n",
        "        return None\n",
        "\n",
        "    elif getAnswer() and getComplexity() and getAdditional() and getConcepts() and getComments() and getMentorSupport():\n",
        "      f = open(notebook + \".ipynb\", \"rb\")\n",
        "      file_hash = base64.b64encode(f.read())\n",
        "\n",
        "      data = {\"complexity\" : Complexity, \"additional\" :Additional,\n",
        "              \"concepts\" : Concepts, \"record_id\" : submission_id,\n",
        "              \"answer\" : Answer, \"id\" : Id, \"file_hash\" : file_hash,\n",
        "              \"notebook\" : notebook,\n",
        "              \"feedback_experiments_input\" : Comments,\n",
        "              \"feedback_mentor_support\": Mentor_support}\n",
        "      r = requests.post(url, data = data)\n",
        "      r = json.loads(r.text)\n",
        "      if \"err\" in r:\n",
        "        print(r[\"err\"])\n",
        "        return None\n",
        "      else:\n",
        "        print(\"Your submission is successful.\")\n",
        "        print(\"Ref Id:\", submission_id)\n",
        "        print(\"Date of submission: \", r[\"date\"])\n",
        "        print(\"Time of submission: \", r[\"time\"])\n",
        "        print(\"View your submissions: https://cds-iisc.talentsprint.com/notebook_submissions\")\n",
        "        #print(\"For any queries/discrepancies, please connect with mentors through the chat icon in LMS dashboard.\")\n",
        "        return submission_id\n",
        "    else: submission_id\n",
        "\n",
        "\n",
        "def getAdditional():\n",
        "  try:\n",
        "    if not Additional:\n",
        "      raise NameError\n",
        "    else:\n",
        "      return Additional\n",
        "  except NameError:\n",
        "    print (\"Please answer Additional Question\")\n",
        "    return None\n",
        "\n",
        "def getComplexity():\n",
        "  try:\n",
        "    if not Complexity:\n",
        "      raise NameError\n",
        "    else:\n",
        "      return Complexity\n",
        "  except NameError:\n",
        "    print (\"Please answer Complexity Question\")\n",
        "    return None\n",
        "\n",
        "def getConcepts():\n",
        "  try:\n",
        "    if not Concepts:\n",
        "      raise NameError\n",
        "    else:\n",
        "      return Concepts\n",
        "  except NameError:\n",
        "    print (\"Please answer Concepts Question\")\n",
        "    return None\n",
        "\n",
        "\n",
        "# def getWalkthrough():\n",
        "#   try:\n",
        "#     if not Walkthrough:\n",
        "#       raise NameError\n",
        "#     else:\n",
        "#       return Walkthrough\n",
        "#   except NameError:\n",
        "#     print (\"Please answer Walkthrough Question\")\n",
        "#     return None\n",
        "\n",
        "def getComments():\n",
        "  try:\n",
        "    if not Comments:\n",
        "      raise NameError\n",
        "    else:\n",
        "      return Comments\n",
        "  except NameError:\n",
        "    print (\"Please answer Comments Question\")\n",
        "    return None\n",
        "\n",
        "\n",
        "def getMentorSupport():\n",
        "  try:\n",
        "    if not Mentor_support:\n",
        "      raise NameError\n",
        "    else:\n",
        "      return Mentor_support\n",
        "  except NameError:\n",
        "    print (\"Please answer Mentor support Question\")\n",
        "    return None\n",
        "\n",
        "def getAnswer():\n",
        "  try:\n",
        "    if not Answer:\n",
        "      raise NameError\n",
        "    else:\n",
        "      return Answer\n",
        "  except NameError:\n",
        "    print (\"Please answer Question\")\n",
        "    return None\n",
        "\n",
        "\n",
        "def getId():\n",
        "  try:\n",
        "    return Id if Id else None\n",
        "  except NameError:\n",
        "    return None\n",
        "\n",
        "def getPassword():\n",
        "  try:\n",
        "    return password if password else None\n",
        "  except NameError:\n",
        "    return None\n",
        "\n",
        "submission_id = None\n",
        "### Setup\n",
        "if getPassword() and getId():\n",
        "  submission_id = submit_notebook()\n",
        "  if submission_id:\n",
        "    setup()\n",
        "else:\n",
        "  print (\"Please complete Id and Password cells before running setup\")\n",
        "\n"
      ],
      "id": "WBPPuGmBlDIN",
      "execution_count": null,
      "outputs": []
    },
    {
      "cell_type": "markdown",
      "metadata": {
        "id": "-ariaNkNg4lt"
      },
      "source": [
        "**Note:** We will be using the MPI for Python package mpi4py, Refer the [link](https://mpi4py.readthedocs.io/)"
      ],
      "id": "-ariaNkNg4lt"
    },
    {
      "cell_type": "code",
      "metadata": {
        "id": "delayed-newsletter"
      },
      "source": [
        "# Install the mpi4py package\n",
        "!pip -qq install mpi4py"
      ],
      "id": "delayed-newsletter",
      "execution_count": null,
      "outputs": []
    },
    {
      "cell_type": "markdown",
      "metadata": {
        "id": "certain-malta"
      },
      "source": [
        "### Blocking Communication\n",
        "\n",
        "In Blocking communication the process sending a message will be waiting until the process receiving has finished receiving all the information.\n",
        "\n",
        "To know more about Blocking Communication click [here](https://stackoverflow.com/questions/10017301/mpi-blocking-vs-non-blocking#:~:text=BLOCKING%20COMMUNICATION%20%3A%20Blocking%20doesn't,buffer%20is%20available%20for%20reuse.)"
      ],
      "id": "certain-malta"
    },
    {
      "cell_type": "markdown",
      "metadata": {
        "id": "V-GjCG5m58pg"
      },
      "source": [
        "#### Creating a Communicator and Getting rank of each process\n",
        "\n",
        "- A Communicator is a collection of MPI processes that can send and receive messages to and from each other.\n",
        "- A size is a number of processes in a communicator\n",
        "- A Rank is a unique identifier for each process in the communicator\n",
        "\n",
        "To know more about Communicator, size and rank click [here](https://www.codingame.com/playgrounds/349/introduction-to-mpi/mpi_comm_world-size-and-ranks)"
      ],
      "id": "V-GjCG5m58pg"
    },
    {
      "cell_type": "markdown",
      "metadata": {
        "id": "lesser-charge"
      },
      "source": [
        "We will be using magic command **%%writefile** to write the contents of the cell to a file.\n",
        "\n",
        "To know more about magic commands click [here](https://ipython.readthedocs.io/en/stable/interactive/magics.html#)"
      ],
      "id": "lesser-charge"
    },
    {
      "cell_type": "code",
      "metadata": {
        "id": "compliant-garbage"
      },
      "source": [
        "%%writefile rank.py\n",
        "from mpi4py import MPI # Importing mpi4py package from MPI module\n",
        "# Define a function\n",
        "def main():\n",
        "    # creating the communicator\n",
        "    comm = MPI.COMM_WORLD\n",
        "    # number of the process running the code i.e rank\n",
        "    rank = comm.Get_rank()\n",
        "    # total number of processes running i.e size\n",
        "    size = comm.Get_size()\n",
        "    # Displaying the rank and size of a communicator\n",
        "    print(\"rank is {} and size is {}\".format(rank,size))\n",
        "\n",
        "# invoke the function\n",
        "main()"
      ],
      "id": "compliant-garbage",
      "execution_count": null,
      "outputs": []
    },
    {
      "cell_type": "markdown",
      "metadata": {
        "id": "reverse-mexican"
      },
      "source": [
        "To run an MPI code, we commonly use a \"wrapper\" called **mpirun**. Now let us see how we can use the **mpirun** program to execute the above python code using 4 processes. The value after -np is the number of processes to use when running the file of python code saved when executing the previous code cell.\n",
        "\n",
        "To know more about the mpirun click [here](https://docs.oracle.com/cd/E19356-01/820-3176-10/ExecutingPrograms.html#50413574_62903)"
      ],
      "id": "reverse-mexican"
    },
    {
      "cell_type": "code",
      "metadata": {
        "id": "distinct-tiffany"
      },
      "source": [
        "!mpirun --allow-run-as-root --oversubscribe -np 4 python rank.py"
      ],
      "id": "distinct-tiffany",
      "execution_count": null,
      "outputs": []
    },
    {
      "cell_type": "markdown",
      "metadata": {
        "id": "5QWh95iCa1Jm"
      },
      "source": [
        "We can execute the above code using wrapper `mpiexec` instead of wrapper mpirun or as a alternative to it.\n",
        "\n",
        "Hint: [mpiexec](https://www.mpich.org/static/docs/v3.1/www1/mpiexec.html)"
      ],
      "id": "5QWh95iCa1Jm"
    },
    {
      "cell_type": "markdown",
      "metadata": {
        "id": "wound-impossible"
      },
      "source": [
        "#### Exercise\n",
        "\n",
        "- Run the above code, using different number of processes."
      ],
      "id": "wound-impossible"
    },
    {
      "cell_type": "markdown",
      "metadata": {
        "id": "literary-bumper"
      },
      "source": [
        "#### Point-to-point communication\n",
        "\n",
        "The elementary communication operation in MPI is \"point-to-point\" communication, that is, direct communication between two processors, one of which sends and the other receives.\n",
        "\n",
        "![Image](https://cdn.iisc.talentsprint.com/CDS/Images/pointopoint.png)\n",
        "\n",
        "To know more about point-to-point communication click [here](https://www.sciencedirect.com/topics/computer-science/point-to-point-communication)"
      ],
      "id": "literary-bumper"
    },
    {
      "cell_type": "markdown",
      "metadata": {
        "id": "YF1uOchu5yfZ"
      },
      "source": [
        "**Passing an Integer**"
      ],
      "id": "YF1uOchu5yfZ"
    },
    {
      "cell_type": "code",
      "metadata": {
        "id": "powered-qualification"
      },
      "source": [
        "%%writefile comm.py\n",
        "from mpi4py import MPI # Importing mpi4py package from MPI module\n",
        "# Defining a function\n",
        "def main():\n",
        "    # Creating a Communicator\n",
        "    comm = MPI.COMM_WORLD\n",
        "    #number of the process running the code\n",
        "    rank = comm.Get_rank()\n",
        "    # total number of processes running\n",
        "    size = comm.Get_size()\n",
        "    # master process\n",
        "    if rank == 0:\n",
        "        data = 123 # Defining a integer\n",
        "        # master process sends data to worker processes by\n",
        "        # going through the ranks of all worker processes\n",
        "        for i in range(1, size):\n",
        "            # Sending the data to each process\n",
        "            comm.send(data, dest=i, tag=i)\n",
        "            print('Process {} sent data:'.format(rank), data)\n",
        "    # worker processes\n",
        "    else:\n",
        "        # each worker process receives data from master process\n",
        "        data = comm.recv(source=0, tag=rank)\n",
        "        print('Process {} received data:'.format(rank), data)\n",
        "main()"
      ],
      "id": "powered-qualification",
      "execution_count": null,
      "outputs": []
    },
    {
      "cell_type": "markdown",
      "metadata": {
        "id": "comparable-advertiser"
      },
      "source": [
        "Now let us see how we can use the **mpirun** program to execute the above python code using 2 processes. The value after -np is the number of processes to use when running the file of python code saved when executing the previous code cell."
      ],
      "id": "comparable-advertiser"
    },
    {
      "cell_type": "code",
      "metadata": {
        "id": "amended-hampton"
      },
      "source": [
        "!mpirun --allow-run-as-root --oversubscribe -np 2 python comm.py"
      ],
      "id": "amended-hampton",
      "execution_count": null,
      "outputs": []
    },
    {
      "cell_type": "markdown",
      "metadata": {
        "id": "considerable-particular"
      },
      "source": [
        "#### Exercise\n",
        "\n",
        "- Run the above code, using different number of processes."
      ],
      "id": "considerable-particular"
    },
    {
      "cell_type": "markdown",
      "metadata": {
        "id": "latest-growing"
      },
      "source": [
        "**Passing a Python Dictionary**"
      ],
      "id": "latest-growing"
    },
    {
      "cell_type": "code",
      "metadata": {
        "id": "moderate-quantum"
      },
      "source": [
        "%%writefile passing_dict.py\n",
        "from mpi4py import MPI # Importing mpi4py package from MPI module\n",
        "# Defining a function\n",
        "def main():\n",
        "    # Creating a communicator\n",
        "    comm = MPI.COMM_WORLD\n",
        "    # number of the process running the code\n",
        "    rank = comm.Get_rank()\n",
        "    # total number of processes running\n",
        "    size = comm.Get_size()\n",
        "    # master process\n",
        "    if rank == 0:\n",
        "        # Generate a dictionary with arbitrary data in it\n",
        "        data = {'States' : [\"Hyderabad\", \"Goa\", \"Punjab\"]}\n",
        "        # master process sends data to worker processes by\n",
        "        # going through the ranks of all worker processes\n",
        "        for i in range(1, size):\n",
        "            # Sending data\n",
        "            comm.send(data, dest=i, tag=i)\n",
        "            # Displaying the results\n",
        "            print('Process {} sent data:'.format(rank), data)\n",
        "    # worker processes\n",
        "    else:\n",
        "        # each worker process receives data from master process\n",
        "        data = comm.recv(source=0, tag=rank)\n",
        "        # Displaying the results\n",
        "        print('Process {} received data:'.format(rank), data)\n",
        "# Calling the function\n",
        "main()"
      ],
      "id": "moderate-quantum",
      "execution_count": null,
      "outputs": []
    },
    {
      "cell_type": "markdown",
      "metadata": {
        "id": "shaped-inflation"
      },
      "source": [
        "Now let us see how we can use the **mpirun** program to execute the above python code using 3 processes. The value after -np is the number of processes to use when running the file of python code saved when executing the previous code cell."
      ],
      "id": "shaped-inflation"
    },
    {
      "cell_type": "code",
      "metadata": {
        "id": "compact-linux"
      },
      "source": [
        "!mpirun --allow-run-as-root --oversubscribe -np 3 python passing_dict.py"
      ],
      "id": "compact-linux",
      "execution_count": null,
      "outputs": []
    },
    {
      "cell_type": "markdown",
      "metadata": {
        "id": "chicken-moldova"
      },
      "source": [
        "#### Exercise\n",
        "\n",
        "- Run the above code, using different number of processes."
      ],
      "id": "chicken-moldova"
    },
    {
      "cell_type": "markdown",
      "metadata": {
        "id": "restricted-bouquet"
      },
      "source": [
        "#### Research Question\n",
        "\n",
        "- Write a code to send and receive a Tuple, List, NumPy array, and User Input from one process to another process."
      ],
      "id": "restricted-bouquet"
    },
    {
      "cell_type": "markdown",
      "metadata": {
        "id": "3YNkcmUz6J8p"
      },
      "source": [
        "###  Non-blocking communication\n",
        "\n",
        "So far we have seen how to send and receive messages using blocking communication. In this case, the sender or receiver is not able to perform any other actions until the corresponding message has been sent or received.\n",
        "\n",
        "Blocking communication has a number of disadvantages. Potential computational time is simply wasted while waiting for the call to complete. An alternate approach is to allow the program to continue execution while the messages are being sent or received. This is known as **non-blocking communication.**\n",
        "\n",
        "To know more about Non-blocking communication click [here](https://www.mpi-forum.org/docs/mpi-1.1/mpi-11-html/node44.html#:~:text=A%20nonblocking%20send%20start%20call,out%20of%20the%20send%20buffer.)"
      ],
      "id": "3YNkcmUz6J8p"
    },
    {
      "cell_type": "markdown",
      "metadata": {
        "id": "amateur-adobe"
      },
      "source": [
        "Now let us create a non-blocking version of the send and receive program. Note there is no need to wait after process 1 sends the message, nor after process 0 sends the reply. However it is necessary for process 1 to wait for the reply so that it knows the message has been fully received before trying to print it out. Similarly, process 0 must wait for the full message before trying to compute randNum * 2."
      ],
      "id": "amateur-adobe"
    },
    {
      "cell_type": "code",
      "metadata": {
        "id": "boolean-success"
      },
      "source": [
        "%%writefile nonblockingarray.py\n",
        "from mpi4py import MPI # Importing mpi4py package from MPI module\n",
        "import numpy as np # Importing Numpy Package undername np\n",
        "# Defining a function\n",
        "def main():\n",
        "    # Creating a communicator\n",
        "    comm = MPI.COMM_WORLD\n",
        "    # number of the process running the code\n",
        "    rank = comm.Get_rank()\n",
        "    # Generating a random number\n",
        "    randNum = np.zeros(1)\n",
        "    # Generating a random float value in the open interval\n",
        "    diffNum = np.random.random_sample(1)\n",
        "    if rank == 1:\n",
        "        # Generating a random float value in the open interval\n",
        "        randNum = np.random.random_sample(1)\n",
        "        # Display the results\n",
        "        print(\"Process\", rank, \"drew the number\", randNum[0])\n",
        "        # Sending the random number to the processes\n",
        "        comm.Isend(randNum, dest=0)\n",
        "        # Receiving the Passed random number from the process\n",
        "        req = comm.Irecv(randNum, source=0)\n",
        "        # Waiting for the reply\n",
        "        req.Wait()\n",
        "        # Displaying the received random number\n",
        "        print(\"Process\", rank, \"received the number\", randNum[0])\n",
        "    if rank == 0:\n",
        "        # Displaying the results before receiving the number\n",
        "        print(\"Process\", rank, \"before receiving has the number\", randNum[0])\n",
        "        # Receiving the randomNumber\n",
        "        req = comm.Irecv(randNum, source=1)\n",
        "        # Waiting for the reply\n",
        "        req.Wait()\n",
        "        # Displaying the results\n",
        "        print(\"Process\", rank, \"received the number\", randNum[0])\n",
        "        randNum *= 2\n",
        "        # Sending the random Number\n",
        "        comm.Isend(randNum, dest=1)\n",
        "# Calling the function\n",
        "main()"
      ],
      "id": "boolean-success",
      "execution_count": null,
      "outputs": []
    },
    {
      "cell_type": "markdown",
      "metadata": {
        "id": "legendary-consolidation"
      },
      "source": [
        "Now let us see how we can use the **mpirun** program to execute the above python code using 4 processes. The value after -np is the number of processes to use when running the file of python code saved when executing the previous code cell."
      ],
      "id": "legendary-consolidation"
    },
    {
      "cell_type": "code",
      "metadata": {
        "id": "altered-chase"
      },
      "source": [
        "!mpirun --allow-run-as-root --oversubscribe -np 4 python nonblockingarray.py"
      ],
      "id": "altered-chase",
      "execution_count": null,
      "outputs": []
    },
    {
      "cell_type": "markdown",
      "metadata": {
        "id": "alone-necklace"
      },
      "source": [
        "#### Exercise\n",
        "\n",
        "- Run the above code, using different number of processes."
      ],
      "id": "alone-necklace"
    },
    {
      "cell_type": "markdown",
      "metadata": {
        "id": "Tn7p6QvZ64EZ"
      },
      "source": [
        "**Overlapping communication and computation**\n",
        "\n",
        "Now let us modify the above code so that process 1 overlaps a computation with sending the message and receiving the reply. The computation is to divide diffNum by 3.14 and print the result."
      ],
      "id": "Tn7p6QvZ64EZ"
    },
    {
      "cell_type": "code",
      "metadata": {
        "id": "conditional-silence"
      },
      "source": [
        "%%writefile overlappingCommunication.py\n",
        "from mpi4py import MPI # Importing mpi4py package from MPI module\n",
        "import numpy as np # Importing Numpy Package undername np\n",
        "# Defining a function\n",
        "def main():\n",
        "    # Creating a communicator\n",
        "    comm = MPI.COMM_WORLD\n",
        "    # number of the process running the code\n",
        "    rank = comm.Get_rank()\n",
        "    # Generating a random number\n",
        "    randNum = np.zeros(1)\n",
        "    # Generating a random float value in the open interval\n",
        "    diffNum = np.random.random_sample(1)\n",
        "    if rank == 1:\n",
        "        # Generating a random float value in the open interval\n",
        "        randNum = np.random.random_sample(1)\n",
        "        # Display the results\n",
        "        print(\"Process\", rank, \"drew the number\", randNum[0])\n",
        "        # Sending the random number to the processes\n",
        "        comm.Isend(randNum, dest=0)\n",
        "        diffNum /= 3.14 # overlap communication\n",
        "        # Displaying the result\n",
        "        print(\"diffNum=\", diffNum[0])\n",
        "        # Receiving the Passed random number from the process\n",
        "        req = comm.Irecv(randNum, source=0)\n",
        "        # Waiting for the reply\n",
        "        req.Wait()\n",
        "        # Displaying the received random number\n",
        "        print(\"Process\", rank, \"received the number\", randNum[0])\n",
        "    if rank == 0:\n",
        "        # Displaying the results before receiving the number\n",
        "        print(\"Process\", rank, \"before receiving has the number\", randNum[0])\n",
        "        # Receiving the randomNumber\n",
        "        req = comm.Irecv(randNum, source=1)\n",
        "        # Waiting for the reply\n",
        "        req.Wait()\n",
        "        # Displaying the results\n",
        "        print(\"Process\", rank, \"received the number\", randNum[0])\n",
        "        randNum *= 2\n",
        "        # Sending the random Number\n",
        "        comm.Isend(randNum, dest=1)\n",
        "# Calling the function\n",
        "main()"
      ],
      "id": "conditional-silence",
      "execution_count": null,
      "outputs": []
    },
    {
      "cell_type": "markdown",
      "metadata": {
        "id": "breeding-navigator"
      },
      "source": [
        "Now let us see how we can use the **mpirun** program to execute the above python code using 2 processes. The value after -np is the number of processes to use when running the file of python code saved when executing the previous code cell."
      ],
      "id": "breeding-navigator"
    },
    {
      "cell_type": "code",
      "metadata": {
        "id": "lyric-companion"
      },
      "source": [
        "!mpirun --allow-run-as-root --oversubscribe -np 2 python overlappingCommunication.py"
      ],
      "id": "lyric-companion",
      "execution_count": null,
      "outputs": []
    },
    {
      "cell_type": "markdown",
      "metadata": {
        "id": "respected-album"
      },
      "source": [
        "#### Exercise\n",
        "\n",
        "- Run the above code, using different number of processes."
      ],
      "id": "respected-album"
    },
    {
      "cell_type": "markdown",
      "metadata": {
        "id": "elementary-debut"
      },
      "source": [
        "### Collective Communication\n",
        "\n",
        "In addition to point-to-point communications between individual pairs of processors, MPI includes routines for performing collective communications. These routines allow larger groups of processors to communicate in various ways.\n",
        "\n",
        "Examples of collective communications include broadcast operations, gather and scatter operations, and reduction operations. Now let us try to understand them one by one.\n",
        "\n",
        "To know more about collective communication click [here](https://www.mpi-forum.org/docs/mpi-1.1/mpi-11-html/node64.html#:~:text=Collective%20communication%20is%20defined%20as,members%20of%20a%20group%20(Sec.)"
      ],
      "id": "elementary-debut"
    },
    {
      "cell_type": "markdown",
      "metadata": {
        "id": "spread-radio"
      },
      "source": [
        "#### 1. Broadcast\n",
        "\n",
        "The simplest kind of collective operation is the broadcast. In a broadcast operation a single process sends a copy of some data to all the other processes in a group.\n",
        "\n",
        "The communication pattern of a broadcast looks like this:\n",
        "\n",
        "![Image](https://cdn.iisc.talentsprint.com/CDS/Images/broadcast.png)\n",
        "\n",
        "In the above figure, process zero is the root process, and it has the initial copy of data. All of the other processes receive the copy of data."
      ],
      "id": "spread-radio"
    },
    {
      "cell_type": "markdown",
      "metadata": {
        "id": "alive-migration"
      },
      "source": [
        "**Broadcasting a Python Dictionary**"
      ],
      "id": "alive-migration"
    },
    {
      "cell_type": "code",
      "metadata": {
        "id": "advised-logistics"
      },
      "source": [
        "%%writefile BroadcastingDictionary.py\n",
        "from mpi4py import MPI # Importing mpi4py package from MPI module\n",
        "# Defining a function\n",
        "def main():\n",
        "    comm = MPI.COMM_WORLD\n",
        "    id = comm.Get_rank()            #number of the process running the code\n",
        "    numProcesses = comm.Get_size()  #total number of processes running\n",
        "    if id == 0:\n",
        "        # Generate a dictionary with arbitrary data in it\n",
        "        data = {'States' : [\"Hyderabad\", \"Goa\", \"Punjab\"]}\n",
        "    else:\n",
        "        # start with empty data\n",
        "        data = None\n",
        "    # Broadcasting the data\n",
        "    data = comm.bcast(data, root=0)\n",
        "    # Printing the data along with the id number\n",
        "    print('Rank: ',id,', data: ' ,data)\n",
        "\n",
        "# Calling a function\n",
        "main()"
      ],
      "id": "advised-logistics",
      "execution_count": null,
      "outputs": []
    },
    {
      "cell_type": "markdown",
      "metadata": {
        "id": "spanish-buying"
      },
      "source": [
        "Now let us see how we can use the **mpirun** program to execute the above python code using 4 processes. The value after -np is the number of processes to use when running the file of python code saved when executing the previous code cell."
      ],
      "id": "spanish-buying"
    },
    {
      "cell_type": "code",
      "metadata": {
        "id": "aging-medium"
      },
      "source": [
        "! mpirun --allow-run-as-root --oversubscribe -np 4 python BroadcastingDictionary.py"
      ],
      "id": "aging-medium",
      "execution_count": null,
      "outputs": []
    },
    {
      "cell_type": "markdown",
      "metadata": {
        "id": "exact-portsmouth"
      },
      "source": [
        "#### Exercise\n",
        "\n",
        "- Run the above code, using different number of processes."
      ],
      "id": "exact-portsmouth"
    },
    {
      "cell_type": "markdown",
      "metadata": {
        "id": "measured-netherlands"
      },
      "source": [
        "**Broadcasting a NumPy array**"
      ],
      "id": "measured-netherlands"
    },
    {
      "cell_type": "code",
      "metadata": {
        "id": "arranged-courtesy"
      },
      "source": [
        "%%writefile BroadcastingNumpy.py\n",
        "from mpi4py import MPI # Importing mpi4py package from MPI module\n",
        "import numpy as np # Importing numpy package under a name np\n",
        "# Defining a function\n",
        "def main():\n",
        "    # communicator\n",
        "    comm = MPI.COMM_WORLD\n",
        "    rank = comm.Get_rank()   # number of the process running the code\n",
        "    size = comm.Get_size()   # total number of processes running\n",
        "    if rank == 0:\n",
        "        # Generate a Numpy arary with arbitrary data in it\n",
        "        data = np.ones(4)\n",
        "    else:\n",
        "        # start with empty data\n",
        "        data = None\n",
        "    # Broadcasting the data\n",
        "    data = comm.bcast(data, root=0)\n",
        "    # Printing the results\n",
        "    if rank == 0:\n",
        "        print('Process {} broadcast data:'.format(rank), data)\n",
        "    else:\n",
        "        print('Process {} received data:'.format(rank), data)\n",
        "# Calling the main function\n",
        "main()"
      ],
      "id": "arranged-courtesy",
      "execution_count": null,
      "outputs": []
    },
    {
      "cell_type": "markdown",
      "metadata": {
        "id": "remarkable-telephone"
      },
      "source": [
        "Now let us see how we can use the **mpirun** program to execute the above python code using 3 processes. The value after -np is the number of processes to use when running the file of python code saved when executing the previous code cell."
      ],
      "id": "remarkable-telephone"
    },
    {
      "cell_type": "code",
      "metadata": {
        "id": "friendly-concern"
      },
      "source": [
        "! mpirun --allow-run-as-root --oversubscribe -np 4 python BroadcastingNumpy.py"
      ],
      "id": "friendly-concern",
      "execution_count": null,
      "outputs": []
    },
    {
      "cell_type": "markdown",
      "metadata": {
        "id": "advanced-marketplace"
      },
      "source": [
        "#### Research Question\n",
        "\n",
        "- Write a code to Broadcast a Integer, List, and User Input"
      ],
      "id": "advanced-marketplace"
    },
    {
      "cell_type": "markdown",
      "metadata": {
        "id": "large-wallet"
      },
      "source": [
        "#### 2. Gather and Scatter Operations\n",
        "\n",
        "**Scatter Operation**\n",
        "\n",
        "Scatter takes an array and distributes contiguous sections of it across the ranks of a communicator. The communication pattern of a Scatter looks like this:\n",
        "\n",
        "![Image](https://cdn.iisc.talentsprint.com/CDS/Images/Scatter.png)\n",
        "\n",
        "Broadcast takes a single data element at the root process (the red box) and copies it to all other processes. However the scatter takes an array of elements and distributes the elements in the order of process rank. The first element (in red) goes to process zero, the second element (in green) goes to process one, and so on. Although the root process (process zero) contains the entire array of data, the scatter operation will copy the appropriate element into the receiving buffer of the process.\n",
        "\n",
        "**Gather Operation**\n",
        "\n",
        "The reverse of a scatter is a gather, which takes subsets of an array that are distributed across the ranks, and gathers them back into the full array. The communication pattern of a gather looks like this:\n",
        "\n",
        "![Image](https://cdn.iisc.talentsprint.com/CDS/Images/gather.png)\n",
        "\n",
        "Similar to scatter, gather takes elements from each process and gathers them to the root process. The elements are ordered by the rank of the process from which they were received.\n",
        "\n",
        "To know more about Gather and Scatter Operation click [here](https://www.codingame.com/playgrounds/349/introduction-to-mpi/scattering-and-gathering)"
      ],
      "id": "large-wallet"
    },
    {
      "cell_type": "markdown",
      "metadata": {
        "id": "turkish-investment"
      },
      "source": [
        "**Scatter Operation on a NumPy Array**"
      ],
      "id": "turkish-investment"
    },
    {
      "cell_type": "code",
      "metadata": {
        "id": "organic-government"
      },
      "source": [
        "%%writefile ScatteringNumpyArray.py\n",
        "from mpi4py import MPI # Importing mpi4py package from MPI module\n",
        "import numpy as np # Importing numpy package under a name np\n",
        "# Defining a function\n",
        "def main():\n",
        "    # communicator\n",
        "    comm = MPI.COMM_WORLD\n",
        "    rank = comm.Get_rank()   # number of the process running the code\n",
        "    size = comm.Get_size()   # total number of processes running\n",
        "    numDataPerRank = 10   # Number of elements in a array for each rank\n",
        "    data = None # Starting with an empty  data\n",
        "    if rank == 0:\n",
        "        # Creating a Numpy array.\n",
        "        data = np.linspace(1, size * numDataPerRank,numDataPerRank * size)\n",
        "    # when size = 2 (using -n 2), data = [1.0:20.0]\n",
        "    recvbuf = np.empty(numDataPerRank, dtype='d') # allocate space for recvbuf\n",
        "    # scatter operation\n",
        "    comm.Scatter(data, recvbuf, root=0)\n",
        "    # Displaying the result\n",
        "    print('Rank: ',rank, ', recvbuf received: ',recvbuf)\n",
        "# Calling the main function\n",
        "main()"
      ],
      "id": "organic-government",
      "execution_count": null,
      "outputs": []
    },
    {
      "cell_type": "markdown",
      "metadata": {
        "id": "framed-mortality"
      },
      "source": [
        "Now let us see how we can use the **mpirun** program to execute the above python code using 6 processes. The value after -np is the number of processes to use when running the file of python code saved when executing the previous code cell."
      ],
      "id": "framed-mortality"
    },
    {
      "cell_type": "code",
      "metadata": {
        "id": "clear-constitutional"
      },
      "source": [
        "! mpirun --allow-run-as-root --oversubscribe -np 6 python ScatteringNumpyArray.py"
      ],
      "id": "clear-constitutional",
      "execution_count": null,
      "outputs": []
    },
    {
      "cell_type": "markdown",
      "metadata": {
        "id": "afraid-coast"
      },
      "source": [
        "#### Exercise\n",
        "\n",
        "- Run the above code, using different number of processes."
      ],
      "id": "afraid-coast"
    },
    {
      "cell_type": "markdown",
      "metadata": {
        "id": "challenging-sequence"
      },
      "source": [
        "**Gather Operation on a NumPy Array**"
      ],
      "id": "challenging-sequence"
    },
    {
      "cell_type": "code",
      "metadata": {
        "id": "atmospheric-engineering"
      },
      "source": [
        "%%writefile GatherringNumPyArray.py\n",
        "from mpi4py import MPI # Importing mpi4py package from MPI module\n",
        "import numpy as np # Importing numpy package under a name np\n",
        "# Defining a function\n",
        "def main():\n",
        "    # communicator\n",
        "    comm = MPI.COMM_WORLD\n",
        "    rank = comm.Get_rank()   # number of the process running the code\n",
        "    size = comm.Get_size()   # total number of processes running\n",
        "    numDataPerRank = 10   # Number of elements in a array for each rank\n",
        "    # Creating a sender buffer array\n",
        "    sendbuf = np.linspace(rank * numDataPerRank + 1,(rank + 1) * numDataPerRank,numDataPerRank)\n",
        "    # Printing the result\n",
        "    print('Rank: ',rank, ', sendbuf: ',sendbuf)\n",
        "    recvbuf = None\n",
        "    if rank == 0:\n",
        "        # Creating a receiver buffer array\n",
        "        recvbuf = np.empty(numDataPerRank * size, dtype='d')\n",
        "    # Gathering the Information\n",
        "    comm.Gather(sendbuf, recvbuf, root = 0)\n",
        "    # Display the result\n",
        "    if rank == 0:\n",
        "        print('Rank: ',rank, ', recvbuf received: ',recvbuf)\n",
        "# Calling a function\n",
        "main()"
      ],
      "id": "atmospheric-engineering",
      "execution_count": null,
      "outputs": []
    },
    {
      "cell_type": "markdown",
      "metadata": {
        "id": "caring-security"
      },
      "source": [
        "Now let us see how we can use the **mpirun** program to execute the above python code using 2 processes. The value after -np is the number of processes to use when running the file of python code saved when executing the previous code cell."
      ],
      "id": "caring-security"
    },
    {
      "cell_type": "code",
      "metadata": {
        "id": "located-express"
      },
      "source": [
        "! mpirun --allow-run-as-root --oversubscribe -np 2 python GatherringNumPyArray.py"
      ],
      "id": "located-express",
      "execution_count": null,
      "outputs": []
    },
    {
      "cell_type": "markdown",
      "metadata": {
        "id": "aggressive-playing"
      },
      "source": [
        "#### Exercise\n",
        "\n",
        "- Run the above code, using different number of processes."
      ],
      "id": "aggressive-playing"
    },
    {
      "cell_type": "markdown",
      "metadata": {
        "id": "passing-tooth"
      },
      "source": [
        "#### Research Question\n",
        "\n",
        "- Write a code to perform Gather and Scatter operation on a Python List"
      ],
      "id": "passing-tooth"
    },
    {
      "cell_type": "markdown",
      "metadata": {
        "id": "metallic-thompson"
      },
      "source": [
        "#### 3. Reduction Operation\n",
        "\n",
        "Reduce is a classic concept from functional programming. Data reduction involves reducing a set of numbers into a smaller set of numbers via a function. For example, let’s say we have a list of numbers [1, 2, 3, 4, 5]. Reducing this list of numbers with the sum function would produce sum([1, 2, 3, 4, 5]) = 15. Similarly, the multiplication reduction would yield multiply([1, 2, 3, 4, 5]) = 120.\n",
        "\n",
        "The communication pattern of a reduction looks like this:\n",
        "\n",
        "![Image](https://cdn.iisc.talentsprint.com/CDS/Images/reduction.png)\n",
        "\n",
        "In the above image, each process contains one integer. The reduction operation is called with a root process of 0 and using MPI_SUM as the reduction operation. The four numbers are summed to the result and stored on the root process.\n",
        "\n",
        "It is also useful to see what happens when processes contain multiple elements. The illustration below shows reduction of multiple numbers per process.\n",
        "\n",
        "![Image](https://cdn.iisc.talentsprint.com/CDS/Images/reduction1.png)\n",
        "\n",
        "To know more about reduction operation click [here](https://www.codingame.com/playgrounds/349/introduction-to-mpi/reductions)"
      ],
      "id": "metallic-thompson"
    },
    {
      "cell_type": "markdown",
      "metadata": {
        "id": "unlikely-beach"
      },
      "source": [
        "**Reduction Operation on all values of Array using sum and max**"
      ],
      "id": "unlikely-beach"
    },
    {
      "cell_type": "code",
      "metadata": {
        "id": "familiar-sally"
      },
      "source": [
        "%%writefile ReducingNumpyArray.py\n",
        "from mpi4py import MPI # Importing mpi4py package from MPI module\n",
        "import numpy as np # Importing numpy package under a name np\n",
        "# Defining a function\n",
        "def main():\n",
        "    # communicator\n",
        "    comm = MPI.COMM_WORLD\n",
        "    rank = comm.Get_rank()   # number of the process running the code\n",
        "    size = comm.Get_size()   # total number of processes running\n",
        "    # Create numpy arrays on each process: For this experiment, the arrays have only one\n",
        "    # entry that is assigned to be the rank of the processor\n",
        "    value = np.array(rank,'d')\n",
        "    # Displaying the value and its rank\n",
        "    print(' Rank: ',rank, ' value = ', value)\n",
        "    # initialize the np arrays that will store the results:\n",
        "    value_sum      = np.array(0.0,'d')\n",
        "    value_max      = np.array(0.0,'d')\n",
        "    # perform the reductions:\n",
        "    comm.Reduce(value, value_sum, op=MPI.SUM, root=0)\n",
        "    comm.Reduce(value, value_max, op=MPI.MAX, root=0)\n",
        "    # Displaying the result\n",
        "    if rank == 0:\n",
        "        print(' Rank 0: value_sum =    ',value_sum)\n",
        "        print(' Rank 0: value_max =    ',value_max)\n",
        "# Calling a function\n",
        "main()"
      ],
      "id": "familiar-sally",
      "execution_count": null,
      "outputs": []
    },
    {
      "cell_type": "markdown",
      "metadata": {
        "id": "liquid-reserve"
      },
      "source": [
        "Now let us see how we can use the **mpirun** program to execute the above python code using 5 processes. The value after -np is the number of processes to use when running the file of python code saved when executing the previous code cell."
      ],
      "id": "liquid-reserve"
    },
    {
      "cell_type": "code",
      "metadata": {
        "id": "excess-senegal"
      },
      "source": [
        "! mpirun --allow-run-as-root --oversubscribe -np 2 python ReducingNumpyArray.py"
      ],
      "id": "excess-senegal",
      "execution_count": null,
      "outputs": []
    },
    {
      "cell_type": "markdown",
      "metadata": {
        "id": "useful-shape"
      },
      "source": [
        "#### Exercise\n",
        "\n",
        "- Run the above code, using different number of processes."
      ],
      "id": "useful-shape"
    },
    {
      "cell_type": "markdown",
      "metadata": {
        "id": "random-gross"
      },
      "source": [
        "#### Research Question\n",
        "\n",
        "- Try replacing MPI.MAX with MPI.MIN(minimum) and/or replacing MPI.SUM with MPI.PROD (product). Then save and run the code again.\n",
        "- Write a code to perform reduction operation on values of a list"
      ],
      "id": "random-gross"
    },
    {
      "cell_type": "markdown",
      "metadata": {
        "id": "VHfHdGCP_n6Y"
      },
      "source": [
        "### Please answer the questions below to complete the experiment:\n",
        "\n",
        "\n"
      ],
      "id": "VHfHdGCP_n6Y"
    },
    {
      "cell_type": "code",
      "metadata": {
        "id": "VgSwVENIPcM6"
      },
      "source": [
        "# @title Mark the following statement as TRUE or FALSE: Scatter sends the same piece of data to all processes while Broadcast sends sections of an array to different processes { run: \"auto\", form-width: \"500px\", display-mode: \"form\" }\n",
        "Answer = \"\" #@param [\"\",\"TRUE\",\"FALSE\"]"
      ],
      "id": "VgSwVENIPcM6",
      "execution_count": null,
      "outputs": []
    },
    {
      "cell_type": "code",
      "metadata": {
        "id": "NMzKSbLIgFzQ"
      },
      "source": [
        "#@title How was the experiment? { run: \"auto\", form-width: \"500px\", display-mode: \"form\" }\n",
        "Complexity = \"\" #@param [\"\",\"Too Simple, I am wasting time\", \"Good, But Not Challenging for me\", \"Good and Challenging for me\", \"Was Tough, but I did it\", \"Too Difficult for me\"]\n"
      ],
      "id": "NMzKSbLIgFzQ",
      "execution_count": null,
      "outputs": []
    },
    {
      "cell_type": "code",
      "metadata": {
        "id": "DjcH1VWSFI2l"
      },
      "source": [
        "#@title If it was too easy, what more would you have liked to be added? If it was very difficult, what would you have liked to have been removed? { run: \"auto\", display-mode: \"form\" }\n",
        "Additional = \"\" #@param {type:\"string\"}\n"
      ],
      "id": "DjcH1VWSFI2l",
      "execution_count": null,
      "outputs": []
    },
    {
      "cell_type": "code",
      "metadata": {
        "id": "4VBk_4VTAxCM"
      },
      "source": [
        "#@title Can you identify the concepts from the lecture which this experiment covered? { run: \"auto\", vertical-output: true, display-mode: \"form\" }\n",
        "Concepts = \"\" #@param [\"\",\"Yes\", \"No\"]\n"
      ],
      "id": "4VBk_4VTAxCM",
      "execution_count": null,
      "outputs": []
    },
    {
      "cell_type": "code",
      "metadata": {
        "id": "XH91cL1JWH7m"
      },
      "source": [
        "#@title  Text and image description/explanation and code comments within the experiment: { run: \"auto\", vertical-output: true, display-mode: \"form\" }\n",
        "Comments = \"\" #@param [\"\",\"Very Useful\", \"Somewhat Useful\", \"Not Useful\", \"Didn't use\"]\n"
      ],
      "id": "XH91cL1JWH7m",
      "execution_count": null,
      "outputs": []
    },
    {
      "cell_type": "code",
      "metadata": {
        "id": "z8xLqj7VWIKW"
      },
      "source": [
        "#@title Mentor Support: { run: \"auto\", vertical-output: true, display-mode: \"form\" }\n",
        "Mentor_support = \"\" #@param [\"\",\"Very Useful\", \"Somewhat Useful\", \"Not Useful\", \"Didn't use\"]\n"
      ],
      "id": "z8xLqj7VWIKW",
      "execution_count": null,
      "outputs": []
    },
    {
      "cell_type": "code",
      "metadata": {
        "id": "FzAZHt1zw-Y-",
        "cellView": "form"
      },
      "source": [
        "#@title Run this cell to submit your notebook for grading { vertical-output: true }\n",
        "try:\n",
        "  if submission_id:\n",
        "      return_id = submit_notebook()\n",
        "      if return_id : submission_id = return_id\n",
        "  else:\n",
        "      print(\"Please complete the setup first.\")\n",
        "except NameError:\n",
        "  print (\"Please complete the setup first.\")"
      ],
      "id": "FzAZHt1zw-Y-",
      "execution_count": null,
      "outputs": []
    }
  ]
}