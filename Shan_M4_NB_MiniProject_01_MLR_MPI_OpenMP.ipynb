{
  "nbformat": 4,
  "nbformat_minor": 5,
  "metadata": {
    "colab": {
      "provenance": [],
      "include_colab_link": true
    },
    "kernelspec": {
      "display_name": "Python 3",
      "name": "python3"
    },
    "language_info": {
      "codemirror_mode": {
        "name": "ipython",
        "version": 3
      },
      "file_extension": ".py",
      "mimetype": "text/x-python",
      "name": "python",
      "nbconvert_exporter": "python",
      "pygments_lexer": "ipython3",
      "version": "3.6.7rc1"
    }
  },
  "cells": [
    {
      "cell_type": "markdown",
      "metadata": {
        "id": "view-in-github",
        "colab_type": "text"
      },
      "source": [
        "<a href=\"https://colab.research.google.com/github/shanvelc/module4/blob/main/Shan_M4_NB_MiniProject_01_MLR_MPI_OpenMP.ipynb\" target=\"_parent\"><img src=\"https://colab.research.google.com/assets/colab-badge.svg\" alt=\"Open In Colab\"/></a>"
      ]
    },
    {
      "cell_type": "markdown",
      "metadata": {
        "id": "heated-queens"
      },
      "source": [
        "# Advanced Certification Program in Computational Data Science\n",
        "## A program by IISc and TalentSprint\n",
        "### Mini-Project: Implementation of Multiple Linear Regression using MPI and OpenMP"
      ],
      "id": "heated-queens"
    },
    {
      "cell_type": "markdown",
      "metadata": {
        "id": "military-proportion"
      },
      "source": [
        "## Learning Objectives"
      ],
      "id": "military-proportion"
    },
    {
      "cell_type": "markdown",
      "metadata": {
        "id": "durable-grounds"
      },
      "source": [
        "At the end of the mini-project, you will be able to :\n",
        "\n",
        "* understand the collective communication operations like scatter, gather, broadcast\n",
        "* understand the blocking and non-blocking communication\n",
        "* implement multiple linear regression and run it using MPI\n",
        "* implement the multiple linear regression based predictions using OpenMP"
      ],
      "id": "durable-grounds"
    },
    {
      "cell_type": "markdown",
      "metadata": {
        "id": "growing-queens"
      },
      "source": [
        "### Dataset"
      ],
      "id": "growing-queens"
    },
    {
      "cell_type": "markdown",
      "metadata": {
        "id": "yLwz-D_xVT8o"
      },
      "source": [
        "The dataset chosen for this mini-project is [Combined Cycle Power Plant](https://archive.ics.uci.edu/ml/datasets/combined+cycle+power+plant). The dataset is made up of 9568 records and 5 columns. Each record contains the values for Ambient Temperature, Exhaust Vaccum, Ambient Pressure, Relative Humidity and Energy Output.\n",
        "\n",
        "Predicting full load electrical power output of a base load power plant is important in order to maximize the profit from the available megawatt hours.  The base load operation of a power plant is influenced by four main parameters, which are used as input variables in the dataset, such as ambient temperature, atmospheric pressure, relative humidity, and exhaust steam pressure. These parameters affect electrical power output, which is considered as the target variable.\n",
        "\n",
        "**Note:** The data was collected over a six year period (2006-11)."
      ],
      "id": "yLwz-D_xVT8o"
    },
    {
      "cell_type": "markdown",
      "metadata": {
        "id": "dominant-residence"
      },
      "source": [
        "## Information"
      ],
      "id": "dominant-residence"
    },
    {
      "cell_type": "markdown",
      "metadata": {
        "id": "coated-timing"
      },
      "source": [
        "#### MPI in a Nutshell\n",
        "\n",
        "MPI stands for \"Message Passing Interface\". It is a library of functions (in C / Python) or subroutines (in Fortran) that you insert into source code to perform data communication between processes. MPI was developed over two years of discussions led by the MPI Forum, a group of roughly sixty people representing some forty organizations.\n",
        "\n",
        "To know more about MPI click [here](https://hpc-tutorials.llnl.gov/mpi/)\n",
        "\n",
        "\n",
        "#### Multiple Linear Regression\n",
        "\n",
        "Multiple regression is an extension of simple linear regression. It is used when we want to predict the value of a variable based on the value of two or more other variables. The variable we want to predict is called the dependent variable (or sometimes, the outcome, target or criterion variable). The variables we are using to predict the value of the dependent variable are called the independent variables (or sometimes, the predictor, explanatory or regressor variables)."
      ],
      "id": "coated-timing"
    },
    {
      "cell_type": "markdown",
      "metadata": {
        "id": "global-savings"
      },
      "source": [
        "**Note:** We will be using the mpi4py Python package for MPI based code implementation"
      ],
      "id": "global-savings"
    },
    {
      "cell_type": "markdown",
      "metadata": {
        "id": "ndQNKsjS7c04"
      },
      "source": [
        "## Grading = 20 Points"
      ],
      "id": "ndQNKsjS7c04"
    },
    {
      "cell_type": "markdown",
      "metadata": {
        "id": "green-deviation"
      },
      "source": [
        "**Run the below code to install mpi4py package**"
      ],
      "id": "green-deviation"
    },
    {
      "cell_type": "markdown",
      "metadata": {
        "id": "dedicated-thong"
      },
      "source": [
        "#### Importing Necessary Packages"
      ],
      "id": "dedicated-thong"
    },
    {
      "cell_type": "code",
      "metadata": {
        "id": "reported-acrobat",
        "scrolled": true
      },
      "source": [
        "# Importing pandas\n",
        "import pandas as pd\n",
        "# Importing Numpy\n",
        "import numpy as np\n",
        "# Importing sqrt function from the Math\n",
        "from math import sqrt\n",
        "# Importing Decimal, ROUND_HALF_UP functions from the decimal package\n",
        "from decimal import Decimal, ROUND_HALF_UP\n",
        "import time"
      ],
      "id": "reported-acrobat",
      "execution_count": 1,
      "outputs": []
    },
    {
      "cell_type": "markdown",
      "metadata": {
        "id": "standing-zimbabwe"
      },
      "source": [
        "#### Downloading the data"
      ],
      "id": "standing-zimbabwe"
    },
    {
      "cell_type": "code",
      "metadata": {
        "id": "universal-jonathan",
        "scrolled": true
      },
      "source": [
        "#@title Download the data\n",
        "!wget -qq https://cdn.iisc.talentsprint.com/CDS/Datasets/PowerPlantData.csv"
      ],
      "id": "universal-jonathan",
      "execution_count": 2,
      "outputs": []
    },
    {
      "cell_type": "markdown",
      "metadata": {
        "id": "forty-still"
      },
      "source": [
        "### Overview\n",
        "\n",
        "* Load the data and perform data pre-processing\n",
        "* Identify the features, target and split the data into train and test\n",
        "* Implement multiple Linear Regression by estimating the coefficients on the given data\n",
        "* Use MPI package to distribute the data and implement `communicator`\n",
        "* Define functions for each objective and make a script (.py) file to execute using MPI command\n",
        "* Use OpenMP component to predict the data and calculate the error on the predicted data\n",
        "* Implement the Linear Regression from `sklearn` and compare the results"
      ],
      "id": "forty-still"
    },
    {
      "cell_type": "markdown",
      "metadata": {
        "id": "early-peace"
      },
      "source": [
        "#### Exercise 1: Load data (1 point)\n",
        "\n",
        "Write a function that takes the filename as input and loads the data in a pandas dataframe with the column names as Ambient Temperature, Exhaust Vaccum, Ambient Pressure, Relative Humidity and Energy Output respectively.\n",
        "\n",
        "**Hint:** read_csv()\n"
      ],
      "id": "early-peace"
    },
    {
      "cell_type": "code",
      "metadata": {
        "id": "differential-vacation",
        "scrolled": true
      },
      "source": [
        "FILENAME = \"/content/PowerPlantData.csv\" # File path\n",
        "\n",
        "# YOUR CODE HERE to Define a function to load the data\n",
        "def loadData(filename):\n",
        "  return pd.read_csv(filename, names= ['AmbientTemperature', 'ExhaustVaccum', 'AmbientPressure', 'RelativeHumidity', 'EnergyOutput'], header=0)"
      ],
      "id": "differential-vacation",
      "execution_count": 3,
      "outputs": []
    },
    {
      "cell_type": "code",
      "source": [
        "df = loadData(FILENAME)\n",
        "df.head()"
      ],
      "metadata": {
        "id": "OxXbwz_b8NQj",
        "colab": {
          "base_uri": "https://localhost:8080/",
          "height": 206
        },
        "outputId": "3fb63cde-19f9-431f-cc8d-012eca874155"
      },
      "id": "OxXbwz_b8NQj",
      "execution_count": 4,
      "outputs": [
        {
          "output_type": "execute_result",
          "data": {
            "text/plain": [
              "   AmbientTemperature  ExhaustVaccum  AmbientPressure  RelativeHumidity  \\\n",
              "0                8.34          40.77          1010.84             90.01   \n",
              "1               23.64          58.49          1011.40             74.20   \n",
              "2               29.74          56.90          1007.15             41.91   \n",
              "3               19.07          49.69          1007.22             76.79   \n",
              "4               11.80          40.66          1017.13             97.20   \n",
              "\n",
              "   EnergyOutput  \n",
              "0        480.48  \n",
              "1        445.75  \n",
              "2        438.76  \n",
              "3        453.09  \n",
              "4        464.43  "
            ],
            "text/html": [
              "\n",
              "  <div id=\"df-a0d9c042-b8cc-4cad-abae-cdbb8c36a431\" class=\"colab-df-container\">\n",
              "    <div>\n",
              "<style scoped>\n",
              "    .dataframe tbody tr th:only-of-type {\n",
              "        vertical-align: middle;\n",
              "    }\n",
              "\n",
              "    .dataframe tbody tr th {\n",
              "        vertical-align: top;\n",
              "    }\n",
              "\n",
              "    .dataframe thead th {\n",
              "        text-align: right;\n",
              "    }\n",
              "</style>\n",
              "<table border=\"1\" class=\"dataframe\">\n",
              "  <thead>\n",
              "    <tr style=\"text-align: right;\">\n",
              "      <th></th>\n",
              "      <th>AmbientTemperature</th>\n",
              "      <th>ExhaustVaccum</th>\n",
              "      <th>AmbientPressure</th>\n",
              "      <th>RelativeHumidity</th>\n",
              "      <th>EnergyOutput</th>\n",
              "    </tr>\n",
              "  </thead>\n",
              "  <tbody>\n",
              "    <tr>\n",
              "      <th>0</th>\n",
              "      <td>8.34</td>\n",
              "      <td>40.77</td>\n",
              "      <td>1010.84</td>\n",
              "      <td>90.01</td>\n",
              "      <td>480.48</td>\n",
              "    </tr>\n",
              "    <tr>\n",
              "      <th>1</th>\n",
              "      <td>23.64</td>\n",
              "      <td>58.49</td>\n",
              "      <td>1011.40</td>\n",
              "      <td>74.20</td>\n",
              "      <td>445.75</td>\n",
              "    </tr>\n",
              "    <tr>\n",
              "      <th>2</th>\n",
              "      <td>29.74</td>\n",
              "      <td>56.90</td>\n",
              "      <td>1007.15</td>\n",
              "      <td>41.91</td>\n",
              "      <td>438.76</td>\n",
              "    </tr>\n",
              "    <tr>\n",
              "      <th>3</th>\n",
              "      <td>19.07</td>\n",
              "      <td>49.69</td>\n",
              "      <td>1007.22</td>\n",
              "      <td>76.79</td>\n",
              "      <td>453.09</td>\n",
              "    </tr>\n",
              "    <tr>\n",
              "      <th>4</th>\n",
              "      <td>11.80</td>\n",
              "      <td>40.66</td>\n",
              "      <td>1017.13</td>\n",
              "      <td>97.20</td>\n",
              "      <td>464.43</td>\n",
              "    </tr>\n",
              "  </tbody>\n",
              "</table>\n",
              "</div>\n",
              "    <div class=\"colab-df-buttons\">\n",
              "\n",
              "  <div class=\"colab-df-container\">\n",
              "    <button class=\"colab-df-convert\" onclick=\"convertToInteractive('df-a0d9c042-b8cc-4cad-abae-cdbb8c36a431')\"\n",
              "            title=\"Convert this dataframe to an interactive table.\"\n",
              "            style=\"display:none;\">\n",
              "\n",
              "  <svg xmlns=\"http://www.w3.org/2000/svg\" height=\"24px\" viewBox=\"0 -960 960 960\">\n",
              "    <path d=\"M120-120v-720h720v720H120Zm60-500h600v-160H180v160Zm220 220h160v-160H400v160Zm0 220h160v-160H400v160ZM180-400h160v-160H180v160Zm440 0h160v-160H620v160ZM180-180h160v-160H180v160Zm440 0h160v-160H620v160Z\"/>\n",
              "  </svg>\n",
              "    </button>\n",
              "\n",
              "  <style>\n",
              "    .colab-df-container {\n",
              "      display:flex;\n",
              "      gap: 12px;\n",
              "    }\n",
              "\n",
              "    .colab-df-convert {\n",
              "      background-color: #E8F0FE;\n",
              "      border: none;\n",
              "      border-radius: 50%;\n",
              "      cursor: pointer;\n",
              "      display: none;\n",
              "      fill: #1967D2;\n",
              "      height: 32px;\n",
              "      padding: 0 0 0 0;\n",
              "      width: 32px;\n",
              "    }\n",
              "\n",
              "    .colab-df-convert:hover {\n",
              "      background-color: #E2EBFA;\n",
              "      box-shadow: 0px 1px 2px rgba(60, 64, 67, 0.3), 0px 1px 3px 1px rgba(60, 64, 67, 0.15);\n",
              "      fill: #174EA6;\n",
              "    }\n",
              "\n",
              "    .colab-df-buttons div {\n",
              "      margin-bottom: 4px;\n",
              "    }\n",
              "\n",
              "    [theme=dark] .colab-df-convert {\n",
              "      background-color: #3B4455;\n",
              "      fill: #D2E3FC;\n",
              "    }\n",
              "\n",
              "    [theme=dark] .colab-df-convert:hover {\n",
              "      background-color: #434B5C;\n",
              "      box-shadow: 0px 1px 3px 1px rgba(0, 0, 0, 0.15);\n",
              "      filter: drop-shadow(0px 1px 2px rgba(0, 0, 0, 0.3));\n",
              "      fill: #FFFFFF;\n",
              "    }\n",
              "  </style>\n",
              "\n",
              "    <script>\n",
              "      const buttonEl =\n",
              "        document.querySelector('#df-a0d9c042-b8cc-4cad-abae-cdbb8c36a431 button.colab-df-convert');\n",
              "      buttonEl.style.display =\n",
              "        google.colab.kernel.accessAllowed ? 'block' : 'none';\n",
              "\n",
              "      async function convertToInteractive(key) {\n",
              "        const element = document.querySelector('#df-a0d9c042-b8cc-4cad-abae-cdbb8c36a431');\n",
              "        const dataTable =\n",
              "          await google.colab.kernel.invokeFunction('convertToInteractive',\n",
              "                                                    [key], {});\n",
              "        if (!dataTable) return;\n",
              "\n",
              "        const docLinkHtml = 'Like what you see? Visit the ' +\n",
              "          '<a target=\"_blank\" href=https://colab.research.google.com/notebooks/data_table.ipynb>data table notebook</a>'\n",
              "          + ' to learn more about interactive tables.';\n",
              "        element.innerHTML = '';\n",
              "        dataTable['output_type'] = 'display_data';\n",
              "        await google.colab.output.renderOutput(dataTable, element);\n",
              "        const docLink = document.createElement('div');\n",
              "        docLink.innerHTML = docLinkHtml;\n",
              "        element.appendChild(docLink);\n",
              "      }\n",
              "    </script>\n",
              "  </div>\n",
              "\n",
              "\n",
              "<div id=\"df-ea9e7cb0-4049-42c1-a63e-010fef2ff04b\">\n",
              "  <button class=\"colab-df-quickchart\" onclick=\"quickchart('df-ea9e7cb0-4049-42c1-a63e-010fef2ff04b')\"\n",
              "            title=\"Suggest charts\"\n",
              "            style=\"display:none;\">\n",
              "\n",
              "<svg xmlns=\"http://www.w3.org/2000/svg\" height=\"24px\"viewBox=\"0 0 24 24\"\n",
              "     width=\"24px\">\n",
              "    <g>\n",
              "        <path d=\"M19 3H5c-1.1 0-2 .9-2 2v14c0 1.1.9 2 2 2h14c1.1 0 2-.9 2-2V5c0-1.1-.9-2-2-2zM9 17H7v-7h2v7zm4 0h-2V7h2v10zm4 0h-2v-4h2v4z\"/>\n",
              "    </g>\n",
              "</svg>\n",
              "  </button>\n",
              "\n",
              "<style>\n",
              "  .colab-df-quickchart {\n",
              "      --bg-color: #E8F0FE;\n",
              "      --fill-color: #1967D2;\n",
              "      --hover-bg-color: #E2EBFA;\n",
              "      --hover-fill-color: #174EA6;\n",
              "      --disabled-fill-color: #AAA;\n",
              "      --disabled-bg-color: #DDD;\n",
              "  }\n",
              "\n",
              "  [theme=dark] .colab-df-quickchart {\n",
              "      --bg-color: #3B4455;\n",
              "      --fill-color: #D2E3FC;\n",
              "      --hover-bg-color: #434B5C;\n",
              "      --hover-fill-color: #FFFFFF;\n",
              "      --disabled-bg-color: #3B4455;\n",
              "      --disabled-fill-color: #666;\n",
              "  }\n",
              "\n",
              "  .colab-df-quickchart {\n",
              "    background-color: var(--bg-color);\n",
              "    border: none;\n",
              "    border-radius: 50%;\n",
              "    cursor: pointer;\n",
              "    display: none;\n",
              "    fill: var(--fill-color);\n",
              "    height: 32px;\n",
              "    padding: 0;\n",
              "    width: 32px;\n",
              "  }\n",
              "\n",
              "  .colab-df-quickchart:hover {\n",
              "    background-color: var(--hover-bg-color);\n",
              "    box-shadow: 0 1px 2px rgba(60, 64, 67, 0.3), 0 1px 3px 1px rgba(60, 64, 67, 0.15);\n",
              "    fill: var(--button-hover-fill-color);\n",
              "  }\n",
              "\n",
              "  .colab-df-quickchart-complete:disabled,\n",
              "  .colab-df-quickchart-complete:disabled:hover {\n",
              "    background-color: var(--disabled-bg-color);\n",
              "    fill: var(--disabled-fill-color);\n",
              "    box-shadow: none;\n",
              "  }\n",
              "\n",
              "  .colab-df-spinner {\n",
              "    border: 2px solid var(--fill-color);\n",
              "    border-color: transparent;\n",
              "    border-bottom-color: var(--fill-color);\n",
              "    animation:\n",
              "      spin 1s steps(1) infinite;\n",
              "  }\n",
              "\n",
              "  @keyframes spin {\n",
              "    0% {\n",
              "      border-color: transparent;\n",
              "      border-bottom-color: var(--fill-color);\n",
              "      border-left-color: var(--fill-color);\n",
              "    }\n",
              "    20% {\n",
              "      border-color: transparent;\n",
              "      border-left-color: var(--fill-color);\n",
              "      border-top-color: var(--fill-color);\n",
              "    }\n",
              "    30% {\n",
              "      border-color: transparent;\n",
              "      border-left-color: var(--fill-color);\n",
              "      border-top-color: var(--fill-color);\n",
              "      border-right-color: var(--fill-color);\n",
              "    }\n",
              "    40% {\n",
              "      border-color: transparent;\n",
              "      border-right-color: var(--fill-color);\n",
              "      border-top-color: var(--fill-color);\n",
              "    }\n",
              "    60% {\n",
              "      border-color: transparent;\n",
              "      border-right-color: var(--fill-color);\n",
              "    }\n",
              "    80% {\n",
              "      border-color: transparent;\n",
              "      border-right-color: var(--fill-color);\n",
              "      border-bottom-color: var(--fill-color);\n",
              "    }\n",
              "    90% {\n",
              "      border-color: transparent;\n",
              "      border-bottom-color: var(--fill-color);\n",
              "    }\n",
              "  }\n",
              "</style>\n",
              "\n",
              "  <script>\n",
              "    async function quickchart(key) {\n",
              "      const quickchartButtonEl =\n",
              "        document.querySelector('#' + key + ' button');\n",
              "      quickchartButtonEl.disabled = true;  // To prevent multiple clicks.\n",
              "      quickchartButtonEl.classList.add('colab-df-spinner');\n",
              "      try {\n",
              "        const charts = await google.colab.kernel.invokeFunction(\n",
              "            'suggestCharts', [key], {});\n",
              "      } catch (error) {\n",
              "        console.error('Error during call to suggestCharts:', error);\n",
              "      }\n",
              "      quickchartButtonEl.classList.remove('colab-df-spinner');\n",
              "      quickchartButtonEl.classList.add('colab-df-quickchart-complete');\n",
              "    }\n",
              "    (() => {\n",
              "      let quickchartButtonEl =\n",
              "        document.querySelector('#df-ea9e7cb0-4049-42c1-a63e-010fef2ff04b button');\n",
              "      quickchartButtonEl.style.display =\n",
              "        google.colab.kernel.accessAllowed ? 'block' : 'none';\n",
              "    })();\n",
              "  </script>\n",
              "</div>\n",
              "\n",
              "    </div>\n",
              "  </div>\n"
            ],
            "application/vnd.google.colaboratory.intrinsic+json": {
              "type": "dataframe",
              "variable_name": "df",
              "summary": "{\n  \"name\": \"df\",\n  \"rows\": 9568,\n  \"fields\": [\n    {\n      \"column\": \"AmbientTemperature\",\n      \"properties\": {\n        \"dtype\": \"number\",\n        \"std\": 7.452473229611079,\n        \"min\": 1.81,\n        \"max\": 37.11,\n        \"num_unique_values\": 2773,\n        \"samples\": [\n          11.02,\n          15.61,\n          16.31\n        ],\n        \"semantic_type\": \"\",\n        \"description\": \"\"\n      }\n    },\n    {\n      \"column\": \"ExhaustVaccum\",\n      \"properties\": {\n        \"dtype\": \"number\",\n        \"std\": 12.707892998326809,\n        \"min\": 25.36,\n        \"max\": 81.56,\n        \"num_unique_values\": 634,\n        \"samples\": [\n          76.2,\n          69.05,\n          39.13\n        ],\n        \"semantic_type\": \"\",\n        \"description\": \"\"\n      }\n    },\n    {\n      \"column\": \"AmbientPressure\",\n      \"properties\": {\n        \"dtype\": \"number\",\n        \"std\": 5.938783705811606,\n        \"min\": 992.89,\n        \"max\": 1033.3,\n        \"num_unique_values\": 2517,\n        \"samples\": [\n          1000.98,\n          1002.2,\n          1024.55\n        ],\n        \"semantic_type\": \"\",\n        \"description\": \"\"\n      }\n    },\n    {\n      \"column\": \"RelativeHumidity\",\n      \"properties\": {\n        \"dtype\": \"number\",\n        \"std\": 14.600268756728953,\n        \"min\": 25.56,\n        \"max\": 100.16,\n        \"num_unique_values\": 4546,\n        \"samples\": [\n          66.5,\n          99.14,\n          89.19\n        ],\n        \"semantic_type\": \"\",\n        \"description\": \"\"\n      }\n    },\n    {\n      \"column\": \"EnergyOutput\",\n      \"properties\": {\n        \"dtype\": \"number\",\n        \"std\": 17.06699499980342,\n        \"min\": 420.26,\n        \"max\": 495.76,\n        \"num_unique_values\": 4836,\n        \"samples\": [\n          447.69,\n          443.89,\n          443.02\n        ],\n        \"semantic_type\": \"\",\n        \"description\": \"\"\n      }\n    }\n  ]\n}"
            }
          },
          "metadata": {},
          "execution_count": 4
        }
      ]
    },
    {
      "cell_type": "markdown",
      "metadata": {
        "id": "italian-expense"
      },
      "source": [
        "#### Exercise 2: Explore data (1 point)\n",
        "\n",
        "Write a function that takes the data loaded using the above defined function as input and explore it.\n",
        "\n",
        "**Hint:** You can define and check for following things in the dataset inside a function\n",
        "\n",
        "- checking for the number of rows and columns\n",
        "- summary of the dataset\n",
        "- check for the null values\n",
        "- check for the duplicate values"
      ],
      "id": "italian-expense"
    },
    {
      "cell_type": "code",
      "metadata": {
        "id": "local-quarter",
        "scrolled": true
      },
      "source": [
        "# YOUR CODE HERE\n",
        "def exploreData(df):\n",
        "  print('Number of rows: {}'.format(df.shape[0]))\n",
        "  print('Number of columns: {}'.format(df.shape[1]))\n",
        "  print('Dataset Summary', df.describe())\n",
        "  print('Null Values', df.isnull().sum())\n",
        "  print('Duplicate Values', df.duplicated().sum())\n",
        "  return None"
      ],
      "id": "local-quarter",
      "execution_count": 5,
      "outputs": []
    },
    {
      "cell_type": "code",
      "source": [
        "exploreData(df)"
      ],
      "metadata": {
        "id": "XnwxRDWj-T_F",
        "colab": {
          "base_uri": "https://localhost:8080/"
        },
        "outputId": "70c0c178-e25f-499d-cccb-89df387d49dd"
      },
      "id": "XnwxRDWj-T_F",
      "execution_count": 6,
      "outputs": [
        {
          "output_type": "stream",
          "name": "stdout",
          "text": [
            "Number of rows: 9568\n",
            "Number of columns: 5\n",
            "Dataset Summary        AmbientTemperature  ExhaustVaccum  AmbientPressure  RelativeHumidity  \\\n",
            "count         9568.000000    9568.000000      9568.000000       9568.000000   \n",
            "mean            19.651231      54.305804      1013.259078         73.308978   \n",
            "std              7.452473      12.707893         5.938784         14.600269   \n",
            "min              1.810000      25.360000       992.890000         25.560000   \n",
            "25%             13.510000      41.740000      1009.100000         63.327500   \n",
            "50%             20.345000      52.080000      1012.940000         74.975000   \n",
            "75%             25.720000      66.540000      1017.260000         84.830000   \n",
            "max             37.110000      81.560000      1033.300000        100.160000   \n",
            "\n",
            "       EnergyOutput  \n",
            "count   9568.000000  \n",
            "mean     454.365009  \n",
            "std       17.066995  \n",
            "min      420.260000  \n",
            "25%      439.750000  \n",
            "50%      451.550000  \n",
            "75%      468.430000  \n",
            "max      495.760000  \n",
            "Null Values AmbientTemperature    0\n",
            "ExhaustVaccum         0\n",
            "AmbientPressure       0\n",
            "RelativeHumidity      0\n",
            "EnergyOutput          0\n",
            "dtype: int64\n",
            "Duplicate Values 41\n"
          ]
        }
      ]
    },
    {
      "cell_type": "markdown",
      "metadata": {
        "id": "whole-retailer"
      },
      "source": [
        "#### Exercise 3: Handle missing data (1 point)\n",
        "\n",
        "After exploring the dataset if there are any null values present in the dataset then define a function that takes data loaded using the above defined function as input and handle the null values accordingly.\n",
        "\n",
        "**Hint:**\n",
        "\n",
        "- Drop the records containing the null values - dropna()\n",
        "- Replace the null values with the mean/median/mode - fillna()"
      ],
      "id": "whole-retailer"
    },
    {
      "cell_type": "code",
      "metadata": {
        "id": "incorporated-child",
        "scrolled": true
      },
      "source": [
        "# Function to handle missing data\n",
        "\n",
        "# YOUR CODE HERE\n",
        "def handleMissingData(df):\n",
        "  df.dropna(inplace=True)\n",
        "  df.fillna(df.mean(), inplace=True)\n",
        "  return df"
      ],
      "id": "incorporated-child",
      "execution_count": 7,
      "outputs": []
    },
    {
      "cell_type": "code",
      "source": [
        "df = handleMissingData(df)\n",
        "exploreData(df)"
      ],
      "metadata": {
        "id": "-YCntj-s-zTF",
        "colab": {
          "base_uri": "https://localhost:8080/"
        },
        "outputId": "eeb5eba3-111e-4684-a5db-6383dd5dae30"
      },
      "id": "-YCntj-s-zTF",
      "execution_count": 8,
      "outputs": [
        {
          "output_type": "stream",
          "name": "stdout",
          "text": [
            "Number of rows: 9568\n",
            "Number of columns: 5\n",
            "Dataset Summary        AmbientTemperature  ExhaustVaccum  AmbientPressure  RelativeHumidity  \\\n",
            "count         9568.000000    9568.000000      9568.000000       9568.000000   \n",
            "mean            19.651231      54.305804      1013.259078         73.308978   \n",
            "std              7.452473      12.707893         5.938784         14.600269   \n",
            "min              1.810000      25.360000       992.890000         25.560000   \n",
            "25%             13.510000      41.740000      1009.100000         63.327500   \n",
            "50%             20.345000      52.080000      1012.940000         74.975000   \n",
            "75%             25.720000      66.540000      1017.260000         84.830000   \n",
            "max             37.110000      81.560000      1033.300000        100.160000   \n",
            "\n",
            "       EnergyOutput  \n",
            "count   9568.000000  \n",
            "mean     454.365009  \n",
            "std       17.066995  \n",
            "min      420.260000  \n",
            "25%      439.750000  \n",
            "50%      451.550000  \n",
            "75%      468.430000  \n",
            "max      495.760000  \n",
            "Null Values AmbientTemperature    0\n",
            "ExhaustVaccum         0\n",
            "AmbientPressure       0\n",
            "RelativeHumidity      0\n",
            "EnergyOutput          0\n",
            "dtype: int64\n",
            "Duplicate Values 41\n"
          ]
        }
      ]
    },
    {
      "cell_type": "markdown",
      "metadata": {
        "id": "loaded-arbitration"
      },
      "source": [
        "#### Exercise 4: Scale the data (1 point)\n",
        "\n",
        "Write a function that takes the data after handling the missing data as input and returns the standardized data.\n",
        "\n",
        "**Hint:**\n",
        "\n",
        "- standardization of the data  can be performed using the below formula\n",
        "\n",
        "$ (x - mean(x)) / std(x) $"
      ],
      "id": "loaded-arbitration"
    },
    {
      "cell_type": "code",
      "metadata": {
        "id": "extraordinary-qatar",
        "scrolled": true
      },
      "source": [
        "# Defining a function to standardize the data\n",
        "\n",
        "# YOUR CODE HERE\n",
        "def scaleData(df):\n",
        "  return (df - df.mean())/df.std()"
      ],
      "id": "extraordinary-qatar",
      "execution_count": 9,
      "outputs": []
    },
    {
      "cell_type": "code",
      "source": [
        "df = scaleData(df)\n",
        "df.head()"
      ],
      "metadata": {
        "id": "co66Dtcj_GIa",
        "colab": {
          "base_uri": "https://localhost:8080/",
          "height": 206
        },
        "outputId": "7769a0b6-4875-47e4-af0d-ee1ee2de5be8"
      },
      "id": "co66Dtcj_GIa",
      "execution_count": 10,
      "outputs": [
        {
          "output_type": "execute_result",
          "data": {
            "text/plain": [
              "   AmbientTemperature  ExhaustVaccum  AmbientPressure  RelativeHumidity  \\\n",
              "0           -1.517782      -1.065149        -0.407336          1.143885   \n",
              "1            0.535228       0.329260        -0.313040          0.061028   \n",
              "2            1.353748       0.204141        -1.028675         -2.150575   \n",
              "3           -0.077992      -0.363223        -1.016888          0.238422   \n",
              "4           -1.053507      -1.073805         0.651804          1.636341   \n",
              "\n",
              "   EnergyOutput  \n",
              "0      1.530146  \n",
              "1     -0.504776  \n",
              "2     -0.914338  \n",
              "3     -0.074706  \n",
              "4      0.589734  "
            ],
            "text/html": [
              "\n",
              "  <div id=\"df-9126c2ec-aa9d-416c-8c28-15ef60c53ebb\" class=\"colab-df-container\">\n",
              "    <div>\n",
              "<style scoped>\n",
              "    .dataframe tbody tr th:only-of-type {\n",
              "        vertical-align: middle;\n",
              "    }\n",
              "\n",
              "    .dataframe tbody tr th {\n",
              "        vertical-align: top;\n",
              "    }\n",
              "\n",
              "    .dataframe thead th {\n",
              "        text-align: right;\n",
              "    }\n",
              "</style>\n",
              "<table border=\"1\" class=\"dataframe\">\n",
              "  <thead>\n",
              "    <tr style=\"text-align: right;\">\n",
              "      <th></th>\n",
              "      <th>AmbientTemperature</th>\n",
              "      <th>ExhaustVaccum</th>\n",
              "      <th>AmbientPressure</th>\n",
              "      <th>RelativeHumidity</th>\n",
              "      <th>EnergyOutput</th>\n",
              "    </tr>\n",
              "  </thead>\n",
              "  <tbody>\n",
              "    <tr>\n",
              "      <th>0</th>\n",
              "      <td>-1.517782</td>\n",
              "      <td>-1.065149</td>\n",
              "      <td>-0.407336</td>\n",
              "      <td>1.143885</td>\n",
              "      <td>1.530146</td>\n",
              "    </tr>\n",
              "    <tr>\n",
              "      <th>1</th>\n",
              "      <td>0.535228</td>\n",
              "      <td>0.329260</td>\n",
              "      <td>-0.313040</td>\n",
              "      <td>0.061028</td>\n",
              "      <td>-0.504776</td>\n",
              "    </tr>\n",
              "    <tr>\n",
              "      <th>2</th>\n",
              "      <td>1.353748</td>\n",
              "      <td>0.204141</td>\n",
              "      <td>-1.028675</td>\n",
              "      <td>-2.150575</td>\n",
              "      <td>-0.914338</td>\n",
              "    </tr>\n",
              "    <tr>\n",
              "      <th>3</th>\n",
              "      <td>-0.077992</td>\n",
              "      <td>-0.363223</td>\n",
              "      <td>-1.016888</td>\n",
              "      <td>0.238422</td>\n",
              "      <td>-0.074706</td>\n",
              "    </tr>\n",
              "    <tr>\n",
              "      <th>4</th>\n",
              "      <td>-1.053507</td>\n",
              "      <td>-1.073805</td>\n",
              "      <td>0.651804</td>\n",
              "      <td>1.636341</td>\n",
              "      <td>0.589734</td>\n",
              "    </tr>\n",
              "  </tbody>\n",
              "</table>\n",
              "</div>\n",
              "    <div class=\"colab-df-buttons\">\n",
              "\n",
              "  <div class=\"colab-df-container\">\n",
              "    <button class=\"colab-df-convert\" onclick=\"convertToInteractive('df-9126c2ec-aa9d-416c-8c28-15ef60c53ebb')\"\n",
              "            title=\"Convert this dataframe to an interactive table.\"\n",
              "            style=\"display:none;\">\n",
              "\n",
              "  <svg xmlns=\"http://www.w3.org/2000/svg\" height=\"24px\" viewBox=\"0 -960 960 960\">\n",
              "    <path d=\"M120-120v-720h720v720H120Zm60-500h600v-160H180v160Zm220 220h160v-160H400v160Zm0 220h160v-160H400v160ZM180-400h160v-160H180v160Zm440 0h160v-160H620v160ZM180-180h160v-160H180v160Zm440 0h160v-160H620v160Z\"/>\n",
              "  </svg>\n",
              "    </button>\n",
              "\n",
              "  <style>\n",
              "    .colab-df-container {\n",
              "      display:flex;\n",
              "      gap: 12px;\n",
              "    }\n",
              "\n",
              "    .colab-df-convert {\n",
              "      background-color: #E8F0FE;\n",
              "      border: none;\n",
              "      border-radius: 50%;\n",
              "      cursor: pointer;\n",
              "      display: none;\n",
              "      fill: #1967D2;\n",
              "      height: 32px;\n",
              "      padding: 0 0 0 0;\n",
              "      width: 32px;\n",
              "    }\n",
              "\n",
              "    .colab-df-convert:hover {\n",
              "      background-color: #E2EBFA;\n",
              "      box-shadow: 0px 1px 2px rgba(60, 64, 67, 0.3), 0px 1px 3px 1px rgba(60, 64, 67, 0.15);\n",
              "      fill: #174EA6;\n",
              "    }\n",
              "\n",
              "    .colab-df-buttons div {\n",
              "      margin-bottom: 4px;\n",
              "    }\n",
              "\n",
              "    [theme=dark] .colab-df-convert {\n",
              "      background-color: #3B4455;\n",
              "      fill: #D2E3FC;\n",
              "    }\n",
              "\n",
              "    [theme=dark] .colab-df-convert:hover {\n",
              "      background-color: #434B5C;\n",
              "      box-shadow: 0px 1px 3px 1px rgba(0, 0, 0, 0.15);\n",
              "      filter: drop-shadow(0px 1px 2px rgba(0, 0, 0, 0.3));\n",
              "      fill: #FFFFFF;\n",
              "    }\n",
              "  </style>\n",
              "\n",
              "    <script>\n",
              "      const buttonEl =\n",
              "        document.querySelector('#df-9126c2ec-aa9d-416c-8c28-15ef60c53ebb button.colab-df-convert');\n",
              "      buttonEl.style.display =\n",
              "        google.colab.kernel.accessAllowed ? 'block' : 'none';\n",
              "\n",
              "      async function convertToInteractive(key) {\n",
              "        const element = document.querySelector('#df-9126c2ec-aa9d-416c-8c28-15ef60c53ebb');\n",
              "        const dataTable =\n",
              "          await google.colab.kernel.invokeFunction('convertToInteractive',\n",
              "                                                    [key], {});\n",
              "        if (!dataTable) return;\n",
              "\n",
              "        const docLinkHtml = 'Like what you see? Visit the ' +\n",
              "          '<a target=\"_blank\" href=https://colab.research.google.com/notebooks/data_table.ipynb>data table notebook</a>'\n",
              "          + ' to learn more about interactive tables.';\n",
              "        element.innerHTML = '';\n",
              "        dataTable['output_type'] = 'display_data';\n",
              "        await google.colab.output.renderOutput(dataTable, element);\n",
              "        const docLink = document.createElement('div');\n",
              "        docLink.innerHTML = docLinkHtml;\n",
              "        element.appendChild(docLink);\n",
              "      }\n",
              "    </script>\n",
              "  </div>\n",
              "\n",
              "\n",
              "<div id=\"df-34db80a1-29b6-4ced-87e8-91d33ad654f7\">\n",
              "  <button class=\"colab-df-quickchart\" onclick=\"quickchart('df-34db80a1-29b6-4ced-87e8-91d33ad654f7')\"\n",
              "            title=\"Suggest charts\"\n",
              "            style=\"display:none;\">\n",
              "\n",
              "<svg xmlns=\"http://www.w3.org/2000/svg\" height=\"24px\"viewBox=\"0 0 24 24\"\n",
              "     width=\"24px\">\n",
              "    <g>\n",
              "        <path d=\"M19 3H5c-1.1 0-2 .9-2 2v14c0 1.1.9 2 2 2h14c1.1 0 2-.9 2-2V5c0-1.1-.9-2-2-2zM9 17H7v-7h2v7zm4 0h-2V7h2v10zm4 0h-2v-4h2v4z\"/>\n",
              "    </g>\n",
              "</svg>\n",
              "  </button>\n",
              "\n",
              "<style>\n",
              "  .colab-df-quickchart {\n",
              "      --bg-color: #E8F0FE;\n",
              "      --fill-color: #1967D2;\n",
              "      --hover-bg-color: #E2EBFA;\n",
              "      --hover-fill-color: #174EA6;\n",
              "      --disabled-fill-color: #AAA;\n",
              "      --disabled-bg-color: #DDD;\n",
              "  }\n",
              "\n",
              "  [theme=dark] .colab-df-quickchart {\n",
              "      --bg-color: #3B4455;\n",
              "      --fill-color: #D2E3FC;\n",
              "      --hover-bg-color: #434B5C;\n",
              "      --hover-fill-color: #FFFFFF;\n",
              "      --disabled-bg-color: #3B4455;\n",
              "      --disabled-fill-color: #666;\n",
              "  }\n",
              "\n",
              "  .colab-df-quickchart {\n",
              "    background-color: var(--bg-color);\n",
              "    border: none;\n",
              "    border-radius: 50%;\n",
              "    cursor: pointer;\n",
              "    display: none;\n",
              "    fill: var(--fill-color);\n",
              "    height: 32px;\n",
              "    padding: 0;\n",
              "    width: 32px;\n",
              "  }\n",
              "\n",
              "  .colab-df-quickchart:hover {\n",
              "    background-color: var(--hover-bg-color);\n",
              "    box-shadow: 0 1px 2px rgba(60, 64, 67, 0.3), 0 1px 3px 1px rgba(60, 64, 67, 0.15);\n",
              "    fill: var(--button-hover-fill-color);\n",
              "  }\n",
              "\n",
              "  .colab-df-quickchart-complete:disabled,\n",
              "  .colab-df-quickchart-complete:disabled:hover {\n",
              "    background-color: var(--disabled-bg-color);\n",
              "    fill: var(--disabled-fill-color);\n",
              "    box-shadow: none;\n",
              "  }\n",
              "\n",
              "  .colab-df-spinner {\n",
              "    border: 2px solid var(--fill-color);\n",
              "    border-color: transparent;\n",
              "    border-bottom-color: var(--fill-color);\n",
              "    animation:\n",
              "      spin 1s steps(1) infinite;\n",
              "  }\n",
              "\n",
              "  @keyframes spin {\n",
              "    0% {\n",
              "      border-color: transparent;\n",
              "      border-bottom-color: var(--fill-color);\n",
              "      border-left-color: var(--fill-color);\n",
              "    }\n",
              "    20% {\n",
              "      border-color: transparent;\n",
              "      border-left-color: var(--fill-color);\n",
              "      border-top-color: var(--fill-color);\n",
              "    }\n",
              "    30% {\n",
              "      border-color: transparent;\n",
              "      border-left-color: var(--fill-color);\n",
              "      border-top-color: var(--fill-color);\n",
              "      border-right-color: var(--fill-color);\n",
              "    }\n",
              "    40% {\n",
              "      border-color: transparent;\n",
              "      border-right-color: var(--fill-color);\n",
              "      border-top-color: var(--fill-color);\n",
              "    }\n",
              "    60% {\n",
              "      border-color: transparent;\n",
              "      border-right-color: var(--fill-color);\n",
              "    }\n",
              "    80% {\n",
              "      border-color: transparent;\n",
              "      border-right-color: var(--fill-color);\n",
              "      border-bottom-color: var(--fill-color);\n",
              "    }\n",
              "    90% {\n",
              "      border-color: transparent;\n",
              "      border-bottom-color: var(--fill-color);\n",
              "    }\n",
              "  }\n",
              "</style>\n",
              "\n",
              "  <script>\n",
              "    async function quickchart(key) {\n",
              "      const quickchartButtonEl =\n",
              "        document.querySelector('#' + key + ' button');\n",
              "      quickchartButtonEl.disabled = true;  // To prevent multiple clicks.\n",
              "      quickchartButtonEl.classList.add('colab-df-spinner');\n",
              "      try {\n",
              "        const charts = await google.colab.kernel.invokeFunction(\n",
              "            'suggestCharts', [key], {});\n",
              "      } catch (error) {\n",
              "        console.error('Error during call to suggestCharts:', error);\n",
              "      }\n",
              "      quickchartButtonEl.classList.remove('colab-df-spinner');\n",
              "      quickchartButtonEl.classList.add('colab-df-quickchart-complete');\n",
              "    }\n",
              "    (() => {\n",
              "      let quickchartButtonEl =\n",
              "        document.querySelector('#df-34db80a1-29b6-4ced-87e8-91d33ad654f7 button');\n",
              "      quickchartButtonEl.style.display =\n",
              "        google.colab.kernel.accessAllowed ? 'block' : 'none';\n",
              "    })();\n",
              "  </script>\n",
              "</div>\n",
              "\n",
              "    </div>\n",
              "  </div>\n"
            ],
            "application/vnd.google.colaboratory.intrinsic+json": {
              "type": "dataframe",
              "variable_name": "df",
              "summary": "{\n  \"name\": \"df\",\n  \"rows\": 9568,\n  \"fields\": [\n    {\n      \"column\": \"AmbientTemperature\",\n      \"properties\": {\n        \"dtype\": \"number\",\n        \"std\": 1.0,\n        \"min\": -2.3940013788177064,\n        \"max\": 2.3426811844609805,\n        \"num_unique_values\": 2773,\n        \"samples\": [\n          -1.1581700358206326,\n          -0.542267118952384,\n          -0.4483385695389257\n        ],\n        \"semantic_type\": \"\",\n        \"description\": \"\"\n      }\n    },\n    {\n      \"column\": \"ExhaustVaccum\",\n      \"properties\": {\n        \"dtype\": \"number\",\n        \"std\": 1.0,\n        \"min\": -2.2777815114234086,\n        \"max\": 2.1446668053352864,\n        \"num_unique_values\": 634,\n        \"samples\": [\n          1.7228816989682652,\n          1.1602392529749432,\n          -1.19420298256634\n        ],\n        \"semantic_type\": \"\",\n        \"description\": \"\"\n      }\n    },\n    {\n      \"column\": \"AmbientPressure\",\n      \"properties\": {\n        \"dtype\": \"number\",\n        \"std\": 1.0,\n        \"min\": -3.429840045752908,\n        \"max\": 3.374583553721734,\n        \"num_unique_values\": 2517,\n        \"samples\": [\n          -2.067608248679161,\n          -1.8621789789103105,\n          1.901217889395994\n        ],\n        \"semantic_type\": \"\",\n        \"description\": \"\"\n      }\n    },\n    {\n      \"column\": \"RelativeHumidity\",\n      \"properties\": {\n        \"dtype\": \"number\",\n        \"std\": 1.0,\n        \"min\": -3.2704177326052895,\n        \"max\": 1.8390772529317707,\n        \"num_unique_values\": 4546,\n        \"samples\": [\n          -0.4663597606496964,\n          1.769215525247484,\n          1.087721220876254\n        ],\n        \"semantic_type\": \"\",\n        \"description\": \"\"\n      }\n    },\n    {\n      \"column\": \"EnergyOutput\",\n      \"properties\": {\n        \"dtype\": \"number\",\n        \"std\": 0.9999999999999999,\n        \"min\": -1.998301951031648,\n        \"max\": 2.425441068806913,\n        \"num_unique_values\": 4836,\n        \"samples\": [\n          -0.39110630819493597,\n          -0.6137582747563477,\n          -0.6647338565743551\n        ],\n        \"semantic_type\": \"\",\n        \"description\": \"\"\n      }\n    }\n  ]\n}"
            }
          },
          "metadata": {},
          "execution_count": 10
        }
      ]
    },
    {
      "cell_type": "markdown",
      "metadata": {
        "id": "thermal-rehabilitation"
      },
      "source": [
        "#### Exercise 5: Feature selection (1 point)\n",
        "\n",
        "Write a function that takes scaled data as input and returns the features and target variable values\n",
        "\n",
        "**Hint:**\n",
        "\n",
        "- Features: AmbientTemperature, ExhaustVaccum, AmbientPressure, RelativeHumidity\n",
        "- Target Variable: EnergyOutput"
      ],
      "id": "thermal-rehabilitation"
    },
    {
      "cell_type": "code",
      "metadata": {
        "id": "terminal-starter",
        "scrolled": true
      },
      "source": [
        "# Define a function\n",
        "\n",
        "# YOUR CODE HERE\n",
        "def featureTargetSplit(df):\n",
        "  features = df.drop('EnergyOutput', axis=1)\n",
        "  target = df['EnergyOutput']\n",
        "  return features, target"
      ],
      "id": "terminal-starter",
      "execution_count": 11,
      "outputs": []
    },
    {
      "cell_type": "code",
      "source": [
        "features, target = featureTargetSplit(df)\n",
        "print(features.head())\n",
        "print(target.head())"
      ],
      "metadata": {
        "id": "oUfCDj8H_QlV",
        "colab": {
          "base_uri": "https://localhost:8080/"
        },
        "outputId": "78b78f4f-eac7-4bf2-ac7f-8371e5c38595"
      },
      "id": "oUfCDj8H_QlV",
      "execution_count": 12,
      "outputs": [
        {
          "output_type": "stream",
          "name": "stdout",
          "text": [
            "   AmbientTemperature  ExhaustVaccum  AmbientPressure  RelativeHumidity\n",
            "0           -1.517782      -1.065149        -0.407336          1.143885\n",
            "1            0.535228       0.329260        -0.313040          0.061028\n",
            "2            1.353748       0.204141        -1.028675         -2.150575\n",
            "3           -0.077992      -0.363223        -1.016888          0.238422\n",
            "4           -1.053507      -1.073805         0.651804          1.636341\n",
            "0    1.530146\n",
            "1   -0.504776\n",
            "2   -0.914338\n",
            "3   -0.074706\n",
            "4    0.589734\n",
            "Name: EnergyOutput, dtype: float64\n"
          ]
        }
      ]
    },
    {
      "cell_type": "markdown",
      "metadata": {
        "id": "timely-bruce"
      },
      "source": [
        "#### Exercise 6: Correlation (1 point)\n",
        "\n",
        "Calculate correlation between the variables"
      ],
      "id": "timely-bruce"
    },
    {
      "cell_type": "code",
      "metadata": {
        "id": "durable-making",
        "scrolled": true,
        "colab": {
          "base_uri": "https://localhost:8080/",
          "height": 568
        },
        "outputId": "1386e9cb-772f-4dd7-8552-8d9b3497f9c3"
      },
      "source": [
        "# YOUR CODE HERE\n",
        "#df.corr().style.background_gradient(cmap='coolwarm')\n",
        "\n",
        "import seaborn as sns\n",
        "import matplotlib.pyplot as plt\n",
        "sns.heatmap(df.corr(), cmap='RdBu')\n",
        "plt.show()"
      ],
      "id": "durable-making",
      "execution_count": 13,
      "outputs": [
        {
          "output_type": "display_data",
          "data": {
            "text/plain": [
              "<Figure size 640x480 with 2 Axes>"
            ],
            "image/png": "[encoded data removed]"
          },
          "metadata": {}
        }
      ]
    },
    {
      "cell_type": "markdown",
      "metadata": {
        "id": "honest-remainder"
      },
      "source": [
        "#### Exercise 7: Estimate the coefficients (2 points)\n",
        "\n",
        "Write a function that takes features and target as input and returns the estimated coefficient values\n",
        "\n",
        "**Hint:**\n",
        "\n",
        "- Calculate the estimated coefficients using the below formula\n",
        "\n",
        "$ β = (X^T X)^{-1} X^T y $\n",
        "\n",
        "- transpose(), np.linalg.inv()"
      ],
      "id": "honest-remainder"
    },
    {
      "cell_type": "code",
      "metadata": {
        "id": "dimensional-victory",
        "scrolled": true
      },
      "source": [
        "# Calculating the coeffients\n",
        "\n",
        "# YOUR CODE HERE\n",
        "def estimated_coefficients(x, y):\n",
        "  return np.linalg.inv(x.T.dot(x)).dot(x.T).dot(y)"
      ],
      "id": "dimensional-victory",
      "execution_count": 14,
      "outputs": []
    },
    {
      "cell_type": "code",
      "source": [
        "coefficients = estimated_coefficients(features, target)\n",
        "print(coefficients)"
      ],
      "metadata": {
        "id": "FTWWGzEKA1-G",
        "colab": {
          "base_uri": "https://localhost:8080/"
        },
        "outputId": "a361e75d-aa05-4fdb-d165-5227b5fb1d40"
      },
      "id": "FTWWGzEKA1-G",
      "execution_count": 15,
      "outputs": [
        {
          "output_type": "stream",
          "name": "stdout",
          "text": [
            "[-0.86350078 -0.17417154  0.02160293 -0.13521023]\n"
          ]
        }
      ]
    },
    {
      "cell_type": "markdown",
      "metadata": {
        "id": "interior-bennett"
      },
      "source": [
        "#### Exercise 8: Fit the data to estimate the coefficients (2 points)\n",
        "\n",
        "Write a function named fit which takes features and targets as input and returns the intercept and coefficient values.\n",
        "\n",
        "**Hint:**\n",
        "\n",
        "- create a dummy column in the features dataframe which is made up of all ones\n",
        "- convert the features dataframe into numpy array\n",
        "- call the estimated coefficients function which is defined above\n",
        "- np.ones(), np.concatenate()"
      ],
      "id": "interior-bennett"
    },
    {
      "cell_type": "code",
      "metadata": {
        "id": "local-texas",
        "scrolled": true
      },
      "source": [
        "# defining a fit function\n",
        "def fit(x, y):\n",
        "    # YOUR CODE HERE\n",
        "    x = np.concatenate((np.ones((x.shape[0], 1)), x), axis=1)\n",
        "    return estimated_coefficients(x, y)"
      ],
      "id": "local-texas",
      "execution_count": 77,
      "outputs": []
    },
    {
      "cell_type": "code",
      "source": [
        "coefficients = fit(features, target)\n",
        "print(coefficients)"
      ],
      "metadata": {
        "id": "U2zklwGCEcXx",
        "colab": {
          "base_uri": "https://localhost:8080/"
        },
        "outputId": "276672d3-b7bc-4017-c2cc-8c9ab626b885"
      },
      "id": "U2zklwGCEcXx",
      "execution_count": 17,
      "outputs": [
        {
          "output_type": "stream",
          "name": "stdout",
          "text": [
            "[-1.59030775e-15 -8.63500780e-01 -1.74171544e-01  2.16029345e-02\n",
            " -1.35210234e-01]\n"
          ]
        }
      ]
    },
    {
      "cell_type": "markdown",
      "metadata": {
        "id": "hybrid-quick"
      },
      "source": [
        "#### Exercise 9: Predict the data on estimated coefficients (1 point)\n",
        "\n",
        "Write a function named predict which takes features, intercept and coefficient values as input and returns the predicted values.\n",
        "\n",
        "**Hint:**\n",
        "\n",
        "- Fit the intercept, coefficients values in the below equation\n",
        "\n",
        "  $y = b_0 + b_1*x + ... + b_i*x_i$"
      ],
      "id": "hybrid-quick"
    },
    {
      "cell_type": "code",
      "metadata": {
        "id": "buried-attention",
        "scrolled": true
      },
      "source": [
        " # fucntion to predict the values\n",
        "def predict(x, intercept, coefficients):\n",
        "    '''\n",
        "    y = b_0 + b_1*x + ... + b_i*x_i\n",
        "    '''\n",
        "    #YOUR CODE HERE\n",
        "    predictions = intercept + np.dot(x, coefficients)\n",
        "\n",
        "    return predictions"
      ],
      "id": "buried-attention",
      "execution_count": 78,
      "outputs": []
    },
    {
      "cell_type": "code",
      "source": [
        "predictions = predict(features, coefficients[0], coefficients[1:])\n",
        "print(predictions)"
      ],
      "metadata": {
        "id": "TviTh6s_DSu5",
        "colab": {
          "base_uri": "https://localhost:8080/"
        },
        "outputId": "eff1a5cd-2775-42cb-a373-47f1840cbeb6"
      },
      "id": "TviTh6s_DSu5",
      "execution_count": 19,
      "outputs": [
        {
          "output_type": "stream",
          "name": "stdout",
          "text": [
            "[ 1.33266027 -0.53453122 -0.93596031 ...  0.52838115 -0.02266325\n",
            " -0.41153611]\n"
          ]
        }
      ]
    },
    {
      "cell_type": "markdown",
      "metadata": {
        "id": "rolled-consultancy"
      },
      "source": [
        "#### Exercise 10: Root mean squared error (1 point)\n",
        "\n",
        "Write a function to calculate the RMSE error.\n",
        "\n",
        "**Hint:**\n",
        "\n",
        "- [How to calculate the RSME error](https://towardsdatascience.com/what-does-rmse-really-mean-806b65f2e48e)"
      ],
      "id": "rolled-consultancy"
    },
    {
      "cell_type": "code",
      "metadata": {
        "id": "phantom-alabama",
        "scrolled": true
      },
      "source": [
        "# Define a function to calculate the error\n",
        "from sklearn.metrics import mean_squared_error\n",
        "# YOUR CODE HERE\n",
        "def rmse(actual, predicted):\n",
        "  return sqrt(mean_squared_error(actual, predicted))"
      ],
      "id": "phantom-alabama",
      "execution_count": 20,
      "outputs": []
    },
    {
      "cell_type": "code",
      "source": [
        "error = rmse(target, predictions)\n",
        "print(error)"
      ],
      "metadata": {
        "id": "sDOGO2JWEtZL",
        "colab": {
          "base_uri": "https://localhost:8080/"
        },
        "outputId": "967fef60-2e1e-4c48-d0e4-19fa5da1ac1e"
      },
      "id": "sDOGO2JWEtZL",
      "execution_count": 21,
      "outputs": [
        {
          "output_type": "stream",
          "name": "stdout",
          "text": [
            "0.26701396565722163\n"
          ]
        }
      ]
    },
    {
      "cell_type": "markdown",
      "metadata": {
        "id": "experimental-discrimination"
      },
      "source": [
        "#### Exercise 11: Split the data into train and test (1 point)\n",
        "\n",
        "Write a function named train_test_split which takes features and targets as input and returns the train and test sets respectively.\n",
        "\n",
        "**Hint:**\n",
        "\n",
        "- Shuffle the data\n",
        "- Consider 70 % of data as a train set and the rest of the data as a test set"
      ],
      "id": "experimental-discrimination"
    },
    {
      "cell_type": "code",
      "metadata": {
        "id": "dangerous-salmon",
        "scrolled": true
      },
      "source": [
        "# YOUR CODE HERE\n",
        "from sklearn.model_selection import train_test_split\n",
        "def train_testsplit(x, y):\n",
        "  return train_test_split(x, y, test_size=0.3, shuffle=True)"
      ],
      "id": "dangerous-salmon",
      "execution_count": 22,
      "outputs": []
    },
    {
      "cell_type": "code",
      "source": [
        "x_train, x_test, y_train, y_test = train_test_split(features, target)\n",
        "print(x_train.shape, x_test.shape, y_train.shape, y_test.shape)"
      ],
      "metadata": {
        "id": "Loy-BYHjE2CQ",
        "colab": {
          "base_uri": "https://localhost:8080/"
        },
        "outputId": "70247570-31e2-4377-db56-03aca82619db"
      },
      "id": "Loy-BYHjE2CQ",
      "execution_count": 23,
      "outputs": [
        {
          "output_type": "stream",
          "name": "stdout",
          "text": [
            "(7176, 4) (2392, 4) (7176,) (2392,)\n"
          ]
        }
      ]
    },
    {
      "cell_type": "code",
      "source": [
        "import multiprocessing\n",
        "\n",
        "cpuCount = multiprocessing.cpu_count()\n",
        "print(f\"--- Current CPU has {cpuCount} cores ---\")"
      ],
      "metadata": {
        "id": "m0sVqW1R1aQf",
        "colab": {
          "base_uri": "https://localhost:8080/"
        },
        "outputId": "a8bdca3d-d79e-42ee-9c6a-a22bb670c613"
      },
      "id": "m0sVqW1R1aQf",
      "execution_count": 24,
      "outputs": [
        {
          "output_type": "stream",
          "name": "stdout",
          "text": [
            "--- Current CPU has 2 cores ---\n"
          ]
        }
      ]
    },
    {
      "cell_type": "code",
      "source": [
        "coefficients_train = fit(x_train, y_train)\n",
        "#print(coefficients_train)\n",
        "\n",
        "start_time = time.perf_counter()\n",
        "predictions_test = predict(x_test, coefficients_train[0], coefficients_train[1:])\n",
        "#print(predictions_train)\n",
        "\n",
        "error_train = rmse(y_test, predictions_test)\n",
        "print(error_train)\n",
        "print(f\"--- Time taken {time.perf_counter() - start_time} seconds with 'Sequential' execution on {cpuCount} cores ---\")"
      ],
      "metadata": {
        "id": "Mebatok9F9Zy",
        "colab": {
          "base_uri": "https://localhost:8080/"
        },
        "outputId": "80cce824-973d-43de-86f0-f74047988a00"
      },
      "id": "Mebatok9F9Zy",
      "execution_count": 25,
      "outputs": [
        {
          "output_type": "stream",
          "name": "stdout",
          "text": [
            "0.26384199080344967\n",
            "--- Time taken 0.002828627999974742 seconds with 'Sequential' execution on 2 cores ---\n"
          ]
        }
      ]
    },
    {
      "cell_type": "markdown",
      "metadata": {
        "id": "living-operation"
      },
      "source": [
        "#### Exercise 12: Implement predict using OpenMP (1 point)\n",
        "\n",
        "Get the predictions for test data and calculate the test error(RMSE) by implementing the OpenMP (pymp)\n",
        "\n",
        "**Hints:**\n",
        "\n",
        "* Using the pymp.Parallel implement the predict function (use from above)\n",
        "\n",
        "* Call the predict function by passing test data as an argument\n",
        "\n",
        "* calculate the error (RMSE) by comparing the Actual test data and predicted test data"
      ],
      "id": "living-operation"
    },
    {
      "cell_type": "code",
      "source": [
        "!pip install pymp-pypi"
      ],
      "metadata": {
        "id": "1PndfF9b_mkN",
        "collapsed": true,
        "colab": {
          "base_uri": "https://localhost:8080/"
        },
        "outputId": "e4a33c57-9127-4354-d81d-cc65a139826a"
      },
      "id": "1PndfF9b_mkN",
      "execution_count": 26,
      "outputs": [
        {
          "output_type": "stream",
          "name": "stdout",
          "text": [
            "Collecting pymp-pypi\n",
            "  Downloading pymp-pypi-0.5.0.tar.gz (12 kB)\n",
            "  Preparing metadata (setup.py) ... \u001b[?25l\u001b[?25hdone\n",
            "Building wheels for collected packages: pymp-pypi\n",
            "  Building wheel for pymp-pypi (setup.py) ... \u001b[?25l\u001b[?25hdone\n",
            "  Created wheel for pymp-pypi: filename=pymp_pypi-0.5.0-py3-none-any.whl size=10314 sha256=d6bbf26159092d5c8eb0d98c5462c5202d6b4fe917c5dfc8d58dc60818d2343e\n",
            "  Stored in directory: /root/.cache/pip/wheels/5e/db/4b/4c02f5b91b1abcde14433d1b336ac00a09761383e7bb1013cf\n",
            "Successfully built pymp-pypi\n",
            "Installing collected packages: pymp-pypi\n",
            "Successfully installed pymp-pypi-0.5.0\n"
          ]
        }
      ]
    },
    {
      "cell_type": "code",
      "source": [
        "import pymp\n",
        "# YOUR CODE HERE\n",
        "start_time = time.perf_counter()\n",
        "#cpuCount = 4\n",
        "with pymp.Parallel(cpuCount) as p:\n",
        "    predictions_test = predict(x_test, coefficients_train[0], coefficients_train[1:])\n",
        "    error_test = rmse(y_test, predictions_test)\n",
        "    print(error_test)\n",
        "print(f\"--- Time taken {time.perf_counter() - start_time} seconds during 'Parallel' execution on {cpuCount} cores ---\")"
      ],
      "metadata": {
        "id": "o8DSppnV_wQa",
        "colab": {
          "base_uri": "https://localhost:8080/"
        },
        "outputId": "725fbbd0-0ae2-4a65-f038-79556a5bacdf"
      },
      "id": "o8DSppnV_wQa",
      "execution_count": 27,
      "outputs": [
        {
          "output_type": "stream",
          "name": "stdout",
          "text": [
            "0.26384199080344967\n",
            "0.26384199080344967\n",
            "--- Time taken 0.20162946900001089 seconds during 'Parallel' execution on 2 cores ---\n"
          ]
        }
      ]
    },
    {
      "cell_type": "markdown",
      "metadata": {
        "id": "covered-canon"
      },
      "source": [
        "#### Exercise 13: Create a communicator (1 point)\n",
        "\n",
        "Create a comunicator and define the rank and size"
      ],
      "id": "covered-canon"
    },
    {
      "cell_type": "code",
      "metadata": {
        "id": "designing-marketing",
        "scrolled": true,
        "colab": {
          "base_uri": "https://localhost:8080/"
        },
        "outputId": "360160ea-f28f-462f-80b4-5613d9950fec"
      },
      "source": [
        "!pip install mpi4py"
      ],
      "id": "designing-marketing",
      "execution_count": 28,
      "outputs": [
        {
          "output_type": "stream",
          "name": "stdout",
          "text": [
            "Collecting mpi4py\n",
            "  Downloading mpi4py-4.0.0.tar.gz (464 kB)\n",
            "\u001b[?25l     \u001b[90m━━━━━━━━━━━━━━━━━━━━━━━━━━━━━━━━━━━━━━━━\u001b[0m \u001b[32m0.0/464.8 kB\u001b[0m \u001b[31m?\u001b[0m eta \u001b[36m-:--:--\u001b[0m\r\u001b[2K     \u001b[91m━━━━━━━━━━━━━━━━━━━━\u001b[0m\u001b[90m╺\u001b[0m\u001b[90m━━━━━━━━━━━━━━━━━━━\u001b[0m \u001b[32m235.5/464.8 kB\u001b[0m \u001b[31m8.3 MB/s\u001b[0m eta \u001b[36m0:00:01\u001b[0m\r\u001b[2K     \u001b[90m━━━━━━━━━━━━━━━━━━━━━━━━━━━━━━━━━━━━━━━━\u001b[0m \u001b[32m464.8/464.8 kB\u001b[0m \u001b[31m8.6 MB/s\u001b[0m eta \u001b[36m0:00:00\u001b[0m\n",
            "\u001b[?25h  Installing build dependencies ... \u001b[?25l\u001b[?25hdone\n",
            "  Getting requirements to build wheel ... \u001b[?25l\u001b[?25hdone\n",
            "  Installing backend dependencies ... \u001b[?25l\u001b[?25hdone\n",
            "  Preparing metadata (pyproject.toml) ... \u001b[?25l\u001b[?25hdone\n",
            "Building wheels for collected packages: mpi4py\n",
            "  Building wheel for mpi4py (pyproject.toml) ... \u001b[?25l\u001b[?25hdone\n",
            "  Created wheel for mpi4py: filename=mpi4py-4.0.0-cp310-cp310-linux_x86_64.whl size=4266271 sha256=5e62d0f14a08a8d33cfd3314af637e20ca9b4900a8a2b01d993f6bf7ea461931\n",
            "  Stored in directory: /root/.cache/pip/wheels/96/17/12/83db63ee0ae5c4b040ee87f2e5c813aea4728b55ec6a37317c\n",
            "Successfully built mpi4py\n",
            "Installing collected packages: mpi4py\n",
            "Successfully installed mpi4py-4.0.0\n"
          ]
        }
      ]
    },
    {
      "cell_type": "code",
      "metadata": {
        "id": "radio-origin",
        "scrolled": true,
        "colab": {
          "base_uri": "https://localhost:8080/"
        },
        "outputId": "95eda4ba-dd91-4dd5-96bb-a9b400d0d2c1"
      },
      "source": [
        "%%writefile rank.py\n",
        "from mpi4py import MPI\n",
        "def main():\n",
        "# Initialize the MPI communicator\n",
        "  comm = MPI.COMM_WORLD\n",
        "\n",
        "# Get the rank of the current process\n",
        "  rank = comm.Get_rank()\n",
        "\n",
        "# Get the total number of processes\n",
        "  size = comm.Get_size()\n",
        "\n",
        "# Print rank and size\n",
        "  print(f\"Hello from rank {rank} out of {size} processes.\")\n",
        "main()"
      ],
      "id": "radio-origin",
      "execution_count": 30,
      "outputs": [
        {
          "output_type": "stream",
          "name": "stdout",
          "text": [
            "Writing rank.py\n"
          ]
        }
      ]
    },
    {
      "cell_type": "code",
      "source": [
        "!sudo mpirun --allow-run-as-root --use-hwthread-cpus -np 2 python rank.py"
      ],
      "metadata": {
        "colab": {
          "base_uri": "https://localhost:8080/"
        },
        "id": "B4QdZ29k5R8A",
        "outputId": "8b179dcc-961d-4c9f-9a81-ef25f6a40424"
      },
      "id": "B4QdZ29k5R8A",
      "execution_count": 33,
      "outputs": [
        {
          "output_type": "stream",
          "name": "stdout",
          "text": [
            "Hello from rank 0 out of 2 processes.\n",
            "Hello from rank 1 out of 2 processes.\n"
          ]
        }
      ]
    },
    {
      "cell_type": "markdown",
      "metadata": {
        "id": "miniature-plaza"
      },
      "source": [
        "#### Exercise 14: Divide the data into slices (1 point)\n",
        "\n",
        "Write a function named dividing_data which takes train features set, train target set, and size of workers as inputs and returns the sliced data for each worker.\n",
        "\n",
        "![img](https://cdn.iisc.talentsprint.com/CDS/Images/MiniProject_MPI_DataSlice.JPG)\n",
        "\n",
        "For Example, if there are 4 processes, slice the data into 4 equal parts with 25% ratio\n",
        "\n",
        "**Hint:**\n",
        "\n",
        "- Divide the Data equally among the workers\n",
        "  - Create an empty list\n",
        "  - Iterate over the size of workers\n",
        "  - Append each slice of data to the list"
      ],
      "id": "miniature-plaza"
    },
    {
      "cell_type": "code",
      "source": [
        "slice_for_each_worker = int(Decimal(x_train.shape[0] / 3).quantize(Decimal('1.'), rounding=ROUND_HALF_UP))\n",
        "slice_for_each_worker"
      ],
      "metadata": {
        "colab": {
          "base_uri": "https://localhost:8080/"
        },
        "id": "qS83iOsU72CM",
        "outputId": "9d89349f-3c59-4d75-ad91-a67b708e9ea8"
      },
      "id": "qS83iOsU72CM",
      "execution_count": 40,
      "outputs": [
        {
          "output_type": "execute_result",
          "data": {
            "text/plain": [
              "2392"
            ]
          },
          "metadata": {},
          "execution_count": 40
        }
      ]
    },
    {
      "cell_type": "code",
      "source": [
        "from decimal import Decimal, ROUND_HALF_UP\n",
        "import pandas as pd\n",
        "\n",
        "def dividing_data(x_train, y_train, size_of_workers):\n",
        "    # Calculate the size of each slice for workers\n",
        "    slice_for_each_worker = int(Decimal(x_train.shape[0] / size_of_workers).quantize(Decimal('1.'), rounding=ROUND_HALF_UP))\n",
        "    print('Slice of data for each worker: {}'.format(slice_for_each_worker))\n",
        "\n",
        "    # Initialize lists to store features and targets for each worker\n",
        "    features_list = []\n",
        "    target_list = []\n",
        "\n",
        "    # Iterate over the number of workers\n",
        "    for i in range(size_of_workers):\n",
        "        if i == size_of_workers - 1:  # If it's the last worker, get the remaining data\n",
        "            features_list.append(x_train.iloc[i * slice_for_each_worker:])\n",
        "            target_list.append(y_train.iloc[i * slice_for_each_worker:])\n",
        "        else:\n",
        "            features_list.append(x_train.iloc[i * slice_for_each_worker : (i + 1) * slice_for_each_worker])\n",
        "            target_list.append(y_train.iloc[i * slice_for_each_worker : (i + 1) * slice_for_each_worker])\n",
        "\n",
        "    return features_list, target_list\n",
        "\n",
        "\n",
        "# Split data among 3 workers\n",
        "features_list, target_list = dividing_data(x_train, y_train, 3)\n",
        "\n",
        "# Output Shapes\n",
        "print(x_train.shape, y_train.shape)\n",
        "for i in range(len(features_list)):\n",
        "    print('Features for worker {}: {}'.format(i, features_list[i].shape))\n",
        "    print('Target for worker {}: {}'.format(i, target_list[i].shape))"
      ],
      "metadata": {
        "colab": {
          "base_uri": "https://localhost:8080/"
        },
        "id": "HSbDDJ6t7Fxc",
        "outputId": "67c2f35d-3446-45c4-aa7f-d66bbad5c1d0"
      },
      "id": "HSbDDJ6t7Fxc",
      "execution_count": 35,
      "outputs": [
        {
          "output_type": "stream",
          "name": "stdout",
          "text": [
            "Slice of data for each worker: 2392\n",
            "(7176, 4) (7176,)\n",
            "Features for worker 0: (2392, 4)\n",
            "Target for worker 0: (2392,)\n",
            "Features for worker 1: (2392, 4)\n",
            "Target for worker 1: (2392,)\n",
            "Features for worker 2: (2392, 4)\n",
            "Target for worker 2: (2392,)\n"
          ]
        }
      ]
    },
    {
      "cell_type": "code",
      "source": [
        "x_train.shape[0]"
      ],
      "metadata": {
        "colab": {
          "base_uri": "https://localhost:8080/"
        },
        "id": "sVVGgMOu6ZNZ",
        "outputId": "9ca730c2-a8dd-4dc4-8b98-3f741109b6c9"
      },
      "id": "sVVGgMOu6ZNZ",
      "execution_count": 34,
      "outputs": [
        {
          "output_type": "execute_result",
          "data": {
            "text/plain": [
              "7176"
            ]
          },
          "metadata": {},
          "execution_count": 34
        }
      ]
    },
    {
      "cell_type": "markdown",
      "metadata": {
        "id": "changing-conditioning"
      },
      "source": [
        "#### Exercise 15: Prepare the data in root worker to assign data for all the workers (1 point)\n",
        "\n",
        "- When it is the root worker, perform the below operation:\n",
        "    - Store the features and target values in separate variables\n",
        "    - Split the data into train and test sets using the train_test_split function defined above\n",
        "    - Divide the data among the workers using the dividing_data function above"
      ],
      "id": "changing-conditioning"
    },
    {
      "cell_type": "code",
      "source": [
        "if rank == 0:\n",
        "    features, target = featureTargetSplit(df)\n",
        "    X_train, X_test, y_train, y_test = train_test_split(features, target)\n",
        "    features_list, target_list = dividing_data(X_train, y_train, size)"
      ],
      "metadata": {
        "id": "uMJxLkS0O1g0",
        "outputId": "b63d5197-0632-424e-ce4a-8c9c0e4633b4",
        "colab": {
          "base_uri": "https://localhost:8080/"
        }
      },
      "id": "uMJxLkS0O1g0",
      "execution_count": 75,
      "outputs": [
        {
          "output_type": "stream",
          "name": "stdout",
          "text": [
            "Slice of data for each worker: 7176\n"
          ]
        }
      ]
    },
    {
      "cell_type": "code",
      "source": [
        "from mpi4py import MPI\n",
        "def process_root_worker(df, size_of_workers):\n",
        "\n",
        "    # Step 1: Split features and target\n",
        "    features, target = featureTargetSplit(df)\n",
        "\n",
        "    # Step 2: Split the data into train and test sets\n",
        "    X_train, X_test, y_train, y_test = train_test_split(features, target, test_size=0.3, random_state=42)\n",
        "\n",
        "    print(f\"Train features shape: {X_train.shape}, Test features shape: {X_test.shape}\")\n",
        "    print(f\"Train target shape: {y_train.shape}, Test target shape: {y_test.shape}\")\n",
        "\n",
        "    # Step 3: Divide the training data among the workers using dividing_data function\n",
        "    feature_chunks, target_chunks = dividing_data(X_train, y_train, size_of_workers)\n",
        "\n",
        "    print(f\"Data divided into {size_of_workers} chunks.\")\n",
        "    print(f\"Each chunk size (features): {[f.shape for f in feature_chunks]}\")\n",
        "    print(f\"Each chunk size (target): {[t.shape for t in target_chunks]}\")\n",
        "\n",
        "    return feature_chunks, target_chunks\n",
        "\n",
        "def main( ):\n",
        "\n",
        "    comm = MPI.COMM_WORLD\n",
        "    rank = comm.Get_rank()\n",
        "    size = comm.Get_size()\n",
        "\n",
        "    size_of_workers = size  # Number of workers (including the root)\n",
        "\n",
        "    if rank == 0:\n",
        "        # Data is assumed to be scaled and available in 'df'\n",
        "        # df = ... (data is already loaded and scaled)\n",
        "\n",
        "        # Process data on root worker\n",
        "        feature_chunks, target_chunks = process_root_worker(df, size_of_workers)\n",
        "\n",
        "    else:\n",
        "        feature_chunks, target_chunks = None, None\n",
        "\n",
        "    # Scatter data to all workers\n",
        "    feature_scattered = comm.scatter(feature_chunks, root=0)\n",
        "    target_scattered = comm.scatter(target_chunks, root=0)\n",
        "if __name__ == \"__main__\":\n",
        "    main()"
      ],
      "metadata": {
        "id": "M7N25SznLXhe",
        "colab": {
          "base_uri": "https://localhost:8080/"
        },
        "outputId": "474c2228-b0fb-40db-e862-df8d912acd65"
      },
      "id": "M7N25SznLXhe",
      "execution_count": 66,
      "outputs": [
        {
          "output_type": "stream",
          "name": "stdout",
          "text": [
            "Train features shape: (6697, 4), Test features shape: (2871, 4)\n",
            "Train target shape: (6697,), Test target shape: (2871,)\n",
            "Slice of data for each worker: 6697\n",
            "Data divided into 1 chunks.\n",
            "Each chunk size (features): [(6697, 4)]\n",
            "Each chunk size (target): [(6697,)]\n"
          ]
        }
      ]
    },
    {
      "cell_type": "markdown",
      "metadata": {
        "id": "breathing-baking"
      },
      "source": [
        "#### Exercise 16: Scatter and gather the data (1 point)\n",
        "\n",
        "Perform the below operations:\n",
        "\n",
        "- Send slices of the training set(the features data X and the expected target data Y) to every worker including the root worker\n",
        "    - **Hint:** scatter()\n",
        "    - use `barrier()` to block workers until all workers in the group reach a Barrier, to scatter from root worker.\n",
        "- Every worker should get the predicted target Y(yhat) for each slice\n",
        "- Get the new coefficient of each instance in a slice\n",
        "    - **Hint:** fit function defined above\n",
        "- Gather the new coefficient from each worker\n",
        "    - **Hint:** gather()\n",
        "    - Take the mean of the gathered coefficients\n",
        "- Calculate the root mean square error for the test set\n",
        "\n",
        "To know more about `scatter`, `gather` and `barrier` click [here](https://nyu-cds.github.io/python-mpi/05-collectives/)"
      ],
      "id": "breathing-baking"
    },
    {
      "cell_type": "code",
      "metadata": {
        "id": "consistent-union",
        "scrolled": true,
        "colab": {
          "base_uri": "https://localhost:8080/"
        },
        "outputId": "d5cc7951-a963-4d77-8a38-8bf20e10c27f"
      },
      "source": [
        "# YOUR CODE HERE\n",
        "def fit1(x, y):\n",
        "    ones = np.ones(x.shape[0])\n",
        "    x = np.concatenate((ones[:, None], x.to_numpy()), axis=1)\n",
        "    beta = estimated_coefficients(x, y)\n",
        "    return beta[0], beta[1:]\n",
        "def calculate_rmse(actual, predicted):\n",
        "    return np.sqrt(np.mean((actual - predicted)**2))\n",
        "\n",
        "comm = MPI.COMM_WORLD\n",
        "rank = comm.Get_rank()\n",
        "size = comm.Get_size()\n",
        "print(\"rank is {} and size is {}\".format(rank,size))\n",
        "\n",
        "comm.barrier()\n",
        "x = comm.scatter(features_list, root=0)\n",
        "y = comm.scatter(target_list, root=0)\n",
        "intercept, coefficients = fit1(x, y)\n",
        "coefficients = comm.gather(coefficients, root=0)\n",
        "intercept = comm.gather(intercept, root=0)\n",
        "if rank == 0:\n",
        "  mean_coefficients = np.mean(coefficients, axis=0)\n",
        "  mean_intercept = np.mean(intercept, axis=0)\n",
        "  y_predict_test = predict(X_test, mean_intercept, mean_coefficients)\n",
        "  rmse_test = calculate_rmse(y_test, y_predict_test)\n",
        "  print(\"Test RMSE: \", rmse_test)"
      ],
      "id": "consistent-union",
      "execution_count": 82,
      "outputs": [
        {
          "output_type": "stream",
          "name": "stdout",
          "text": [
            "rank is 0 and size is 1\n",
            "Test RMSE:  0.2640075649817841\n"
          ]
        }
      ]
    },
    {
      "cell_type": "markdown",
      "metadata": {
        "id": "hired-uniform"
      },
      "source": [
        "#### Exercise 17: Make a script and execute everything in one place (1 point)\n",
        "\n",
        "Write a script(.py) file which contains the code of all the above exercises in it so that you can run the code on multiple processes using MPI.\n",
        "\n",
        "**Hint:**\n",
        "\n",
        "- magic commands\n",
        "- put MPI related code under main function\n",
        "- !mpirun --allow-run-as-root -np 4 python filename.py"
      ],
      "id": "hired-uniform"
    },
    {
      "cell_type": "code",
      "metadata": {
        "id": "motivated-national",
        "colab": {
          "base_uri": "https://localhost:8080/"
        },
        "outputId": "4c3501ce-1cfd-4022-caa0-ad65aa61941c"
      },
      "source": [
        "# YOUR CODE HERE for scipt(.py)\n",
        "%%writefile masterscript.py\n",
        "\n",
        "from mpi4py import MPI\n",
        "import pandas as pd\n",
        "import numpy as np\n",
        "from math import sqrt\n",
        "from decimal import Decimal, ROUND_HALF_UP\n",
        "\n",
        "def load_data(filename):\n",
        "    return pd.read_csv(filename).rename(columns={'AT': 'Ambient Temperature', 'V': 'Exhaust Vaccum', 'AP': 'Ambient Pressure', 'RH':'Relative Humidity', 'PE':'Energy Output'})\n",
        "\n",
        "def explore_data(df):\n",
        "    print(\"Number of rows: {}\".format(df.shape[0]))\n",
        "    print(\"Number of columns: {}\".format(df.shape[1]))\n",
        "    print(df.info())\n",
        "    print(df.describe())\n",
        "    print(\"Number of null values: {}\".format(df.isnull().sum().sum()))\n",
        "    print(\"Number of duplicate values: {}\".format(df.duplicated().sum()))\n",
        "\n",
        "def handle_missing_data(df):\n",
        "    return df.dropna()\n",
        "\n",
        "def scale_data(df):\n",
        "    return (df - df.mean())/df.std()\n",
        "\n",
        "def feature_target(df):\n",
        "    return df.drop('Energy Output', axis=1), df['Energy Output']\n",
        "\n",
        "def estimated_coefficients(x, y):\n",
        "    return np.linalg.inv(x.T.dot(x)).dot(x.T).dot(y)\n",
        "\n",
        "def fit(x, y):\n",
        "    ones = np.ones(x.shape[0])\n",
        "    x = np.concatenate((ones[:, None], x.to_numpy()), axis=1)\n",
        "    beta = estimated_coefficients(x, y)\n",
        "    return beta[0], beta[1:]\n",
        "\n",
        "def predict(x, intercept, coefficients):\n",
        "    predictions = intercept + np.dot(x, coefficients)\n",
        "    return predictions\n",
        "\n",
        "def train_test_split_custom(x, y):\n",
        "    indices = np.arange(x.shape[0])\n",
        "    np.random.shuffle(indices)\n",
        "    split_index = int(x.shape[0]*0.7)\n",
        "    x_train = x.iloc[indices[:split_index]]\n",
        "    x_test = x.iloc[indices[split_index:]]\n",
        "    y_train = y.iloc[indices[:split_index]]\n",
        "    y_test = y.iloc[indices[split_index:]]\n",
        "    return x_train, x_test, y_train, y_test\n",
        "\n",
        "def calculate_rmse(actual, predicted):\n",
        "    return np.sqrt(np.mean((actual - predicted)**2))\n",
        "\n",
        "def dividing_data(x_train, y_train, size_of_workers):\n",
        "    # Size of the slice\n",
        "    slice_for_each_worker = int(Decimal(x_train.shape[0]/size_of_workers).quantize(Decimal('1.'), rounding = ROUND_HALF_UP))\n",
        "    print('Slice of data for each worker: {}'.format(slice_for_each_worker))\n",
        "    # YOUR CODE HERE\n",
        "    features_list = []\n",
        "    target_list = []\n",
        "\n",
        "    for i in range(size_of_workers):\n",
        "      if i == size_of_workers - 1:\n",
        "        features_list.append(x_train.iloc[i*slice_for_each_worker:])\n",
        "        target_list.append(y_train.iloc[i*slice_for_each_worker:])\n",
        "      else:\n",
        "        features_list.append(x_train.iloc[i*slice_for_each_worker:(i+1)*slice_for_each_worker])\n",
        "        target_list.append(y_train.iloc[i*slice_for_each_worker:(i+1)*slice_for_each_worker])\n",
        "    return features_list, target_list\n",
        "\n",
        "def main():\n",
        "  comm = MPI.COMM_WORLD\n",
        "  rank = comm.Get_rank()\n",
        "  size = comm.Get_size()\n",
        "  print(\"rank is {} and size is {}\".format(rank,size))\n",
        "  FILENAME = \"/content/PowerPlantData.csv\" # File path\n",
        "  df = load_data(FILENAME)\n",
        "  explore_data(df)\n",
        "  df_scaled = scale_data(df)\n",
        "  features_list = None\n",
        "  target_list = None\n",
        "  if rank == 0:\n",
        "    features, target = feature_target(df_scaled)\n",
        "    X_train, X_test, y_train, y_test = train_test_split_custom(features, target)\n",
        "    features_list, target_list = dividing_data(X_train, y_train, size)\n",
        "\n",
        "  comm.barrier()\n",
        "  x = comm.scatter(features_list, root=0)\n",
        "  y = comm.scatter(target_list, root=0)\n",
        "  intercept, coefficients = fit(x, y)\n",
        "  coefficients = comm.gather(coefficients, root=0)\n",
        "  intercept = comm.gather(intercept, root=0)\n",
        "  comm.barrier()\n",
        "  if rank == 0:\n",
        "    mean_coefficients = np.mean(coefficients, axis=0)\n",
        "    mean_intercept = np.mean(intercept, axis=0)\n",
        "    print(\"Intercept: \", mean_intercept)\n",
        "    print(\"Coefficients: \", mean_coefficients)\n",
        "    y_predict_test = predict(X_test, mean_intercept, mean_coefficients)\n",
        "    rmse_test = calculate_rmse(y_test, y_predict_test)\n",
        "    print(\"Test RMSE: \", rmse_test)\n",
        "\n",
        "main()"
      ],
      "id": "motivated-national",
      "execution_count": 69,
      "outputs": [
        {
          "output_type": "stream",
          "name": "stdout",
          "text": [
            "Writing masterscript.py\n"
          ]
        }
      ]
    },
    {
      "cell_type": "code",
      "metadata": {
        "id": "experimental-waterproof",
        "scrolled": true,
        "colab": {
          "base_uri": "https://localhost:8080/"
        },
        "outputId": "0e699f58-8b5c-4398-d89e-e278c38c78e3"
      },
      "source": [
        "!sudo mpirun --allow-run-as-root --use-hwthread-cpus -np 2 python masterscript.py"
      ],
      "id": "experimental-waterproof",
      "execution_count": 70,
      "outputs": [
        {
          "output_type": "stream",
          "name": "stdout",
          "text": [
            "rank is 0 and size is 2\n",
            "rank is 1 and size is 2\n",
            "Number of rows: 9568\n",
            "Number of columns: 5\n",
            "Number of rows: 9568\n",
            "Number of columns: 5\n",
            "<class 'pandas.core.frame.DataFrame'>\n",
            "RangeIndex: 9568 entries, 0 to 9567\n",
            "Data columns (total 5 columns):\n",
            " #   Column               Non-Null Count  Dtype  \n",
            "---  ------               --------------  -----  \n",
            " 0   Ambient Temperature  9568 non-null   float64\n",
            " 1   Exhaust Vaccum       9568 non-null   float64\n",
            " 2   Ambient Pressure     9568 non-null   float64\n",
            " 3   Relative Humidity    9568 non-null   float64\n",
            " 4   Energy Output        9568 non-null   float64\n",
            "dtypes: float64(5)\n",
            "memory usage: 373.9 KB\n",
            "<class 'pandas.core.frame.DataFrame'>\n",
            "RangeIndex: 9568 entries, 0 to 9567\n",
            "Data columns (total 5 columns):\n",
            " #   Column               Non-Null Count  Dtype  \n",
            "---  ------               --------------  -----  \n",
            " 0   Ambient Temperature  9568 non-null   float64\n",
            " 1   Exhaust Vaccum       9568 non-null   float64\n",
            " 2   Ambient Pressure     9568 non-null   float64\n",
            " 3   Relative Humidity    9568 non-null   float64\n",
            " 4   Energy Output        9568 non-null   float64\n",
            "dtypes: float64(5)\n",
            "memory usage: 373.9 KB\n",
            "None\n",
            "None\n",
            "       Ambient Temperature  ...  Energy Output\n",
            "count          9568.000000  ...    9568.000000\n",
            "mean             19.651231  ...     454.365009\n",
            "std               7.452473  ...      17.066995\n",
            "min               1.810000  ...     420.260000\n",
            "25%              13.510000  ...     439.750000\n",
            "50%              20.345000  ...     451.550000\n",
            "75%              25.720000  ...     468.430000\n",
            "max              37.110000  ...     495.760000\n",
            "\n",
            "[8 rows x 5 columns]\n",
            "       Ambient Temperature  ...  Energy Output\n",
            "count          9568.000000  ...    9568.000000\n",
            "mean             19.651231  ...     454.365009\n",
            "std               7.452473  ...      17.066995\n",
            "min               1.810000  ...     420.260000\n",
            "25%              13.510000  ...     439.750000\n",
            "50%              20.345000  ...     451.550000\n",
            "75%              25.720000  ...     468.430000\n",
            "max              37.110000  ...     495.760000\n",
            "\n",
            "[8 rows x 5 columns]\n",
            "Number of null values: 0\n",
            "Number of null values: 0\n",
            "Number of duplicate values: 41\n",
            "Number of duplicate values: 41\n",
            "Slice of data for each worker: 3349\n",
            "Intercept:  -0.0009130660369901494\n",
            "Coefficients:  [-0.86701768 -0.17427462  0.02132345 -0.13521844]\n",
            "Test RMSE:  0.27199130780577796\n"
          ]
        }
      ]
    },
    {
      "cell_type": "markdown",
      "metadata": {
        "id": "protecting-assets"
      },
      "source": [
        "#### Exercise 18: Use Sklearn to compare (1 point)\n",
        "\n",
        "Apply the Linear regression on the given data using sklearn package and compare with the above results\n",
        "\n",
        "**Hint:**\n",
        "* Split the data into train and test\n",
        "* Fit the train data and predict the test data using `sklearn Linear Regression`\n",
        "* Compare the coefficients and intercept with above estimated coefficients\n",
        "* calculate loss (RMSE) on test data and predictions and compare"
      ],
      "id": "protecting-assets"
    },
    {
      "cell_type": "code",
      "source": [
        "df.head()"
      ],
      "metadata": {
        "colab": {
          "base_uri": "https://localhost:8080/",
          "height": 206
        },
        "id": "T21_J2VRjhNv",
        "outputId": "9b676da8-29cd-427e-e8ae-186d0f897ec1"
      },
      "id": "T21_J2VRjhNv",
      "execution_count": 71,
      "outputs": [
        {
          "output_type": "execute_result",
          "data": {
            "text/plain": [
              "   AmbientTemperature  ExhaustVaccum  AmbientPressure  RelativeHumidity  \\\n",
              "0           -1.517782      -1.065149        -0.407336          1.143885   \n",
              "1            0.535228       0.329260        -0.313040          0.061028   \n",
              "2            1.353748       0.204141        -1.028675         -2.150575   \n",
              "3           -0.077992      -0.363223        -1.016888          0.238422   \n",
              "4           -1.053507      -1.073805         0.651804          1.636341   \n",
              "\n",
              "   EnergyOutput  \n",
              "0      1.530146  \n",
              "1     -0.504776  \n",
              "2     -0.914338  \n",
              "3     -0.074706  \n",
              "4      0.589734  "
            ],
            "text/html": [
              "\n",
              "  <div id=\"df-b19fb4ea-f5b7-4985-af09-d72f293acddb\" class=\"colab-df-container\">\n",
              "    <div>\n",
              "<style scoped>\n",
              "    .dataframe tbody tr th:only-of-type {\n",
              "        vertical-align: middle;\n",
              "    }\n",
              "\n",
              "    .dataframe tbody tr th {\n",
              "        vertical-align: top;\n",
              "    }\n",
              "\n",
              "    .dataframe thead th {\n",
              "        text-align: right;\n",
              "    }\n",
              "</style>\n",
              "<table border=\"1\" class=\"dataframe\">\n",
              "  <thead>\n",
              "    <tr style=\"text-align: right;\">\n",
              "      <th></th>\n",
              "      <th>AmbientTemperature</th>\n",
              "      <th>ExhaustVaccum</th>\n",
              "      <th>AmbientPressure</th>\n",
              "      <th>RelativeHumidity</th>\n",
              "      <th>EnergyOutput</th>\n",
              "    </tr>\n",
              "  </thead>\n",
              "  <tbody>\n",
              "    <tr>\n",
              "      <th>0</th>\n",
              "      <td>-1.517782</td>\n",
              "      <td>-1.065149</td>\n",
              "      <td>-0.407336</td>\n",
              "      <td>1.143885</td>\n",
              "      <td>1.530146</td>\n",
              "    </tr>\n",
              "    <tr>\n",
              "      <th>1</th>\n",
              "      <td>0.535228</td>\n",
              "      <td>0.329260</td>\n",
              "      <td>-0.313040</td>\n",
              "      <td>0.061028</td>\n",
              "      <td>-0.504776</td>\n",
              "    </tr>\n",
              "    <tr>\n",
              "      <th>2</th>\n",
              "      <td>1.353748</td>\n",
              "      <td>0.204141</td>\n",
              "      <td>-1.028675</td>\n",
              "      <td>-2.150575</td>\n",
              "      <td>-0.914338</td>\n",
              "    </tr>\n",
              "    <tr>\n",
              "      <th>3</th>\n",
              "      <td>-0.077992</td>\n",
              "      <td>-0.363223</td>\n",
              "      <td>-1.016888</td>\n",
              "      <td>0.238422</td>\n",
              "      <td>-0.074706</td>\n",
              "    </tr>\n",
              "    <tr>\n",
              "      <th>4</th>\n",
              "      <td>-1.053507</td>\n",
              "      <td>-1.073805</td>\n",
              "      <td>0.651804</td>\n",
              "      <td>1.636341</td>\n",
              "      <td>0.589734</td>\n",
              "    </tr>\n",
              "  </tbody>\n",
              "</table>\n",
              "</div>\n",
              "    <div class=\"colab-df-buttons\">\n",
              "\n",
              "  <div class=\"colab-df-container\">\n",
              "    <button class=\"colab-df-convert\" onclick=\"convertToInteractive('df-b19fb4ea-f5b7-4985-af09-d72f293acddb')\"\n",
              "            title=\"Convert this dataframe to an interactive table.\"\n",
              "            style=\"display:none;\">\n",
              "\n",
              "  <svg xmlns=\"http://www.w3.org/2000/svg\" height=\"24px\" viewBox=\"0 -960 960 960\">\n",
              "    <path d=\"M120-120v-720h720v720H120Zm60-500h600v-160H180v160Zm220 220h160v-160H400v160Zm0 220h160v-160H400v160ZM180-400h160v-160H180v160Zm440 0h160v-160H620v160ZM180-180h160v-160H180v160Zm440 0h160v-160H620v160Z\"/>\n",
              "  </svg>\n",
              "    </button>\n",
              "\n",
              "  <style>\n",
              "    .colab-df-container {\n",
              "      display:flex;\n",
              "      gap: 12px;\n",
              "    }\n",
              "\n",
              "    .colab-df-convert {\n",
              "      background-color: #E8F0FE;\n",
              "      border: none;\n",
              "      border-radius: 50%;\n",
              "      cursor: pointer;\n",
              "      display: none;\n",
              "      fill: #1967D2;\n",
              "      height: 32px;\n",
              "      padding: 0 0 0 0;\n",
              "      width: 32px;\n",
              "    }\n",
              "\n",
              "    .colab-df-convert:hover {\n",
              "      background-color: #E2EBFA;\n",
              "      box-shadow: 0px 1px 2px rgba(60, 64, 67, 0.3), 0px 1px 3px 1px rgba(60, 64, 67, 0.15);\n",
              "      fill: #174EA6;\n",
              "    }\n",
              "\n",
              "    .colab-df-buttons div {\n",
              "      margin-bottom: 4px;\n",
              "    }\n",
              "\n",
              "    [theme=dark] .colab-df-convert {\n",
              "      background-color: #3B4455;\n",
              "      fill: #D2E3FC;\n",
              "    }\n",
              "\n",
              "    [theme=dark] .colab-df-convert:hover {\n",
              "      background-color: #434B5C;\n",
              "      box-shadow: 0px 1px 3px 1px rgba(0, 0, 0, 0.15);\n",
              "      filter: drop-shadow(0px 1px 2px rgba(0, 0, 0, 0.3));\n",
              "      fill: #FFFFFF;\n",
              "    }\n",
              "  </style>\n",
              "\n",
              "    <script>\n",
              "      const buttonEl =\n",
              "        document.querySelector('#df-b19fb4ea-f5b7-4985-af09-d72f293acddb button.colab-df-convert');\n",
              "      buttonEl.style.display =\n",
              "        google.colab.kernel.accessAllowed ? 'block' : 'none';\n",
              "\n",
              "      async function convertToInteractive(key) {\n",
              "        const element = document.querySelector('#df-b19fb4ea-f5b7-4985-af09-d72f293acddb');\n",
              "        const dataTable =\n",
              "          await google.colab.kernel.invokeFunction('convertToInteractive',\n",
              "                                                    [key], {});\n",
              "        if (!dataTable) return;\n",
              "\n",
              "        const docLinkHtml = 'Like what you see? Visit the ' +\n",
              "          '<a target=\"_blank\" href=https://colab.research.google.com/notebooks/data_table.ipynb>data table notebook</a>'\n",
              "          + ' to learn more about interactive tables.';\n",
              "        element.innerHTML = '';\n",
              "        dataTable['output_type'] = 'display_data';\n",
              "        await google.colab.output.renderOutput(dataTable, element);\n",
              "        const docLink = document.createElement('div');\n",
              "        docLink.innerHTML = docLinkHtml;\n",
              "        element.appendChild(docLink);\n",
              "      }\n",
              "    </script>\n",
              "  </div>\n",
              "\n",
              "\n",
              "<div id=\"df-2dea1fe1-c6d0-4fbf-b6c2-2985da1a686b\">\n",
              "  <button class=\"colab-df-quickchart\" onclick=\"quickchart('df-2dea1fe1-c6d0-4fbf-b6c2-2985da1a686b')\"\n",
              "            title=\"Suggest charts\"\n",
              "            style=\"display:none;\">\n",
              "\n",
              "<svg xmlns=\"http://www.w3.org/2000/svg\" height=\"24px\"viewBox=\"0 0 24 24\"\n",
              "     width=\"24px\">\n",
              "    <g>\n",
              "        <path d=\"M19 3H5c-1.1 0-2 .9-2 2v14c0 1.1.9 2 2 2h14c1.1 0 2-.9 2-2V5c0-1.1-.9-2-2-2zM9 17H7v-7h2v7zm4 0h-2V7h2v10zm4 0h-2v-4h2v4z\"/>\n",
              "    </g>\n",
              "</svg>\n",
              "  </button>\n",
              "\n",
              "<style>\n",
              "  .colab-df-quickchart {\n",
              "      --bg-color: #E8F0FE;\n",
              "      --fill-color: #1967D2;\n",
              "      --hover-bg-color: #E2EBFA;\n",
              "      --hover-fill-color: #174EA6;\n",
              "      --disabled-fill-color: #AAA;\n",
              "      --disabled-bg-color: #DDD;\n",
              "  }\n",
              "\n",
              "  [theme=dark] .colab-df-quickchart {\n",
              "      --bg-color: #3B4455;\n",
              "      --fill-color: #D2E3FC;\n",
              "      --hover-bg-color: #434B5C;\n",
              "      --hover-fill-color: #FFFFFF;\n",
              "      --disabled-bg-color: #3B4455;\n",
              "      --disabled-fill-color: #666;\n",
              "  }\n",
              "\n",
              "  .colab-df-quickchart {\n",
              "    background-color: var(--bg-color);\n",
              "    border: none;\n",
              "    border-radius: 50%;\n",
              "    cursor: pointer;\n",
              "    display: none;\n",
              "    fill: var(--fill-color);\n",
              "    height: 32px;\n",
              "    padding: 0;\n",
              "    width: 32px;\n",
              "  }\n",
              "\n",
              "  .colab-df-quickchart:hover {\n",
              "    background-color: var(--hover-bg-color);\n",
              "    box-shadow: 0 1px 2px rgba(60, 64, 67, 0.3), 0 1px 3px 1px rgba(60, 64, 67, 0.15);\n",
              "    fill: var(--button-hover-fill-color);\n",
              "  }\n",
              "\n",
              "  .colab-df-quickchart-complete:disabled,\n",
              "  .colab-df-quickchart-complete:disabled:hover {\n",
              "    background-color: var(--disabled-bg-color);\n",
              "    fill: var(--disabled-fill-color);\n",
              "    box-shadow: none;\n",
              "  }\n",
              "\n",
              "  .colab-df-spinner {\n",
              "    border: 2px solid var(--fill-color);\n",
              "    border-color: transparent;\n",
              "    border-bottom-color: var(--fill-color);\n",
              "    animation:\n",
              "      spin 1s steps(1) infinite;\n",
              "  }\n",
              "\n",
              "  @keyframes spin {\n",
              "    0% {\n",
              "      border-color: transparent;\n",
              "      border-bottom-color: var(--fill-color);\n",
              "      border-left-color: var(--fill-color);\n",
              "    }\n",
              "    20% {\n",
              "      border-color: transparent;\n",
              "      border-left-color: var(--fill-color);\n",
              "      border-top-color: var(--fill-color);\n",
              "    }\n",
              "    30% {\n",
              "      border-color: transparent;\n",
              "      border-left-color: var(--fill-color);\n",
              "      border-top-color: var(--fill-color);\n",
              "      border-right-color: var(--fill-color);\n",
              "    }\n",
              "    40% {\n",
              "      border-color: transparent;\n",
              "      border-right-color: var(--fill-color);\n",
              "      border-top-color: var(--fill-color);\n",
              "    }\n",
              "    60% {\n",
              "      border-color: transparent;\n",
              "      border-right-color: var(--fill-color);\n",
              "    }\n",
              "    80% {\n",
              "      border-color: transparent;\n",
              "      border-right-color: var(--fill-color);\n",
              "      border-bottom-color: var(--fill-color);\n",
              "    }\n",
              "    90% {\n",
              "      border-color: transparent;\n",
              "      border-bottom-color: var(--fill-color);\n",
              "    }\n",
              "  }\n",
              "</style>\n",
              "\n",
              "  <script>\n",
              "    async function quickchart(key) {\n",
              "      const quickchartButtonEl =\n",
              "        document.querySelector('#' + key + ' button');\n",
              "      quickchartButtonEl.disabled = true;  // To prevent multiple clicks.\n",
              "      quickchartButtonEl.classList.add('colab-df-spinner');\n",
              "      try {\n",
              "        const charts = await google.colab.kernel.invokeFunction(\n",
              "            'suggestCharts', [key], {});\n",
              "      } catch (error) {\n",
              "        console.error('Error during call to suggestCharts:', error);\n",
              "      }\n",
              "      quickchartButtonEl.classList.remove('colab-df-spinner');\n",
              "      quickchartButtonEl.classList.add('colab-df-quickchart-complete');\n",
              "    }\n",
              "    (() => {\n",
              "      let quickchartButtonEl =\n",
              "        document.querySelector('#df-2dea1fe1-c6d0-4fbf-b6c2-2985da1a686b button');\n",
              "      quickchartButtonEl.style.display =\n",
              "        google.colab.kernel.accessAllowed ? 'block' : 'none';\n",
              "    })();\n",
              "  </script>\n",
              "</div>\n",
              "\n",
              "    </div>\n",
              "  </div>\n"
            ],
            "application/vnd.google.colaboratory.intrinsic+json": {
              "type": "dataframe",
              "variable_name": "df",
              "summary": "{\n  \"name\": \"df\",\n  \"rows\": 9568,\n  \"fields\": [\n    {\n      \"column\": \"AmbientTemperature\",\n      \"properties\": {\n        \"dtype\": \"number\",\n        \"std\": 1.0,\n        \"min\": -2.3940013788177064,\n        \"max\": 2.3426811844609805,\n        \"num_unique_values\": 2773,\n        \"samples\": [\n          -1.1581700358206326,\n          -0.542267118952384,\n          -0.4483385695389257\n        ],\n        \"semantic_type\": \"\",\n        \"description\": \"\"\n      }\n    },\n    {\n      \"column\": \"ExhaustVaccum\",\n      \"properties\": {\n        \"dtype\": \"number\",\n        \"std\": 1.0,\n        \"min\": -2.2777815114234086,\n        \"max\": 2.1446668053352864,\n        \"num_unique_values\": 634,\n        \"samples\": [\n          1.7228816989682652,\n          1.1602392529749432,\n          -1.19420298256634\n        ],\n        \"semantic_type\": \"\",\n        \"description\": \"\"\n      }\n    },\n    {\n      \"column\": \"AmbientPressure\",\n      \"properties\": {\n        \"dtype\": \"number\",\n        \"std\": 1.0,\n        \"min\": -3.429840045752908,\n        \"max\": 3.374583553721734,\n        \"num_unique_values\": 2517,\n        \"samples\": [\n          -2.067608248679161,\n          -1.8621789789103105,\n          1.901217889395994\n        ],\n        \"semantic_type\": \"\",\n        \"description\": \"\"\n      }\n    },\n    {\n      \"column\": \"RelativeHumidity\",\n      \"properties\": {\n        \"dtype\": \"number\",\n        \"std\": 1.0,\n        \"min\": -3.2704177326052895,\n        \"max\": 1.8390772529317707,\n        \"num_unique_values\": 4546,\n        \"samples\": [\n          -0.4663597606496964,\n          1.769215525247484,\n          1.087721220876254\n        ],\n        \"semantic_type\": \"\",\n        \"description\": \"\"\n      }\n    },\n    {\n      \"column\": \"EnergyOutput\",\n      \"properties\": {\n        \"dtype\": \"number\",\n        \"std\": 0.9999999999999999,\n        \"min\": -1.998301951031648,\n        \"max\": 2.425441068806913,\n        \"num_unique_values\": 4836,\n        \"samples\": [\n          -0.39110630819493597,\n          -0.6137582747563477,\n          -0.6647338565743551\n        ],\n        \"semantic_type\": \"\",\n        \"description\": \"\"\n      }\n    }\n  ]\n}"
            }
          },
          "metadata": {},
          "execution_count": 71
        }
      ]
    },
    {
      "cell_type": "code",
      "metadata": {
        "id": "applicable-tyler",
        "colab": {
          "base_uri": "https://localhost:8080/"
        },
        "outputId": "17ef3c31-9d4f-4377-93c7-62efc3cca95d"
      },
      "source": [
        "# YOUR CODE HERE\n",
        "\n",
        "from sklearn.linear_model import LinearRegression\n",
        "from sklearn.model_selection import train_test_split\n",
        "from sklearn.metrics import mean_squared_error\n",
        "\n",
        "\n",
        "\n",
        "regression = LinearRegression()\n",
        "feature_1, target_1 = featureTargetSplit(df)\n",
        "\n",
        "X_train, X_test, y_train, y_test = train_test_split(feature_1, target_1, test_size=0.70, random_state=42,shuffle=True)\n",
        "regression.fit(np.array(X_train),y_train)\n",
        "\n",
        "# Check the co-efficents from our LinearRegression Class and sklearns\n",
        "print('SKlearn  Linear Regression Co-efficient is : ',regression.coef_,regression.intercept_)\n",
        "\n",
        "y_pred = regression.predict(X_test)\n",
        "rmse = np.sqrt(mean_squared_error(y_test, y_pred))\n",
        "print(\"RMSE Error:\", rmse)"
      ],
      "id": "applicable-tyler",
      "execution_count": 72,
      "outputs": [
        {
          "output_type": "stream",
          "name": "stdout",
          "text": [
            "SKlearn  Linear Regression Co-efficient is :  [-0.87481436 -0.16774442  0.02299454 -0.13255654] -0.008269650527378537\n",
            "RMSE Error: 0.26839497882117125\n"
          ]
        },
        {
          "output_type": "stream",
          "name": "stderr",
          "text": [
            "/usr/local/lib/python3.10/dist-packages/sklearn/base.py:458: UserWarning: X has feature names, but LinearRegression was fitted without feature names\n",
            "  warnings.warn(\n"
          ]
        }
      ]
    }
  ]
}