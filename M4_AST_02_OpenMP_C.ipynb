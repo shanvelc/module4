{
  "nbformat": 4,
  "nbformat_minor": 5,
  "metadata": {
    "kernelspec": {
      "display_name": "Python 3",
      "language": "python",
      "name": "python3"
    },
    "language_info": {
      "codemirror_mode": {
        "name": "ipython",
        "version": 3
      },
      "file_extension": ".py",
      "mimetype": "text/x-python",
      "name": "python",
      "nbconvert_exporter": "python",
      "pygments_lexer": "ipython3",
      "version": "3.6.7rc1"
    },
    "colab": {
      "provenance": [],
      "include_colab_link": true
    }
  },
  "cells": [
    {
      "cell_type": "markdown",
      "metadata": {
        "id": "view-in-github",
        "colab_type": "text"
      },
      "source": [
        "<a href=\"https://colab.research.google.com/github/shanvelc/module4/blob/main/M4_AST_02_OpenMP_C.ipynb\" target=\"_parent\"><img src=\"https://colab.research.google.com/assets/colab-badge.svg\" alt=\"Open In Colab\"/></a>"
      ]
    },
    {
      "cell_type": "markdown",
      "metadata": {
        "id": "global-serum"
      },
      "source": [
        "# Advanced Certification Program in Computational Data Science\n",
        "## A program by IISc and TalentSprint\n",
        "### Assignment 2: OpenMP"
      ],
      "id": "global-serum"
    },
    {
      "cell_type": "markdown",
      "metadata": {
        "id": "lesbian-plaza"
      },
      "source": [
        "## Learning Objectives"
      ],
      "id": "lesbian-plaza"
    },
    {
      "cell_type": "markdown",
      "metadata": {
        "id": "identical-object"
      },
      "source": [
        "At the end of the experiment, you will be able to:\n",
        "\n",
        "* understand the parallelization in python\n",
        "* implement multiprocessing using OpenMP"
      ],
      "id": "identical-object"
    },
    {
      "cell_type": "code",
      "source": [
        "#@title Walkthrough Video\n",
        "from IPython.display import HTML\n",
        "HTML(\"\"\"<video width=\"420\" height=\"240\" controls>\n",
        "<source src=\"https://cdn.chn.talentsprint.com/content/OpenMP.mp4\">\n",
        "</video>\"\"\")"
      ],
      "metadata": {
        "cellView": "form",
        "id": "tUPKIID3gkO1"
      },
      "id": "tUPKIID3gkO1",
      "execution_count": null,
      "outputs": []
    },
    {
      "cell_type": "markdown",
      "metadata": {
        "id": "communist-baghdad"
      },
      "source": [
        "## Information"
      ],
      "id": "communist-baghdad"
    },
    {
      "cell_type": "markdown",
      "metadata": {
        "id": "large-terrorist"
      },
      "source": [
        "OpenMP is an Application Program Interface (API), jointly defined by a group of major computer hardware and software vendors. It provides a portable, scalable model for developers of shared memory parallel applications\n",
        "\n",
        "OpenMP is the easiest to use and requires the minimum learning overhead and  most key parallel design patterns can be learned with OpenMP.\n",
        "\n",
        "**Concurrency:** A condition of a system in which multiple\n",
        "tasks are logically active at one time.\n",
        "\n",
        "**Parallelism:** A condition of a system in which multiple\n",
        "tasks are actually active at one time.\n",
        "\n",
        "![link text](https://cdn.iisc.talentsprint.com/CDS/Images/OpenMP_Concurrent_Parallel.JPG)"
      ],
      "id": "large-terrorist"
    },
    {
      "cell_type": "markdown",
      "metadata": {
        "id": "BNLA8HiKxQhc"
      },
      "source": [
        "### Setup Steps:"
      ],
      "id": "BNLA8HiKxQhc"
    },
    {
      "cell_type": "code",
      "metadata": {
        "id": "2YzfoPvJDiTX"
      },
      "source": [
        "#@title Please enter your registration id to start: { run: \"auto\", display-mode: \"form\" }\n",
        "Id = \"2306024\" #@param {type:\"string\"}"
      ],
      "id": "2YzfoPvJDiTX",
      "execution_count": 1,
      "outputs": []
    },
    {
      "cell_type": "code",
      "metadata": {
        "id": "AjoZJWGErxGf"
      },
      "source": [
        "#@title Please enter your password (your registered phone number) to continue: { run: \"auto\", display-mode: \"form\" }\n",
        "password = \"9742221781\" #@param {type:\"string\"}"
      ],
      "id": "AjoZJWGErxGf",
      "execution_count": 2,
      "outputs": []
    },
    {
      "cell_type": "code",
      "metadata": {
        "id": "WBPPuGmBlDIN",
        "cellView": "form",
        "outputId": "6c00e689-7576-499e-cbfa-1ec35a604303",
        "colab": {
          "base_uri": "https://localhost:8080/",
          "height": 35
        }
      },
      "source": [
        "#@title Run this cell to complete the setup for this Notebook\n",
        "from IPython import get_ipython\n",
        "\n",
        "ipython = get_ipython()\n",
        "\n",
        "notebook= \"M4_AST_02_OpenMP_C\" #name of the notebook\n",
        "\n",
        "def setup():\n",
        "#  ipython.magic(\"sx pip3 install torch\")\n",
        "    from IPython.display import HTML, display\n",
        "    display(HTML('<script src=\"https://dashboard.talentsprint.com/aiml/record_ip.html?traineeId={0}&recordId={1}\"></script>'.format(getId(),submission_id)))\n",
        "    print(\"Setup completed successfully\")\n",
        "    return\n",
        "\n",
        "def submit_notebook():\n",
        "    ipython.magic(\"notebook -e \"+ notebook + \".ipynb\")\n",
        "\n",
        "    import requests, json, base64, datetime\n",
        "\n",
        "    url = \"https://dashboard.talentsprint.com/xp/app/save_notebook_attempts\"\n",
        "    if not submission_id:\n",
        "      data = {\"id\" : getId(), \"notebook\" : notebook, \"mobile\" : getPassword()}\n",
        "      r = requests.post(url, data = data)\n",
        "      r = json.loads(r.text)\n",
        "\n",
        "      if r[\"status\"] == \"Success\":\n",
        "          return r[\"record_id\"]\n",
        "      elif \"err\" in r:\n",
        "        print(r[\"err\"])\n",
        "        return None\n",
        "      else:\n",
        "        print (\"Something is wrong, the notebook will not be submitted for grading\")\n",
        "        return None\n",
        "\n",
        "    elif getAnswer() and getComplexity() and getAdditional() and getConcepts() and getComments() and getMentorSupport():\n",
        "      f = open(notebook + \".ipynb\", \"rb\")\n",
        "      file_hash = base64.b64encode(f.read())\n",
        "\n",
        "      data = {\"complexity\" : Complexity, \"additional\" :Additional,\n",
        "              \"concepts\" : Concepts, \"record_id\" : submission_id,\n",
        "              \"answer\" : Answer, \"id\" : Id, \"file_hash\" : file_hash,\n",
        "              \"notebook\" : notebook,\n",
        "              \"feedback_experiments_input\" : Comments,\n",
        "              \"feedback_mentor_support\": Mentor_support}\n",
        "      r = requests.post(url, data = data)\n",
        "      r = json.loads(r.text)\n",
        "      if \"err\" in r:\n",
        "        print(r[\"err\"])\n",
        "        return None\n",
        "      else:\n",
        "        print(\"Your submission is successful.\")\n",
        "        print(\"Ref Id:\", submission_id)\n",
        "        print(\"Date of submission: \", r[\"date\"])\n",
        "        print(\"Time of submission: \", r[\"time\"])\n",
        "        print(\"View your submissions: https://cds-iisc.talentsprint.com/notebook_submissions\")\n",
        "        #print(\"For any queries/discrepancies, please connect with mentors through the chat icon in LMS dashboard.\")\n",
        "        return submission_id\n",
        "    else: submission_id\n",
        "\n",
        "\n",
        "def getAdditional():\n",
        "  try:\n",
        "    if not Additional:\n",
        "      raise NameError\n",
        "    else:\n",
        "      return Additional\n",
        "  except NameError:\n",
        "    print (\"Please answer Additional Question\")\n",
        "    return None\n",
        "\n",
        "def getComplexity():\n",
        "  try:\n",
        "    if not Complexity:\n",
        "      raise NameError\n",
        "    else:\n",
        "      return Complexity\n",
        "  except NameError:\n",
        "    print (\"Please answer Complexity Question\")\n",
        "    return None\n",
        "\n",
        "def getConcepts():\n",
        "  try:\n",
        "    if not Concepts:\n",
        "      raise NameError\n",
        "    else:\n",
        "      return Concepts\n",
        "  except NameError:\n",
        "    print (\"Please answer Concepts Question\")\n",
        "    return None\n",
        "\n",
        "\n",
        "# def getWalkthrough():\n",
        "#   try:\n",
        "#     if not Walkthrough:\n",
        "#       raise NameError\n",
        "#     else:\n",
        "#       return Walkthrough\n",
        "#   except NameError:\n",
        "#     print (\"Please answer Walkthrough Question\")\n",
        "#     return None\n",
        "\n",
        "def getComments():\n",
        "  try:\n",
        "    if not Comments:\n",
        "      raise NameError\n",
        "    else:\n",
        "      return Comments\n",
        "  except NameError:\n",
        "    print (\"Please answer Comments Question\")\n",
        "    return None\n",
        "\n",
        "\n",
        "def getMentorSupport():\n",
        "  try:\n",
        "    if not Mentor_support:\n",
        "      raise NameError\n",
        "    else:\n",
        "      return Mentor_support\n",
        "  except NameError:\n",
        "    print (\"Please answer Mentor support Question\")\n",
        "    return None\n",
        "\n",
        "def getAnswer():\n",
        "  try:\n",
        "    if not Answer:\n",
        "      raise NameError\n",
        "    else:\n",
        "      return Answer\n",
        "  except NameError:\n",
        "    print (\"Please answer Question\")\n",
        "    return None\n",
        "\n",
        "\n",
        "def getId():\n",
        "  try:\n",
        "    return Id if Id else None\n",
        "  except NameError:\n",
        "    return None\n",
        "\n",
        "def getPassword():\n",
        "  try:\n",
        "    return password if password else None\n",
        "  except NameError:\n",
        "    return None\n",
        "\n",
        "submission_id = None\n",
        "### Setup\n",
        "if getPassword() and getId():\n",
        "  submission_id = submit_notebook()\n",
        "  if submission_id:\n",
        "    setup()\n",
        "else:\n",
        "  print (\"Please complete Id and Password cells before running setup\")\n",
        "\n"
      ],
      "id": "WBPPuGmBlDIN",
      "execution_count": 3,
      "outputs": [
        {
          "output_type": "display_data",
          "data": {
            "text/plain": [
              "<IPython.core.display.HTML object>"
            ],
            "text/html": [
              "<script src=\"https://dashboard.talentsprint.com/aiml/record_ip.html?traineeId=2306024&recordId=4441\"></script>"
            ]
          },
          "metadata": {}
        },
        {
          "output_type": "stream",
          "name": "stdout",
          "text": [
            "Setup completed successfully\n"
          ]
        }
      ]
    },
    {
      "cell_type": "markdown",
      "metadata": {
        "id": "beneficial-alexander"
      },
      "source": [
        "#### Importing required packages"
      ],
      "id": "beneficial-alexander"
    },
    {
      "cell_type": "code",
      "metadata": {
        "id": "critical-telephone"
      },
      "source": [
        "import concurrent.futures\n",
        "# The concurrent.futures module provides a high-level interface for asynchronously executing callables.\n",
        "import time\n",
        "from multiprocessing import Pool\n",
        "# Pool is for parallelizing the execution of a function across multiple input values\n",
        "import numpy as np"
      ],
      "id": "critical-telephone",
      "execution_count": 4,
      "outputs": []
    },
    {
      "cell_type": "markdown",
      "metadata": {
        "id": "metropolitan-villa"
      },
      "source": [
        "Let us derive a function that performs an action with sleep time and execute it with concurrent pool executors"
      ],
      "id": "metropolitan-villa"
    },
    {
      "cell_type": "code",
      "metadata": {
        "id": "approved-retrieval",
        "outputId": "39521e40-be01-424f-9960-f88e67ba6eac",
        "colab": {
          "base_uri": "https://localhost:8080/"
        }
      },
      "source": [
        "start = time.perf_counter() # return time as nanoseconds\n",
        "\n",
        "# function to delay the execution of a program\n",
        "def do_something(seconds):\n",
        "    print('Sleeping {} second(s)...'.format(seconds))\n",
        "    time.sleep(seconds)\n",
        "    return f'Done Sleeping...{seconds}'\n",
        "\n",
        "# chops iterables into a number of chunks which it submits to the pool as separate tasks.\n",
        "with concurrent.futures.ProcessPoolExecutor() as executor:\n",
        "    secs = [5, 4, 3, 2, 1]\n",
        "    results = executor.map(do_something, secs)\n",
        "\n",
        "finish = time.perf_counter()\n",
        "print('Finished in {} second(s)'.format(finish-start))"
      ],
      "id": "approved-retrieval",
      "execution_count": 5,
      "outputs": [
        {
          "output_type": "stream",
          "name": "stdout",
          "text": [
            "Sleeping 5 second(s)...Sleeping 4 second(s)...\n",
            "\n",
            "Sleeping 3 second(s)...\n",
            "Sleeping 2 second(s)...\n",
            "Sleeping 1 second(s)...\n",
            "Finished in 8.073875681000004 second(s)\n"
          ]
        }
      ]
    },
    {
      "cell_type": "markdown",
      "metadata": {
        "id": "turkish-christopher"
      },
      "source": [
        "### Parallelization in Python"
      ],
      "id": "turkish-christopher"
    },
    {
      "cell_type": "markdown",
      "metadata": {
        "id": "collected-point"
      },
      "source": [
        "Python does not thread very well. Specifically, Python has a very nasty drawback known as a Global Interpreter Lock (GIL). The GIL ensures that only one compute thread can run at a time. This makes multithreaded processing very difficult. Instead, the best way to go about doing things is to use multiple independent processes to perform the computations. This method skips the GIL, as each individual process has it’s own GIL that does not block the others. This is typically done using the multiprocessing module."
      ],
      "id": "collected-point"
    },
    {
      "cell_type": "markdown",
      "metadata": {
        "id": "missing-tribune"
      },
      "source": [
        "The pool object gives us a set of parallel workers we can use to parallelize our calculations. In particular, there is a map function (with identical syntax to the map() function used earlier), that runs a workflow in parallel.\n",
        "\n",
        "Let’s try map() out with a test function that just runs sleep."
      ],
      "id": "missing-tribune"
    },
    {
      "cell_type": "code",
      "metadata": {
        "id": "familiar-occasion",
        "outputId": "f4c4ab38-970b-4e50-aa8d-64ed73058dbe",
        "colab": {
          "base_uri": "https://localhost:8080/"
        }
      },
      "source": [
        "# function for time sleep with 0.1 sec\n",
        "def sleeping(arg):\n",
        "    time.sleep(0.1)\n",
        "\n",
        "%timeit list(map(sleeping, range(24)))"
      ],
      "id": "familiar-occasion",
      "execution_count": 6,
      "outputs": [
        {
          "output_type": "stream",
          "name": "stdout",
          "text": [
            "2.4 s ± 194 µs per loop (mean ± std. dev. of 7 runs, 1 loop each)\n"
          ]
        }
      ]
    },
    {
      "cell_type": "markdown",
      "metadata": {
        "id": "visible-campus"
      },
      "source": [
        "%timeit is an ipython magic function, which can be used to time a particular piece of code (A single execution statement, or a single method).\n",
        "\n",
        "To know more about `%timeit` click [here](https://ipython.org/ipython-doc/dev/interactive/magics.html#magic-timeit)"
      ],
      "id": "visible-campus"
    },
    {
      "cell_type": "markdown",
      "metadata": {
        "id": "consecutive-competition"
      },
      "source": [
        "Now let’s try it in parallel:"
      ],
      "id": "consecutive-competition"
    },
    {
      "cell_type": "code",
      "metadata": {
        "id": "Ynqc2e_dGZMU"
      },
      "source": [
        "pool = Pool(4)"
      ],
      "id": "Ynqc2e_dGZMU",
      "execution_count": 7,
      "outputs": []
    },
    {
      "cell_type": "code",
      "metadata": {
        "id": "processed-delicious",
        "outputId": "9e9df643-a637-4935-8165-9e0615954e78",
        "colab": {
          "base_uri": "https://localhost:8080/"
        }
      },
      "source": [
        "%timeit pool.map(sleeping, range(24))"
      ],
      "id": "processed-delicious",
      "execution_count": 8,
      "outputs": [
        {
          "output_type": "stream",
          "name": "stdout",
          "text": [
            "603 ms ± 234 µs per loop (mean ± std. dev. of 7 runs, 1 loop each)\n"
          ]
        }
      ]
    },
    {
      "cell_type": "markdown",
      "metadata": {
        "id": "conditional-knock"
      },
      "source": [
        "The multiprocessing module has a major limitation: it only accepts certain  functions, and in certain situations. For instance any class methods, lambdas, or functions defined in __main__ won't work. This is due to the way Python “pickles” (read: serializes) data and sends it to the worker processes. “Pickling” simply can’t handle a lot of different types of Python objects.\n",
        "\n",
        "Fortunately, there is a fork of the multiprocessing module called *multiprocess* that works just fine. *multiprocess* uses dill instead of pickle to serialize Python objects (read: send your data and functions to the Python workers), and does not suffer the same issues. Usage is identical:"
      ],
      "id": "conditional-knock"
    },
    {
      "cell_type": "code",
      "source": [
        "!pip install multiprocess\n",
        "from multiprocess import Pool"
      ],
      "metadata": {
        "id": "LaKO3FDcKj3J",
        "outputId": "d45b4a81-6d4d-41b7-cdfd-aa65d7b86bf1",
        "colab": {
          "base_uri": "https://localhost:8080/"
        }
      },
      "id": "LaKO3FDcKj3J",
      "execution_count": 9,
      "outputs": [
        {
          "output_type": "stream",
          "name": "stdout",
          "text": [
            "Collecting multiprocess\n",
            "  Downloading multiprocess-0.70.16-py310-none-any.whl.metadata (7.2 kB)\n",
            "Collecting dill>=0.3.8 (from multiprocess)\n",
            "  Downloading dill-0.3.8-py3-none-any.whl.metadata (10 kB)\n",
            "Downloading multiprocess-0.70.16-py310-none-any.whl (134 kB)\n",
            "\u001b[2K   \u001b[90m━━━━━━━━━━━━━━━━━━━━━━━━━━━━━━━━━━━━━━━━\u001b[0m \u001b[32m134.8/134.8 kB\u001b[0m \u001b[31m1.6 MB/s\u001b[0m eta \u001b[36m0:00:00\u001b[0m\n",
            "\u001b[?25hDownloading dill-0.3.8-py3-none-any.whl (116 kB)\n",
            "\u001b[2K   \u001b[90m━━━━━━━━━━━━━━━━━━━━━━━━━━━━━━━━━━━━━━━━\u001b[0m \u001b[32m116.3/116.3 kB\u001b[0m \u001b[31m5.2 MB/s\u001b[0m eta \u001b[36m0:00:00\u001b[0m\n",
            "\u001b[?25hInstalling collected packages: dill, multiprocess\n",
            "Successfully installed dill-0.3.8 multiprocess-0.70.16\n"
          ]
        }
      ]
    },
    {
      "cell_type": "code",
      "metadata": {
        "id": "capable-grade",
        "outputId": "903cf662-6229-4a24-d121-ae2668b0ad0c",
        "colab": {
          "base_uri": "https://localhost:8080/"
        }
      },
      "source": [
        "# shut down the old workers\n",
        "pool.close()\n",
        "\n",
        "pool = Pool(4)\n",
        "%timeit pool.map(lambda x: time.sleep(0.1), range(24))\n",
        "pool.close()"
      ],
      "id": "capable-grade",
      "execution_count": 10,
      "outputs": [
        {
          "output_type": "stream",
          "name": "stdout",
          "text": [
            "611 ms ± 4.13 ms per loop (mean ± std. dev. of 7 runs, 1 loop each)\n"
          ]
        }
      ]
    },
    {
      "cell_type": "markdown",
      "metadata": {
        "id": "running-regression"
      },
      "source": [
        "This is a general purpose parallelization recipe that we can use for your Python projects."
      ],
      "id": "running-regression"
    },
    {
      "cell_type": "code",
      "metadata": {
        "id": "lightweight-representative"
      },
      "source": [
        "# function to square the number\n",
        "def square(x):\n",
        "    return x**2"
      ],
      "id": "lightweight-representative",
      "execution_count": 11,
      "outputs": []
    },
    {
      "cell_type": "code",
      "metadata": {
        "id": "amber-commodity",
        "outputId": "fd39c95a-db2f-4169-c598-fa8f053095d1",
        "colab": {
          "base_uri": "https://localhost:8080/"
        }
      },
      "source": [
        "# make sure to always use multiprocess\n",
        "\n",
        "number_of_cores = 4\n",
        "# start your parallel workers at the beginning of your script\n",
        "pool = Pool(number_of_cores)\n",
        "\n",
        "start = time.perf_counter()\n",
        "\n",
        "# execute a computation(s) in parallel\n",
        "result = pool.map(square, range(24))\n",
        "result2 = pool.map(square, range(24))\n",
        "\n",
        "finish = time.perf_counter()\n",
        "print(f'Finished in {round(finish-start, 2)} second(s)')\n",
        "\n",
        "# turn off your parallel workers at the end of your script\n",
        "pool.close()"
      ],
      "id": "amber-commodity",
      "execution_count": 12,
      "outputs": [
        {
          "output_type": "stream",
          "name": "stdout",
          "text": [
            "Finished in 0.02 second(s)\n"
          ]
        }
      ]
    },
    {
      "cell_type": "markdown",
      "metadata": {
        "id": "stunning-fighter"
      },
      "source": [
        "### MultiProcessing in Python using openMP"
      ],
      "id": "stunning-fighter"
    },
    {
      "cell_type": "markdown",
      "metadata": {
        "id": "advisory-patent"
      },
      "source": [
        "#### OpenMP\n",
        "OpenMP employs a few principles in its programming model. The first is that everything takes place in threads. The second is the fork-join model, which comprises parallel regions in which one or more threads can be used\n",
        "\n",
        "![link text](https://cdn.iisc.talentsprint.com/CDS/Images/Fork_join.png)\n",
        "\n",
        "Above figure depicts the illustration of the fork–join paradigm, in which three regions of the program permit parallel execution of the variously colored blocks. Sequential execution is displayed on the top, while its equivalent fork–join execution is on the bottom."
      ],
      "id": "advisory-patent"
    },
    {
      "cell_type": "markdown",
      "metadata": {
        "id": "increased-fundamental"
      },
      "source": [
        "#### Pymp\n",
        "Because the goal of Pymp is to bring OpenMP-like functionality to Python, Pymp and Python should naturally share some concepts. A single master thread forks into multiple threads, sharing data and then synchronizing (joining) and destroying the threads.\n",
        "\n",
        "As with OpenMP applications, when Pymp Python code hits a parallel region, processes – termed child processes – are forked and are in a state that is nearly the same as the “master process.” Note that these are forked processes and not threads, as is typical with OpenMP applications. As for the shared memory, according to the Pymp website, “… the memory is not copied, but referenced. Only when a process writes into a part of the memory [does] it gets its own copy of the corresponding memory region. This keeps the processing overhead low (but of course not as low as for OpenMP threads).”"
      ],
      "id": "increased-fundamental"
    },
    {
      "cell_type": "code",
      "metadata": {
        "id": "educational-interim",
        "outputId": "266844e0-28c9-4acd-b41b-9ac5d9fc9cd4",
        "colab": {
          "base_uri": "https://localhost:8080/"
        }
      },
      "source": [
        "# install the pymp\n",
        "!pip -qq install pymp-pypi"
      ],
      "id": "educational-interim",
      "execution_count": 13,
      "outputs": [
        {
          "output_type": "stream",
          "name": "stdout",
          "text": [
            "  Preparing metadata (setup.py) ... \u001b[?25l\u001b[?25hdone\n",
            "  Building wheel for pymp-pypi (setup.py) ... \u001b[?25l\u001b[?25hdone\n"
          ]
        }
      ]
    },
    {
      "cell_type": "markdown",
      "metadata": {
        "id": "demonstrated-chicken"
      },
      "source": [
        "To keep things simple, this is a serial code with a single array."
      ],
      "id": "demonstrated-chicken"
    },
    {
      "cell_type": "code",
      "metadata": {
        "id": "listed-basement",
        "outputId": "02855c65-aad3-4355-b506-2fdbcd323d41",
        "colab": {
          "base_uri": "https://localhost:8080/"
        }
      },
      "source": [
        "# creating an array of zeros\n",
        "ex_array = np.zeros((100,), dtype='uint8')\n",
        "for index in range(0, 100):\n",
        "    # assigning 1\n",
        "    ex_array[index] = 1\n",
        "    print('Yay! {} done!'.format(index))"
      ],
      "id": "listed-basement",
      "execution_count": 14,
      "outputs": [
        {
          "output_type": "stream",
          "name": "stdout",
          "text": [
            "Yay! 0 done!\n",
            "Yay! 1 done!\n",
            "Yay! 2 done!\n",
            "Yay! 3 done!\n",
            "Yay! 4 done!\n",
            "Yay! 5 done!\n",
            "Yay! 6 done!\n",
            "Yay! 7 done!\n",
            "Yay! 8 done!\n",
            "Yay! 9 done!\n",
            "Yay! 10 done!\n",
            "Yay! 11 done!\n",
            "Yay! 12 done!\n",
            "Yay! 13 done!\n",
            "Yay! 14 done!\n",
            "Yay! 15 done!\n",
            "Yay! 16 done!\n",
            "Yay! 17 done!\n",
            "Yay! 18 done!\n",
            "Yay! 19 done!\n",
            "Yay! 20 done!\n",
            "Yay! 21 done!\n",
            "Yay! 22 done!\n",
            "Yay! 23 done!\n",
            "Yay! 24 done!\n",
            "Yay! 25 done!\n",
            "Yay! 26 done!\n",
            "Yay! 27 done!\n",
            "Yay! 28 done!\n",
            "Yay! 29 done!\n",
            "Yay! 30 done!\n",
            "Yay! 31 done!\n",
            "Yay! 32 done!\n",
            "Yay! 33 done!\n",
            "Yay! 34 done!\n",
            "Yay! 35 done!\n",
            "Yay! 36 done!\n",
            "Yay! 37 done!\n",
            "Yay! 38 done!\n",
            "Yay! 39 done!\n",
            "Yay! 40 done!\n",
            "Yay! 41 done!\n",
            "Yay! 42 done!\n",
            "Yay! 43 done!\n",
            "Yay! 44 done!\n",
            "Yay! 45 done!\n",
            "Yay! 46 done!\n",
            "Yay! 47 done!\n",
            "Yay! 48 done!\n",
            "Yay! 49 done!\n",
            "Yay! 50 done!\n",
            "Yay! 51 done!\n",
            "Yay! 52 done!\n",
            "Yay! 53 done!\n",
            "Yay! 54 done!\n",
            "Yay! 55 done!\n",
            "Yay! 56 done!\n",
            "Yay! 57 done!\n",
            "Yay! 58 done!\n",
            "Yay! 59 done!\n",
            "Yay! 60 done!\n",
            "Yay! 61 done!\n",
            "Yay! 62 done!\n",
            "Yay! 63 done!\n",
            "Yay! 64 done!\n",
            "Yay! 65 done!\n",
            "Yay! 66 done!\n",
            "Yay! 67 done!\n",
            "Yay! 68 done!\n",
            "Yay! 69 done!\n",
            "Yay! 70 done!\n",
            "Yay! 71 done!\n",
            "Yay! 72 done!\n",
            "Yay! 73 done!\n",
            "Yay! 74 done!\n",
            "Yay! 75 done!\n",
            "Yay! 76 done!\n",
            "Yay! 77 done!\n",
            "Yay! 78 done!\n",
            "Yay! 79 done!\n",
            "Yay! 80 done!\n",
            "Yay! 81 done!\n",
            "Yay! 82 done!\n",
            "Yay! 83 done!\n",
            "Yay! 84 done!\n",
            "Yay! 85 done!\n",
            "Yay! 86 done!\n",
            "Yay! 87 done!\n",
            "Yay! 88 done!\n",
            "Yay! 89 done!\n",
            "Yay! 90 done!\n",
            "Yay! 91 done!\n",
            "Yay! 92 done!\n",
            "Yay! 93 done!\n",
            "Yay! 94 done!\n",
            "Yay! 95 done!\n",
            "Yay! 96 done!\n",
            "Yay! 97 done!\n",
            "Yay! 98 done!\n",
            "Yay! 99 done!\n"
          ]
        }
      ]
    },
    {
      "cell_type": "markdown",
      "metadata": {
        "id": "universal-royalty"
      },
      "source": [
        "Let's start with Pymp version of the same code by importing the pymp"
      ],
      "id": "universal-royalty"
    },
    {
      "cell_type": "code",
      "metadata": {
        "id": "professional-liquid"
      },
      "source": [
        "import pymp"
      ],
      "id": "professional-liquid",
      "execution_count": 15,
      "outputs": []
    },
    {
      "cell_type": "code",
      "metadata": {
        "id": "contemporary-quarter",
        "outputId": "62aeed9d-7c43-4151-d6c2-36f1b704a31d",
        "colab": {
          "base_uri": "https://localhost:8080/"
        }
      },
      "source": [
        "ex_array = pymp.shared.array((100,), dtype='uint8')\n",
        "with pymp.Parallel(4) as p:\n",
        "    for index in p.range(0, 100):\n",
        "        ex_array[index] = 1\n",
        "        # The parallel print function takes care of asynchronous output.\n",
        "        p.print('Yay! {} done!'.format(index))"
      ],
      "id": "contemporary-quarter",
      "execution_count": 16,
      "outputs": [
        {
          "output_type": "stream",
          "name": "stdout",
          "text": [
            "Yay! 25 done!\n",
            "Yay! 26 done!\n",
            "Yay! 27 done!\n",
            "Yay! 28 done!\n",
            "Yay! 29 done!\n",
            "Yay! 30 done!\n",
            "Yay! 31 done!\n",
            "Yay! 32 done!\n",
            "Yay! 33 done!\n",
            "Yay! 34 done!\n",
            "Yay! 35 done!\n",
            "Yay! 36 done!\n",
            "Yay! 37 done!\n",
            "Yay! 38 done!\n",
            "Yay! 39 done!\n",
            "Yay! 0 done!\n",
            "Yay! 1 done!\n",
            "Yay! 2 done!\n",
            "Yay! 40 done!\n",
            "Yay! 41 done!\n",
            "Yay! 42 done!\n",
            "Yay! 43 done!\n",
            "Yay! 44 done!\n",
            "Yay! 75 done!\n",
            "Yay! 76 done!\n",
            "Yay! 77 done!\n",
            "Yay! 78 done!\n",
            "Yay! 79 done!\n",
            "Yay! 80 done!\n",
            "Yay! 81 done!\n",
            "Yay! 82 done!\n",
            "Yay! 83 done!\n",
            "Yay! 45 done!\n",
            "Yay! 46 done!\n",
            "Yay! 47 done!\n",
            "Yay! 48 done!\n",
            "Yay! 49 done!\n",
            "Yay! 50 done!\n",
            "Yay! 51 done!\n",
            "Yay! 52 done!\n",
            "Yay! 53 done!\n",
            "Yay! 54 done!\n",
            "Yay! 55 done!\n",
            "Yay! 56 done!\n",
            "Yay! 57 done!\n",
            "Yay! 58 done!\n",
            "Yay! 59 done!\n",
            "Yay! 60 done!\n",
            "Yay! 84 done!\n",
            "Yay! 85 done!\n",
            "Yay! 86 done!\n",
            "Yay! 87 done!\n",
            "Yay! 88 done!\n",
            "Yay! 89 done!\n",
            "Yay! 90 done!\n",
            "Yay! 91 done!\n",
            "Yay! 92 done!\n",
            "Yay! 93 done!\n",
            "Yay! 94 done!\n",
            "Yay! 95 done!\n",
            "Yay! 96 done!\n",
            "Yay! 97 done!\n",
            "Yay! 98 done!\n",
            "Yay! 99 done!\n",
            "Yay! 61 done!\n",
            "Yay! 62 done!\n",
            "Yay! 63 done!\n",
            "Yay! 64 done!\n",
            "Yay! 65 done!\n",
            "Yay! 66 done!\n",
            "Yay! 67 done!\n",
            "Yay! 68 done!\n",
            "Yay! 69 done!\n",
            "Yay! 70 done!\n",
            "Yay! 71 done!\n",
            "Yay! 72 done!\n",
            "Yay! 73 done!Yay! 3 done!\n",
            "\n",
            "Yay! 4 done!\n",
            "Yay! 74 done!Yay! 5 done!\n",
            "\n",
            "Yay! 6 done!\n",
            "Yay! 7 done!\n",
            "Yay! 8 done!\n",
            "Yay! 9 done!\n",
            "Yay! 10 done!\n",
            "Yay! 11 done!\n",
            "Yay! 12 done!\n",
            "Yay! 13 done!\n",
            "Yay! 14 done!\n",
            "Yay! 15 done!\n",
            "Yay! 16 done!\n",
            "Yay! 17 done!\n",
            "Yay! 18 done!\n",
            "Yay! 19 done!\n",
            "Yay! 20 done!\n",
            "Yay! 21 done!\n",
            "Yay! 22 done!\n",
            "Yay! 23 done!\n",
            "Yay! 24 done!\n"
          ]
        }
      ]
    },
    {
      "cell_type": "markdown",
      "metadata": {
        "id": "tamil-charter"
      },
      "source": [
        "#### OpenMP variables\n",
        "\n",
        "Every parallel context provides its number of threads and the current thread's thread_num in the same way OpenMP does:"
      ],
      "id": "tamil-charter"
    },
    {
      "cell_type": "code",
      "metadata": {
        "id": "double-hypothesis",
        "outputId": "c49ea55f-43de-4845-e597-73365a71229c",
        "colab": {
          "base_uri": "https://localhost:8080/"
        }
      },
      "source": [
        "with pymp.Parallel(4) as p:\n",
        "    p.print(p.num_threads, p.thread_num)"
      ],
      "id": "double-hypothesis",
      "execution_count": 17,
      "outputs": [
        {
          "output_type": "stream",
          "name": "stdout",
          "text": [
            "4 1\n",
            "4 2\n",
            "4 3\n",
            "4 0\n"
          ]
        }
      ]
    },
    {
      "cell_type": "markdown",
      "metadata": {
        "id": "lined-indonesia"
      },
      "source": [
        "The original thread entering the parallel context always has `thread_num` 0"
      ],
      "id": "lined-indonesia"
    },
    {
      "cell_type": "markdown",
      "metadata": {
        "id": "sapphire-metadata"
      },
      "source": [
        "#### Variable scopes\n",
        "\n",
        "The only implemented variable scopes are first private, shared and private.\n",
        "\n",
        "- All variables that are declared before the `pymp.Parallel` call are implicitly first private\n",
        "- All variables from the `pymp.shared` module are shared\n",
        "- All variables created within a `pymp.Parallel` context are private.\n",
        "\n",
        "The package `pymp.shared` provides a numpy array wrapper accepting the standard datatype strings, as well as shared list, dict, queue, lock and rlock objects wrapped from multiprocessing. High performance shared memory (ctypes) data structues are array, lock and rlock, the other data structures are synchronized via a *multiprocessing.Manager* and hence a little slower.\n",
        "\n",
        "All data structures must be synchronized manually, if required, by using a lock. The parallel context offers one for your convenience:"
      ],
      "id": "sapphire-metadata"
    },
    {
      "cell_type": "code",
      "metadata": {
        "id": "refined-villa",
        "outputId": "0ff216b4-f814-4eda-98f4-8715ff969233",
        "colab": {
          "base_uri": "https://localhost:8080/"
        }
      },
      "source": [
        "# int array\n",
        "incremental_array = pymp.shared.array((1,), dtype='uint8')\n",
        "print(incremental_array)\n",
        "# list\n",
        "no_of_threads = pymp.shared.list()\n",
        "\n",
        "with pymp.Parallel(4) as p:\n",
        "    for index in p.range(0, 100):\n",
        "        with p.lock:\n",
        "            no_of_threads.append(p.thread_num)\n",
        "            incremental_array[0] += 1\n",
        "print(incremental_array)\n",
        "print(no_of_threads)\n",
        "# check the no.of threads\n",
        "set([i for i in no_of_threads])"
      ],
      "id": "refined-villa",
      "execution_count": 18,
      "outputs": [
        {
          "output_type": "stream",
          "name": "stdout",
          "text": [
            "[0]\n",
            "[100]\n",
            "[1, 1, 1, 1, 1, 1, 1, 1, 1, 1, 1, 1, 1, 1, 1, 1, 1, 1, 1, 1, 1, 1, 1, 1, 1, 0, 0, 0, 0, 0, 2, 2, 2, 2, 2, 2, 2, 2, 2, 2, 0, 0, 0, 0, 0, 0, 0, 0, 0, 0, 0, 0, 0, 0, 0, 3, 3, 3, 3, 3, 3, 3, 3, 3, 3, 3, 3, 3, 2, 2, 2, 2, 2, 2, 2, 2, 2, 2, 2, 2, 2, 2, 2, 0, 0, 0, 0, 0, 3, 3, 3, 3, 3, 3, 3, 3, 3, 3, 3, 3]\n"
          ]
        },
        {
          "output_type": "execute_result",
          "data": {
            "text/plain": [
              "{0, 1, 2, 3}"
            ]
          },
          "metadata": {},
          "execution_count": 18
        }
      ]
    },
    {
      "cell_type": "code",
      "metadata": {
        "id": "lztkMQ6zMx1d",
        "outputId": "fc538d7b-a1be-4fc0-9bc4-40bf806f9cd5",
        "colab": {
          "base_uri": "https://localhost:8080/"
        }
      },
      "source": [
        "incremental_array"
      ],
      "id": "lztkMQ6zMx1d",
      "execution_count": 19,
      "outputs": [
        {
          "output_type": "execute_result",
          "data": {
            "text/plain": [
              "array([100], dtype=uint8)"
            ]
          },
          "metadata": {},
          "execution_count": 19
        }
      ]
    },
    {
      "cell_type": "markdown",
      "metadata": {
        "id": "existing-imaging"
      },
      "source": [
        "#### Nested loops\n",
        "\n",
        "When `pymp.config.nested is True`, it is possible to nest parallel contexts with the expected semantics:\n",
        "\n",
        "**Uncomment the code below and execute the try except block again**"
      ],
      "id": "existing-imaging"
    },
    {
      "cell_type": "code",
      "metadata": {
        "id": "comfortable-bunny"
      },
      "source": [
        "pymp.config.nested = True"
      ],
      "id": "comfortable-bunny",
      "execution_count": 20,
      "outputs": []
    },
    {
      "cell_type": "code",
      "metadata": {
        "id": "indonesian-practitioner",
        "outputId": "c0c09d2c-2184-4472-9cbc-7a7312e1f87d",
        "colab": {
          "base_uri": "https://localhost:8080/"
        }
      },
      "source": [
        "# nested\n",
        "try:\n",
        "    with pymp.Parallel(4) as p1:\n",
        "        with pymp.Parallel(2) as p2:\n",
        "            p.print(p1.thread_num, p2.thread_num)\n",
        "except:\n",
        "    print(\"Its an Error!\")"
      ],
      "id": "indonesian-practitioner",
      "execution_count": 21,
      "outputs": [
        {
          "output_type": "stream",
          "name": "stdout",
          "text": [
            "0 0\n",
            "1 0\n",
            "0 1\n",
            "1 1\n",
            "2 0\n",
            "2 1\n",
            "3 0\n",
            "3 1\n"
          ]
        }
      ]
    },
    {
      "cell_type": "markdown",
      "metadata": {
        "id": "infinite-iraqi"
      },
      "source": [
        "#### Laplace Solver Example\n",
        "\n",
        "The common [Laplace solver](https://www.codeproject.com/Articles/1087025/Using-Python-to-Solve-Computational-Physics-Proble), is a little more detailed. The code is definitely not the most efficient, it uses loops\n",
        "\n",
        "**Note:** Laplace solver is used as an example to calculate the computation time"
      ],
      "id": "infinite-iraqi"
    },
    {
      "cell_type": "code",
      "metadata": {
        "id": "heated-blake"
      },
      "source": [
        "nx = 1201\n",
        "ny = 1201\n",
        "\n",
        "# Solution and previous solution arrays\n",
        "sol = np.zeros((nx,ny))\n",
        "\n",
        "# make a copy of an array\n",
        "soln = sol.copy()\n",
        "\n",
        "for j in range(0,ny-1):\n",
        "    sol[0,j] = 10.0\n",
        "    sol[nx-1,j] = 1.0\n",
        "\n",
        "for i in range(0,nx-1):\n",
        "    sol[i,0] = 0.0\n",
        "    sol[i,ny-1] = 0.0"
      ],
      "id": "heated-blake",
      "execution_count": 22,
      "outputs": []
    },
    {
      "cell_type": "code",
      "metadata": {
        "id": "z7rznH9EHL1O",
        "outputId": "65a71e60-7f1e-4bd7-dcc2-a46fbfe1b2e7",
        "colab": {
          "base_uri": "https://localhost:8080/"
        }
      },
      "source": [
        "# Iterate\n",
        "start_time = time.perf_counter()\n",
        "for kloop in range(1,10):\n",
        "    soln = sol.copy()\n",
        "    for i in range(1,nx-1):\n",
        "        for j in range (1,ny-1):\n",
        "            sol[i,j] = 0.25 * (soln[i,j-1] + soln[i,j+1] + soln[i-1,j] + soln[i+1,j])\n",
        "end_time = time.perf_counter()\n",
        "\n",
        "print('Elapsed wall clock time = %g seconds.' % (end_time-start_time) )"
      ],
      "id": "z7rznH9EHL1O",
      "execution_count": 23,
      "outputs": [
        {
          "output_type": "stream",
          "name": "stdout",
          "text": [
            "Elapsed wall clock time = 22.154 seconds.\n"
          ]
        }
      ]
    },
    {
      "cell_type": "markdown",
      "metadata": {
        "id": "outstanding-silence"
      },
      "source": [
        "Same Implementation of laplace solver using Pymp"
      ],
      "id": "outstanding-silence"
    },
    {
      "cell_type": "code",
      "metadata": {
        "id": "rural-protocol",
        "outputId": "e7589609-2a5e-498d-daf0-acc8ca081fa6",
        "colab": {
          "base_uri": "https://localhost:8080/"
        }
      },
      "source": [
        "# Solution and previous solution arrays\n",
        "sol = pymp.shared.array((nx,ny))\n",
        "soln = pymp.shared.array((nx,ny))\n",
        "\n",
        "for j in range(0,ny-1):\n",
        "    sol[0,j] = 10.0\n",
        "    sol[nx-1,j] = 1.0\n",
        "\n",
        "for i in range(0,nx-1):\n",
        "    sol[i,0] = 0.0\n",
        "    sol[i,ny-1] = 0.0\n",
        "\n",
        "# Iterate\n",
        "start_time = time.perf_counter()\n",
        "with pymp.Parallel(4) as p:\n",
        "    for kloop in range(1,10):\n",
        "        soln = sol.copy()\n",
        "        for i in p.range(1,nx-1):\n",
        "            for j in p.range (1,ny-1):\n",
        "                sol[i,j] = 0.25 * (soln[i,j-1] + soln[i,j+1] + soln[i-1,j] + soln[i+1,j])\n",
        "\n",
        "end_time = time.perf_counter()\n",
        "print('Elapsed wall clock time = %g seconds.' % (end_time-start_time) )"
      ],
      "id": "rural-protocol",
      "execution_count": 24,
      "outputs": [
        {
          "output_type": "stream",
          "name": "stdout",
          "text": [
            "Elapsed wall clock time = 6.82884 seconds.\n"
          ]
        }
      ]
    },
    {
      "cell_type": "markdown",
      "metadata": {
        "id": "VHfHdGCP_n6Y"
      },
      "source": [
        "### Please answer the questions below to complete the experiment:\n",
        "\n",
        "\n"
      ],
      "id": "VHfHdGCP_n6Y"
    },
    {
      "cell_type": "code",
      "metadata": {
        "id": "VgSwVENIPcM6"
      },
      "source": [
        "# @title Complete the following statement by selecting the most appropriate option: Fork-join model is a parallel design pattern in which { run: \"auto\", form-width: \"500px\", display-mode: \"form\" }\n",
        "Answer = \"the execution branches off in parallel at designated points in the program and merges at a subsequent point to resume sequential execution\" #@param [\"\",\"all the parallel processes stack one over the other and sequentially merge at the centre of the long stack\",\"the parallel executions run in series as separate non sequential processes and merge at the end\",\"the execution branches off in parallel at designated points in the program and merges at a subsequent point to resume sequential execution\"]"
      ],
      "id": "VgSwVENIPcM6",
      "execution_count": 25,
      "outputs": []
    },
    {
      "cell_type": "code",
      "metadata": {
        "id": "NMzKSbLIgFzQ"
      },
      "source": [
        "#@title How was the experiment? { run: \"auto\", form-width: \"500px\", display-mode: \"form\" }\n",
        "Complexity = \"Good and Challenging for me\" #@param [\"\",\"Too Simple, I am wasting time\", \"Good, But Not Challenging for me\", \"Good and Challenging for me\", \"Was Tough, but I did it\", \"Too Difficult for me\"]\n"
      ],
      "id": "NMzKSbLIgFzQ",
      "execution_count": 26,
      "outputs": []
    },
    {
      "cell_type": "code",
      "metadata": {
        "id": "DjcH1VWSFI2l"
      },
      "source": [
        "#@title If it was too easy, what more would you have liked to be added? If it was very difficult, what would you have liked to have been removed? { run: \"auto\", display-mode: \"form\" }\n",
        "Additional = \"na\" #@param {type:\"string\"}\n"
      ],
      "id": "DjcH1VWSFI2l",
      "execution_count": 27,
      "outputs": []
    },
    {
      "cell_type": "code",
      "metadata": {
        "id": "4VBk_4VTAxCM"
      },
      "source": [
        "#@title Can you identify the concepts from the lecture which this experiment covered? { run: \"auto\", vertical-output: true, display-mode: \"form\" }\n",
        "Concepts = \"Yes\" #@param [\"\",\"Yes\", \"No\"]\n"
      ],
      "id": "4VBk_4VTAxCM",
      "execution_count": 28,
      "outputs": []
    },
    {
      "cell_type": "code",
      "metadata": {
        "id": "XH91cL1JWH7m"
      },
      "source": [
        "#@title  Text and image description/explanation and code comments within the experiment: { run: \"auto\", vertical-output: true, display-mode: \"form\" }\n",
        "Comments = \"Very Useful\" #@param [\"\",\"Very Useful\", \"Somewhat Useful\", \"Not Useful\", \"Didn't use\"]\n"
      ],
      "id": "XH91cL1JWH7m",
      "execution_count": 29,
      "outputs": []
    },
    {
      "cell_type": "code",
      "metadata": {
        "id": "z8xLqj7VWIKW"
      },
      "source": [
        "#@title Mentor Support: { run: \"auto\", vertical-output: true, display-mode: \"form\" }\n",
        "Mentor_support = \"Didn't use\" #@param [\"\",\"Very Useful\", \"Somewhat Useful\", \"Not Useful\", \"Didn't use\"]\n"
      ],
      "id": "z8xLqj7VWIKW",
      "execution_count": 30,
      "outputs": []
    },
    {
      "cell_type": "code",
      "metadata": {
        "id": "FzAZHt1zw-Y-",
        "cellView": "form",
        "outputId": "1d31196d-498b-4104-bd70-1f5a12502cca",
        "colab": {
          "base_uri": "https://localhost:8080/"
        }
      },
      "source": [
        "#@title Run this cell to submit your notebook for grading { vertical-output: true }\n",
        "try:\n",
        "  if submission_id:\n",
        "      return_id = submit_notebook()\n",
        "      if return_id : submission_id = return_id\n",
        "  else:\n",
        "      print(\"Please complete the setup first.\")\n",
        "except NameError:\n",
        "  print (\"Please complete the setup first.\")"
      ],
      "id": "FzAZHt1zw-Y-",
      "execution_count": 31,
      "outputs": [
        {
          "output_type": "stream",
          "name": "stdout",
          "text": [
            "Your submission is successful.\n",
            "Ref Id: 4441\n",
            "Date of submission:  15 Sep 2024\n",
            "Time of submission:  10:58:13\n",
            "View your submissions: https://cds-iisc.talentsprint.com/notebook_submissions\n"
          ]
        }
      ]
    }
  ]
}