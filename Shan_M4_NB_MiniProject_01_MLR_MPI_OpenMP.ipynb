{
  "nbformat": 4,
  "nbformat_minor": 5,
  "metadata": {
    "colab": {
      "provenance": [],
      "include_colab_link": true
    },
    "kernelspec": {
      "display_name": "Python 3",
      "name": "python3"
    },
    "language_info": {
      "codemirror_mode": {
        "name": "ipython",
        "version": 3
      },
      "file_extension": ".py",
      "mimetype": "text/x-python",
      "name": "python",
      "nbconvert_exporter": "python",
      "pygments_lexer": "ipython3",
      "version": "3.6.7rc1"
    }
  },
  "cells": [
    {
      "cell_type": "markdown",
      "metadata": {
        "id": "view-in-github",
        "colab_type": "text"
      },
      "source": [
        "<a href=\"https://colab.research.google.com/github/shanvelc/module4/blob/main/Shan_M4_NB_MiniProject_01_MLR_MPI_OpenMP.ipynb\" target=\"_parent\"><img src=\"https://colab.research.google.com/assets/colab-badge.svg\" alt=\"Open In Colab\"/></a>"
      ]
    },
    {
      "cell_type": "markdown",
      "metadata": {
        "id": "heated-queens"
      },
      "source": [
        "# Advanced Certification Program in Computational Data Science\n",
        "## A program by IISc and TalentSprint\n",
        "### Mini-Project: Implementation of Multiple Linear Regression using MPI and OpenMP"
      ],
      "id": "heated-queens"
    },
    {
      "cell_type": "markdown",
      "metadata": {
        "id": "military-proportion"
      },
      "source": [
        "## Learning Objectives"
      ],
      "id": "military-proportion"
    },
    {
      "cell_type": "markdown",
      "metadata": {
        "id": "durable-grounds"
      },
      "source": [
        "At the end of the mini-project, you will be able to :\n",
        "\n",
        "* understand the collective communication operations like scatter, gather, broadcast\n",
        "* understand the blocking and non-blocking communication\n",
        "* implement multiple linear regression and run it using MPI\n",
        "* implement the multiple linear regression based predictions using OpenMP"
      ],
      "id": "durable-grounds"
    },
    {
      "cell_type": "markdown",
      "metadata": {
        "id": "growing-queens"
      },
      "source": [
        "### Dataset"
      ],
      "id": "growing-queens"
    },
    {
      "cell_type": "markdown",
      "metadata": {
        "id": "yLwz-D_xVT8o"
      },
      "source": [
        "The dataset chosen for this mini-project is [Combined Cycle Power Plant](https://archive.ics.uci.edu/ml/datasets/combined+cycle+power+plant). The dataset is made up of 9568 records and 5 columns. Each record contains the values for Ambient Temperature, Exhaust Vaccum, Ambient Pressure, Relative Humidity and Energy Output.\n",
        "\n",
        "Predicting full load electrical power output of a base load power plant is important in order to maximize the profit from the available megawatt hours.  The base load operation of a power plant is influenced by four main parameters, which are used as input variables in the dataset, such as ambient temperature, atmospheric pressure, relative humidity, and exhaust steam pressure. These parameters affect electrical power output, which is considered as the target variable.\n",
        "\n",
        "**Note:** The data was collected over a six year period (2006-11)."
      ],
      "id": "yLwz-D_xVT8o"
    },
    {
      "cell_type": "markdown",
      "metadata": {
        "id": "dominant-residence"
      },
      "source": [
        "## Information"
      ],
      "id": "dominant-residence"
    },
    {
      "cell_type": "markdown",
      "metadata": {
        "id": "coated-timing"
      },
      "source": [
        "#### MPI in a Nutshell\n",
        "\n",
        "MPI stands for \"Message Passing Interface\". It is a library of functions (in C / Python) or subroutines (in Fortran) that you insert into source code to perform data communication between processes. MPI was developed over two years of discussions led by the MPI Forum, a group of roughly sixty people representing some forty organizations.\n",
        "\n",
        "To know more about MPI click [here](https://hpc-tutorials.llnl.gov/mpi/)\n",
        "\n",
        "\n",
        "#### Multiple Linear Regression\n",
        "\n",
        "Multiple regression is an extension of simple linear regression. It is used when we want to predict the value of a variable based on the value of two or more other variables. The variable we want to predict is called the dependent variable (or sometimes, the outcome, target or criterion variable). The variables we are using to predict the value of the dependent variable are called the independent variables (or sometimes, the predictor, explanatory or regressor variables)."
      ],
      "id": "coated-timing"
    },
    {
      "cell_type": "markdown",
      "metadata": {
        "id": "global-savings"
      },
      "source": [
        "**Note:** We will be using the mpi4py Python package for MPI based code implementation"
      ],
      "id": "global-savings"
    },
    {
      "cell_type": "markdown",
      "metadata": {
        "id": "ndQNKsjS7c04"
      },
      "source": [
        "## Grading = 20 Points"
      ],
      "id": "ndQNKsjS7c04"
    },
    {
      "cell_type": "markdown",
      "metadata": {
        "id": "green-deviation"
      },
      "source": [
        "**Run the below code to install mpi4py package**"
      ],
      "id": "green-deviation"
    },
    {
      "cell_type": "markdown",
      "metadata": {
        "id": "dedicated-thong"
      },
      "source": [
        "#### Importing Necessary Packages"
      ],
      "id": "dedicated-thong"
    },
    {
      "cell_type": "code",
      "metadata": {
        "id": "reported-acrobat",
        "scrolled": true
      },
      "source": [
        "# Importing pandas\n",
        "import pandas as pd\n",
        "# Importing Numpy\n",
        "import numpy as np\n",
        "# Importing sqrt function from the Math\n",
        "from math import sqrt\n",
        "# Importing Decimal, ROUND_HALF_UP functions from the decimal package\n",
        "from decimal import Decimal, ROUND_HALF_UP\n",
        "import time"
      ],
      "id": "reported-acrobat",
      "execution_count": null,
      "outputs": []
    },
    {
      "cell_type": "markdown",
      "metadata": {
        "id": "standing-zimbabwe"
      },
      "source": [
        "#### Downloading the data"
      ],
      "id": "standing-zimbabwe"
    },
    {
      "cell_type": "code",
      "metadata": {
        "id": "universal-jonathan",
        "scrolled": true
      },
      "source": [
        "#@title Download the data\n",
        "!wget -qq https://cdn.iisc.talentsprint.com/CDS/Datasets/PowerPlantData.csv"
      ],
      "id": "universal-jonathan",
      "execution_count": null,
      "outputs": []
    },
    {
      "cell_type": "markdown",
      "metadata": {
        "id": "forty-still"
      },
      "source": [
        "### Overview\n",
        "\n",
        "* Load the data and perform data pre-processing\n",
        "* Identify the features, target and split the data into train and test\n",
        "* Implement multiple Linear Regression by estimating the coefficients on the given data\n",
        "* Use MPI package to distribute the data and implement `communicator`\n",
        "* Define functions for each objective and make a script (.py) file to execute using MPI command\n",
        "* Use OpenMP component to predict the data and calculate the error on the predicted data\n",
        "* Implement the Linear Regression from `sklearn` and compare the results"
      ],
      "id": "forty-still"
    },
    {
      "cell_type": "markdown",
      "metadata": {
        "id": "early-peace"
      },
      "source": [
        "#### Exercise 1: Load data (1 point)\n",
        "\n",
        "Write a function that takes the filename as input and loads the data in a pandas dataframe with the column names as Ambient Temperature, Exhaust Vaccum, Ambient Pressure, Relative Humidity and Energy Output respectively.\n",
        "\n",
        "**Hint:** read_csv()\n"
      ],
      "id": "early-peace"
    },
    {
      "cell_type": "code",
      "metadata": {
        "id": "differential-vacation",
        "scrolled": true
      },
      "source": [
        "FILENAME = \"/content/PowerPlantData.csv\" # File path\n",
        "\n",
        "# YOUR CODE HERE to Define a function to load the data\n",
        "def loadData(filename):\n",
        "  return pd.read_csv(filename, names= ['AmbientTemperature', 'ExhaustVaccum', 'AmbientPressure', 'RelativeHumidity', 'EnergyOutput'], header=0)"
      ],
      "id": "differential-vacation",
      "execution_count": null,
      "outputs": []
    },
    {
      "cell_type": "code",
      "source": [
        "df = loadData(FILENAME)\n",
        "df.head()"
      ],
      "metadata": {
        "id": "OxXbwz_b8NQj"
      },
      "id": "OxXbwz_b8NQj",
      "execution_count": null,
      "outputs": []
    },
    {
      "cell_type": "markdown",
      "metadata": {
        "id": "italian-expense"
      },
      "source": [
        "#### Exercise 2: Explore data (1 point)\n",
        "\n",
        "Write a function that takes the data loaded using the above defined function as input and explore it.\n",
        "\n",
        "**Hint:** You can define and check for following things in the dataset inside a function\n",
        "\n",
        "- checking for the number of rows and columns\n",
        "- summary of the dataset\n",
        "- check for the null values\n",
        "- check for the duplicate values"
      ],
      "id": "italian-expense"
    },
    {
      "cell_type": "code",
      "metadata": {
        "id": "local-quarter",
        "scrolled": true
      },
      "source": [
        "# YOUR CODE HERE\n",
        "def exploreData(df):\n",
        "  print('Number of rows: {}'.format(df.shape[0]))\n",
        "  print('Number of columns: {}'.format(df.shape[1]))\n",
        "  print('Dataset Summary', df.describe())\n",
        "  print('Null Values', df.isnull().sum())\n",
        "  print('Duplicate Values', df.duplicated().sum())\n",
        "  return None"
      ],
      "id": "local-quarter",
      "execution_count": null,
      "outputs": []
    },
    {
      "cell_type": "code",
      "source": [
        "exploreData(df)"
      ],
      "metadata": {
        "id": "XnwxRDWj-T_F"
      },
      "id": "XnwxRDWj-T_F",
      "execution_count": null,
      "outputs": []
    },
    {
      "cell_type": "markdown",
      "metadata": {
        "id": "whole-retailer"
      },
      "source": [
        "#### Exercise 3: Handle missing data (1 point)\n",
        "\n",
        "After exploring the dataset if there are any null values present in the dataset then define a function that takes data loaded using the above defined function as input and handle the null values accordingly.\n",
        "\n",
        "**Hint:**\n",
        "\n",
        "- Drop the records containing the null values - dropna()\n",
        "- Replace the null values with the mean/median/mode - fillna()"
      ],
      "id": "whole-retailer"
    },
    {
      "cell_type": "code",
      "metadata": {
        "id": "incorporated-child",
        "scrolled": true
      },
      "source": [
        "# Function to handle missing data\n",
        "\n",
        "# YOUR CODE HERE\n",
        "def handleMissingData(df):\n",
        "  df.dropna(inplace=True)\n",
        "  df.fillna(df.mean(), inplace=True)\n",
        "  return df"
      ],
      "id": "incorporated-child",
      "execution_count": null,
      "outputs": []
    },
    {
      "cell_type": "code",
      "source": [
        "df = handleMissingData(df)\n",
        "exploreData(df)"
      ],
      "metadata": {
        "id": "-YCntj-s-zTF"
      },
      "id": "-YCntj-s-zTF",
      "execution_count": null,
      "outputs": []
    },
    {
      "cell_type": "markdown",
      "metadata": {
        "id": "loaded-arbitration"
      },
      "source": [
        "#### Exercise 4: Scale the data (1 point)\n",
        "\n",
        "Write a function that takes the data after handling the missing data as input and returns the standardized data.\n",
        "\n",
        "**Hint:**\n",
        "\n",
        "- standardization of the data  can be performed using the below formula\n",
        "\n",
        "$ (x - mean(x)) / std(x) $"
      ],
      "id": "loaded-arbitration"
    },
    {
      "cell_type": "code",
      "metadata": {
        "id": "extraordinary-qatar",
        "scrolled": true
      },
      "source": [
        "# Defining a function to standardize the data\n",
        "\n",
        "# YOUR CODE HERE\n",
        "def scaleData(df):\n",
        "  return (df - df.mean())/df.std()"
      ],
      "id": "extraordinary-qatar",
      "execution_count": null,
      "outputs": []
    },
    {
      "cell_type": "code",
      "source": [
        "df = scaleData(df)\n",
        "df.head()"
      ],
      "metadata": {
        "id": "co66Dtcj_GIa"
      },
      "id": "co66Dtcj_GIa",
      "execution_count": null,
      "outputs": []
    },
    {
      "cell_type": "markdown",
      "metadata": {
        "id": "thermal-rehabilitation"
      },
      "source": [
        "#### Exercise 5: Feature selection (1 point)\n",
        "\n",
        "Write a function that takes scaled data as input and returns the features and target variable values\n",
        "\n",
        "**Hint:**\n",
        "\n",
        "- Features: AmbientTemperature, ExhaustVaccum, AmbientPressure, RelativeHumidity\n",
        "- Target Variable: EnergyOutput"
      ],
      "id": "thermal-rehabilitation"
    },
    {
      "cell_type": "code",
      "metadata": {
        "id": "terminal-starter",
        "scrolled": true
      },
      "source": [
        "# Define a function\n",
        "\n",
        "# YOUR CODE HERE\n",
        "def featureTargetSplit(df):\n",
        "  features = df.drop('EnergyOutput', axis=1)\n",
        "  target = df['EnergyOutput']\n",
        "  return features, target"
      ],
      "id": "terminal-starter",
      "execution_count": null,
      "outputs": []
    },
    {
      "cell_type": "code",
      "source": [
        "features, target = featureTargetSplit(df)\n",
        "print(features.head())\n",
        "print(target.head())"
      ],
      "metadata": {
        "id": "oUfCDj8H_QlV"
      },
      "id": "oUfCDj8H_QlV",
      "execution_count": null,
      "outputs": []
    },
    {
      "cell_type": "markdown",
      "metadata": {
        "id": "timely-bruce"
      },
      "source": [
        "#### Exercise 6: Correlation (1 point)\n",
        "\n",
        "Calculate correlation between the variables"
      ],
      "id": "timely-bruce"
    },
    {
      "cell_type": "code",
      "metadata": {
        "id": "durable-making",
        "scrolled": true
      },
      "source": [
        "# YOUR CODE HERE\n",
        "#df.corr().style.background_gradient(cmap='coolwarm')\n",
        "\n",
        "import seaborn as sns\n",
        "import matplotlib.pyplot as plt\n",
        "sns.heatmap(df.corr(), cmap='RdBu')\n",
        "plt.show()"
      ],
      "id": "durable-making",
      "execution_count": null,
      "outputs": []
    },
    {
      "cell_type": "markdown",
      "metadata": {
        "id": "honest-remainder"
      },
      "source": [
        "#### Exercise 7: Estimate the coefficients (2 points)\n",
        "\n",
        "Write a function that takes features and target as input and returns the estimated coefficient values\n",
        "\n",
        "**Hint:**\n",
        "\n",
        "- Calculate the estimated coefficients using the below formula\n",
        "\n",
        "$ β = (X^T X)^{-1} X^T y $\n",
        "\n",
        "- transpose(), np.linalg.inv()"
      ],
      "id": "honest-remainder"
    },
    {
      "cell_type": "code",
      "metadata": {
        "id": "dimensional-victory",
        "scrolled": true
      },
      "source": [
        "# Calculating the coeffients\n",
        "\n",
        "# YOUR CODE HERE\n",
        "def estimated_coefficients(x, y):\n",
        "  return np.linalg.inv(x.T.dot(x)).dot(x.T).dot(y)"
      ],
      "id": "dimensional-victory",
      "execution_count": null,
      "outputs": []
    },
    {
      "cell_type": "code",
      "source": [
        "coefficients = estimated_coefficients(features, target)\n",
        "print(coefficients)"
      ],
      "metadata": {
        "id": "FTWWGzEKA1-G"
      },
      "id": "FTWWGzEKA1-G",
      "execution_count": null,
      "outputs": []
    },
    {
      "cell_type": "markdown",
      "metadata": {
        "id": "interior-bennett"
      },
      "source": [
        "#### Exercise 8: Fit the data to estimate the coefficients (2 points)\n",
        "\n",
        "Write a function named fit which takes features and targets as input and returns the intercept and coefficient values.\n",
        "\n",
        "**Hint:**\n",
        "\n",
        "- create a dummy column in the features dataframe which is made up of all ones\n",
        "- convert the features dataframe into numpy array\n",
        "- call the estimated coefficients function which is defined above\n",
        "- np.ones(), np.concatenate()"
      ],
      "id": "interior-bennett"
    },
    {
      "cell_type": "code",
      "metadata": {
        "id": "local-texas",
        "scrolled": true
      },
      "source": [
        "# defining a fit function\n",
        "def fit(x, y):\n",
        "    # YOUR CODE HERE\n",
        "    x = np.concatenate((np.ones((x.shape[0], 1)), x), axis=1)\n",
        "    return estimated_coefficients(x, y)"
      ],
      "id": "local-texas",
      "execution_count": null,
      "outputs": []
    },
    {
      "cell_type": "code",
      "source": [
        "coefficients = fit(features, target)\n",
        "print(coefficients)"
      ],
      "metadata": {
        "id": "U2zklwGCEcXx"
      },
      "id": "U2zklwGCEcXx",
      "execution_count": null,
      "outputs": []
    },
    {
      "cell_type": "markdown",
      "metadata": {
        "id": "hybrid-quick"
      },
      "source": [
        "#### Exercise 9: Predict the data on estimated coefficients (1 point)\n",
        "\n",
        "Write a function named predict which takes features, intercept and coefficient values as input and returns the predicted values.\n",
        "\n",
        "**Hint:**\n",
        "\n",
        "- Fit the intercept, coefficients values in the below equation\n",
        "\n",
        "  $y = b_0 + b_1*x + ... + b_i*x_i$"
      ],
      "id": "hybrid-quick"
    },
    {
      "cell_type": "code",
      "metadata": {
        "id": "buried-attention",
        "scrolled": true
      },
      "source": [
        " # fucntion to predict the values\n",
        "def predict(x, intercept, coefficients):\n",
        "    '''\n",
        "    y = b_0 + b_1*x + ... + b_i*x_i\n",
        "    '''\n",
        "    #YOUR CODE HERE\n",
        "    predictions = intercept + np.dot(x, coefficients)\n",
        "\n",
        "    return predictions"
      ],
      "id": "buried-attention",
      "execution_count": null,
      "outputs": []
    },
    {
      "cell_type": "code",
      "source": [
        "predictions = predict(features, coefficients[0], coefficients[1:])\n",
        "print(predictions)"
      ],
      "metadata": {
        "id": "TviTh6s_DSu5"
      },
      "id": "TviTh6s_DSu5",
      "execution_count": null,
      "outputs": []
    },
    {
      "cell_type": "markdown",
      "metadata": {
        "id": "rolled-consultancy"
      },
      "source": [
        "#### Exercise 10: Root mean squared error (1 point)\n",
        "\n",
        "Write a function to calculate the RMSE error.\n",
        "\n",
        "**Hint:**\n",
        "\n",
        "- [How to calculate the RSME error](https://towardsdatascience.com/what-does-rmse-really-mean-806b65f2e48e)"
      ],
      "id": "rolled-consultancy"
    },
    {
      "cell_type": "code",
      "metadata": {
        "id": "phantom-alabama",
        "scrolled": true
      },
      "source": [
        "# Define a function to calculate the error\n",
        "from sklearn.metrics import mean_squared_error\n",
        "# YOUR CODE HERE\n",
        "def rmse(actual, predicted):\n",
        "  return sqrt(mean_squared_error(actual, predicted))"
      ],
      "id": "phantom-alabama",
      "execution_count": null,
      "outputs": []
    },
    {
      "cell_type": "code",
      "source": [
        "error = rmse(target, predictions)\n",
        "print(error)"
      ],
      "metadata": {
        "id": "sDOGO2JWEtZL"
      },
      "id": "sDOGO2JWEtZL",
      "execution_count": null,
      "outputs": []
    },
    {
      "cell_type": "markdown",
      "metadata": {
        "id": "experimental-discrimination"
      },
      "source": [
        "#### Exercise 11: Split the data into train and test (1 point)\n",
        "\n",
        "Write a function named train_test_split which takes features and targets as input and returns the train and test sets respectively.\n",
        "\n",
        "**Hint:**\n",
        "\n",
        "- Shuffle the data\n",
        "- Consider 70 % of data as a train set and the rest of the data as a test set"
      ],
      "id": "experimental-discrimination"
    },
    {
      "cell_type": "code",
      "metadata": {
        "id": "dangerous-salmon",
        "scrolled": true
      },
      "source": [
        "# YOUR CODE HERE\n",
        "from sklearn.model_selection import train_test_split\n",
        "def train_testsplit(x, y):\n",
        "  return train_test_split(x, y, test_size=0.3, shuffle=True)"
      ],
      "id": "dangerous-salmon",
      "execution_count": null,
      "outputs": []
    },
    {
      "cell_type": "code",
      "source": [
        "x_train, x_test, y_train, y_test = train_test_split(features, target)\n",
        "print(x_train.shape, x_test.shape, y_train.shape, y_test.shape)"
      ],
      "metadata": {
        "id": "Loy-BYHjE2CQ"
      },
      "id": "Loy-BYHjE2CQ",
      "execution_count": null,
      "outputs": []
    },
    {
      "cell_type": "code",
      "source": [
        "import multiprocessing\n",
        "\n",
        "cpuCount = multiprocessing.cpu_count()\n",
        "print(f\"--- Current CPU has {cpuCount} cores ---\")"
      ],
      "metadata": {
        "id": "m0sVqW1R1aQf"
      },
      "id": "m0sVqW1R1aQf",
      "execution_count": null,
      "outputs": []
    },
    {
      "cell_type": "code",
      "source": [
        "coefficients_train = fit(x_train, y_train)\n",
        "#print(coefficients_train)\n",
        "\n",
        "start_time = time.perf_counter()\n",
        "predictions_test = predict(x_test, coefficients_train[0], coefficients_train[1:])\n",
        "#print(predictions_train)\n",
        "\n",
        "error_train = rmse(y_test, predictions_test)\n",
        "print(error_train)\n",
        "print(f\"--- Time taken {time.perf_counter() - start_time} seconds with 'Sequential' execution on {cpuCount} cores ---\")"
      ],
      "metadata": {
        "id": "Mebatok9F9Zy"
      },
      "id": "Mebatok9F9Zy",
      "execution_count": null,
      "outputs": []
    },
    {
      "cell_type": "markdown",
      "metadata": {
        "id": "living-operation"
      },
      "source": [
        "#### Exercise 12: Implement predict using OpenMP (1 point)\n",
        "\n",
        "Get the predictions for test data and calculate the test error(RMSE) by implementing the OpenMP (pymp)\n",
        "\n",
        "**Hints:**\n",
        "\n",
        "* Using the pymp.Parallel implement the predict function (use from above)\n",
        "\n",
        "* Call the predict function by passing test data as an argument\n",
        "\n",
        "* calculate the error (RMSE) by comparing the Actual test data and predicted test data"
      ],
      "id": "living-operation"
    },
    {
      "cell_type": "code",
      "source": [
        "!pip install pymp-pypi"
      ],
      "metadata": {
        "id": "1PndfF9b_mkN",
        "collapsed": true
      },
      "id": "1PndfF9b_mkN",
      "execution_count": null,
      "outputs": []
    },
    {
      "cell_type": "code",
      "source": [
        "import pymp\n",
        "# YOUR CODE HERE\n",
        "start_time = time.perf_counter()\n",
        "#cpuCount = 4\n",
        "with pymp.Parallel(cpuCount) as p:\n",
        "    predictions_test = predict(x_test, coefficients_train[0], coefficients_train[1:])\n",
        "    error_test = rmse(y_test, predictions_test)\n",
        "    print(error_test)\n",
        "print(f\"--- Time taken {time.perf_counter() - start_time} seconds during 'Parallel' execution on {cpuCount} cores ---\")"
      ],
      "metadata": {
        "id": "o8DSppnV_wQa"
      },
      "id": "o8DSppnV_wQa",
      "execution_count": null,
      "outputs": []
    },
    {
      "cell_type": "markdown",
      "metadata": {
        "id": "covered-canon"
      },
      "source": [
        "#### Exercise 13: Create a communicator (1 point)\n",
        "\n",
        "Create a comunicator and define the rank and size"
      ],
      "id": "covered-canon"
    },
    {
      "cell_type": "code",
      "metadata": {
        "id": "designing-marketing",
        "scrolled": true
      },
      "source": [
        "!pip install mpi4py"
      ],
      "id": "designing-marketing",
      "execution_count": null,
      "outputs": []
    },
    {
      "cell_type": "code",
      "metadata": {
        "id": "radio-origin",
        "scrolled": true
      },
      "source": [
        "# YOUR CODE HERE\n",
        "\n",
        "# Importing MPI from mpi4py package\n",
        "#%%writefile rank.py\n",
        "from mpi4py import MPI # Importing mpi4py package from MPI module\n",
        "# Define a function\n",
        "\n",
        "# creating the communicator\n",
        "comm = MPI.COMM_WORLD\n",
        "# number of the process running the code i.e rank\n",
        "rank = comm.Get_rank()\n",
        "# total number of processes running i.e size\n",
        "size = comm.Get_size()\n",
        "# Displaying the rank and size of a communicator\n",
        "print(\"rank is {} and size is {}\".format(rank,size))"
      ],
      "id": "radio-origin",
      "execution_count": null,
      "outputs": []
    },
    {
      "cell_type": "markdown",
      "metadata": {
        "id": "miniature-plaza"
      },
      "source": [
        "#### Exercise 14: Divide the data into slices (1 point)\n",
        "\n",
        "Write a function named dividing_data which takes train features set, train target set, and size of workers as inputs and returns the sliced data for each worker.\n",
        "\n",
        "![img](https://cdn.iisc.talentsprint.com/CDS/Images/MiniProject_MPI_DataSlice.JPG)\n",
        "\n",
        "For Example, if there are 4 processes, slice the data into 4 equal parts with 25% ratio\n",
        "\n",
        "**Hint:**\n",
        "\n",
        "- Divide the Data equally among the workers\n",
        "  - Create an empty list\n",
        "  - Iterate over the size of workers\n",
        "  - Append each slice of data to the list"
      ],
      "id": "miniature-plaza"
    },
    {
      "cell_type": "code",
      "metadata": {
        "id": "signal-medicaid",
        "scrolled": true
      },
      "source": [
        "def dividing_data(x_train, y_train, size_of_workers):\n",
        "    # Size of the slice\n",
        "    slice_for_each_worker = int(Decimal(x_train.shape[0]/size_of_workers).quantize(Decimal('1.'), rounding = ROUND_HALF_UP))\n",
        "    print('Total train size: {} sliced in {} workers'.format(x_train.shape[0], size_of_workers))\n",
        "    print('Slice of data for each worker: {}'.format(slice_for_each_worker))\n",
        "    # YOUR CODE HERE\n",
        "    slicedFeatures = []\n",
        "    slicedTarget = []\n",
        "\n",
        "    for i in range(size_of_workers):\n",
        "      slicedFeatures.append(x_train[i*slice_for_each_worker:(i+1)*slice_for_each_worker])\n",
        "      slicedTarget.append(y_train[i*slice_for_each_worker:(i+1)*slice_for_each_worker])\n",
        "\n",
        "    return slicedFeatures, slicedTarget\n"
      ],
      "id": "signal-medicaid",
      "execution_count": null,
      "outputs": []
    },
    {
      "cell_type": "code",
      "source": [
        "#cpuCount = 4\n",
        "slicedDataList = dividing_data(x_train, y_train, cpuCount)\n",
        "print(slicedDataList)"
      ],
      "metadata": {
        "id": "3Gz-MeBGqgKu"
      },
      "id": "3Gz-MeBGqgKu",
      "execution_count": null,
      "outputs": []
    },
    {
      "cell_type": "markdown",
      "metadata": {
        "id": "changing-conditioning"
      },
      "source": [
        "#### Exercise 15: Prepare the data in root worker to assign data for all the workers (1 point)\n",
        "\n",
        "- When it is the root worker, perform the below operation:\n",
        "    - Store the features and target values in separate variables\n",
        "    - Split the data into train and test sets using the train_test_split function defined above\n",
        "    - Divide the data among the workers using the dividing_data function above"
      ],
      "id": "changing-conditioning"
    },
    {
      "cell_type": "code",
      "source": [
        "print(rank)"
      ],
      "metadata": {
        "id": "M7N25SznLXhe"
      },
      "id": "M7N25SznLXhe",
      "execution_count": null,
      "outputs": []
    },
    {
      "cell_type": "code",
      "metadata": {
        "id": "hybrid-tamil",
        "scrolled": true,
        "colab": {
          "base_uri": "https://localhost:8080/"
        },
        "outputId": "54a2b386-aeac-4c42-ab12-85f690dae1e5"
      },
      "source": [
        "%%writefile mpicode.py\n",
        "\n",
        "# YOUR CODE HERE to Define a function to load the data\n",
        "def loadData(filename):\n",
        "  return pd.read_csv(filename, names= ['AmbientTemperature', 'ExhaustVaccum', 'AmbientPressure', 'RelativeHumidity', 'EnergyOutput'], header=0)\n",
        "\n",
        "# YOUR CODE HERE\n",
        "def exploreData(df):\n",
        "  print('Number of rows: {}'.format(df.shape[0]))\n",
        "  print('Number of columns: {}'.format(df.shape[1]))\n",
        "  print('Dataset Summary', df.describe())\n",
        "  print('Null Values', df.isnull().sum())\n",
        "  print('Duplicate Values', df.duplicated().sum())\n",
        "  return None\n",
        "\n",
        "# YOUR CODE HERE\n",
        "def handleMissingData(df):\n",
        "  df.dropna(inplace=True)\n",
        "  df.fillna(df.mean(), inplace=True)\n",
        "  print('Missing Data Handled')\n",
        "  return df\n",
        "\n",
        "def scaleData(df):\n",
        "  print('DF Scaled')\n",
        "  return (df - df.mean())/df.std()\n",
        "\n",
        "def featureTargetSplit(df):\n",
        "  features = df.drop('EnergyOutput', axis=1)\n",
        "  target = df['EnergyOutput']\n",
        "  return features, target\n",
        "\n",
        "def estimated_coefficients(x, y):\n",
        "  return np.linalg.inv(x.T.dot(x)).dot(x.T).dot(y)\n",
        "\n",
        "def fit(x, y):\n",
        "  # YOUR CODE HERE\n",
        "  x = np.concatenate((np.ones((x.shape[0], 1)), x), axis=1)\n",
        "  return estimated_coefficients(x, y)\n",
        "\n",
        "def predict(x, intercept, coefficients):\n",
        "\t'''\n",
        "\ty = b_0 + b_1*x + ... + b_i*x_i\n",
        "\t'''\n",
        "\t#YOUR CODE HERE\n",
        "\tpredictions = intercept + np.dot(x, coefficients)\n",
        "\treturn predictions\n",
        "\n",
        "# Define a function to calculate the error\n",
        "# YOUR CODE HERE\n",
        "def rmse(actual, predicted):\n",
        "  return sqrt(mean_squared_error(actual, predicted))\n",
        "\n",
        "def train_testsplit(x, y):\n",
        "  return train_test_split(x, y, test_size=0.3, shuffle=True)\n",
        "\n",
        "# YOUR CODE HERE\n",
        "def main():\n",
        "  print('Hi, I am here 1')\n",
        "  cpuCount = multiprocessing.cpu_count()\n",
        "  comm = MPI.COMM_WORLD\n",
        "  rank = comm.Get_rank()\n",
        "  size = comm.Get_size()\n",
        "  size_of_workers = cpuCount\n",
        "  feature_chunks, target_chunks = [], []\n",
        "  print(f\"--- Current CPU has {cpuCount} cores ---\")\n",
        "  FILENAME = \"/content/PowerPlantData.csv\" # File path\n",
        "\n",
        "  if rank == 0:\n",
        "    df = loadData(FILENAME)\n",
        "    df.head()\n",
        "    exploreData(df)\n",
        "    df = handleMissingData(df)\n",
        "    df = scaleData(df)\n",
        "\n",
        "\n",
        "    # Root worker: Prepare and distribute data\n",
        "    features, target = featureTargetSplit(df)\n",
        "    X_train, X_test, y_train, y_test = train_test_split(features, target, test_size=0.3, random_state=42)\n",
        "\n",
        "    # Distribute data to all workers (including root worker)\n",
        "    feature_chunks, target_chunks = dividing_data(X_train, y_train, size_of_workers)\n",
        "\n",
        "    print(len(feature_chunks))\n",
        "    print(len(target_chunks))\n",
        "\n",
        "  feature_scattered = comm.scatter(feature_chunks, root=0)\n",
        "  target_scattered = comm.scatter(target_chunks, root=0)\n",
        "\n",
        "  # Calculate the coefficients for each slice of data\n",
        "  params,X_new = fit(feature_chunks,target_chunks)\n",
        "  params = comm.gather(params,root=0)\n",
        "\n",
        "  print('Process {} has gathered data:'.format(rank), params)\n",
        "\n",
        "# Importing pandas\n",
        "import pandas as pd\n",
        "# Importing Numpy\n",
        "import numpy as np\n",
        "# Importing sqrt function from the Math\n",
        "from math import sqrt\n",
        "# Importing Decimal, ROUND_HALF_UP functions from the decimal package\n",
        "from decimal import Decimal, ROUND_HALF_UP\n",
        "import time\n",
        "from sklearn.metrics import mean_squared_error\n",
        "from sklearn.model_selection import train_test_split\n",
        "import multiprocessing\n",
        "\n",
        "\n",
        "main()"
      ],
      "id": "hybrid-tamil",
      "execution_count": null,
      "outputs": [
        {
          "output_type": "stream",
          "name": "stdout",
          "text": [
            "Overwriting mpicode.py\n"
          ]
        }
      ]
    },
    {
      "cell_type": "code",
      "source": [
        "! mpirun --allow-run-as-root --oversubscribe -np 2 python mpicode.py"
      ],
      "metadata": {
        "id": "ViIFlX9Pgc69"
      },
      "id": "ViIFlX9Pgc69",
      "execution_count": null,
      "outputs": []
    },
    {
      "cell_type": "code",
      "source": [
        "! mpirun --allow-run-as-root -np 3 python mpicode.py"
      ],
      "metadata": {
        "id": "mpARgSDjYLyf"
      },
      "id": "mpARgSDjYLyf",
      "execution_count": null,
      "outputs": []
    },
    {
      "cell_type": "markdown",
      "metadata": {
        "id": "breathing-baking"
      },
      "source": [
        "#### Exercise 16: Scatter and gather the data (1 point)\n",
        "\n",
        "Perform the below operations:\n",
        "\n",
        "- Send slices of the training set(the features data X and the expected target data Y) to every worker including the root worker\n",
        "    - **Hint:** scatter()\n",
        "    - use `barrier()` to block workers until all workers in the group reach a Barrier, to scatter from root worker.\n",
        "- Every worker should get the predicted target Y(yhat) for each slice\n",
        "- Get the new coefficient of each instance in a slice\n",
        "    - **Hint:** fit function defined above\n",
        "- Gather the new coefficient from each worker\n",
        "    - **Hint:** gather()\n",
        "    - Take the mean of the gathered coefficients\n",
        "- Calculate the root mean square error for the test set\n",
        "\n",
        "To know more about `scatter`, `gather` and `barrier` click [here](https://nyu-cds.github.io/python-mpi/05-collectives/)"
      ],
      "id": "breathing-baking"
    },
    {
      "cell_type": "code",
      "metadata": {
        "id": "consistent-union",
        "scrolled": true
      },
      "source": [
        "# YOUR CODE HERE\n"
      ],
      "id": "consistent-union",
      "execution_count": null,
      "outputs": []
    },
    {
      "cell_type": "markdown",
      "metadata": {
        "id": "hired-uniform"
      },
      "source": [
        "#### Exercise 17: Make a script and execute everything in one place (1 point)\n",
        "\n",
        "Write a script(.py) file which contains the code of all the above exercises in it so that you can run the code on multiple processes using MPI.\n",
        "\n",
        "**Hint:**\n",
        "\n",
        "- magic commands\n",
        "- put MPI related code under main function\n",
        "- !mpirun --allow-run-as-root -np 4 python filename.py"
      ],
      "id": "hired-uniform"
    },
    {
      "cell_type": "code",
      "metadata": {
        "id": "motivated-national"
      },
      "source": [
        "# YOUR CODE HERE for scipt(.py)"
      ],
      "id": "motivated-national",
      "execution_count": null,
      "outputs": []
    },
    {
      "cell_type": "code",
      "metadata": {
        "id": "experimental-waterproof",
        "scrolled": true
      },
      "source": [
        "# YOUR CODE HERE for MPI command"
      ],
      "id": "experimental-waterproof",
      "execution_count": null,
      "outputs": []
    },
    {
      "cell_type": "markdown",
      "metadata": {
        "id": "protecting-assets"
      },
      "source": [
        "#### Exercise 18: Use Sklearn to compare (1 point)\n",
        "\n",
        "Apply the Linear regression on the given data using sklearn package and compare with the above results\n",
        "\n",
        "**Hint:**\n",
        "* Split the data into train and test\n",
        "* Fit the train data and predict the test data using `sklearn Linear Regression`\n",
        "* Compare the coefficients and intercept with above estimated coefficients\n",
        "* calculate loss (RMSE) on test data and predictions and compare"
      ],
      "id": "protecting-assets"
    },
    {
      "cell_type": "code",
      "source": [
        "df.head()"
      ],
      "metadata": {
        "colab": {
          "base_uri": "https://localhost:8080/",
          "height": 206
        },
        "id": "T21_J2VRjhNv",
        "outputId": "524d3335-fe5b-451c-92e9-75d537cb9ce8"
      },
      "id": "T21_J2VRjhNv",
      "execution_count": null,
      "outputs": [
        {
          "output_type": "execute_result",
          "data": {
            "text/plain": [
              "   AmbientTemperature  ExhaustVaccum  AmbientPressure  RelativeHumidity  \\\n",
              "0           -1.517782      -1.065149        -0.407336          1.143885   \n",
              "1            0.535228       0.329260        -0.313040          0.061028   \n",
              "2            1.353748       0.204141        -1.028675         -2.150575   \n",
              "3           -0.077992      -0.363223        -1.016888          0.238422   \n",
              "4           -1.053507      -1.073805         0.651804          1.636341   \n",
              "\n",
              "   EnergyOutput  \n",
              "0      1.530146  \n",
              "1     -0.504776  \n",
              "2     -0.914338  \n",
              "3     -0.074706  \n",
              "4      0.589734  "
            ],
            "text/html": [
              "\n",
              "  <div id=\"df-483639bc-51ac-4174-8ed2-7b196079ac44\" class=\"colab-df-container\">\n",
              "    <div>\n",
              "<style scoped>\n",
              "    .dataframe tbody tr th:only-of-type {\n",
              "        vertical-align: middle;\n",
              "    }\n",
              "\n",
              "    .dataframe tbody tr th {\n",
              "        vertical-align: top;\n",
              "    }\n",
              "\n",
              "    .dataframe thead th {\n",
              "        text-align: right;\n",
              "    }\n",
              "</style>\n",
              "<table border=\"1\" class=\"dataframe\">\n",
              "  <thead>\n",
              "    <tr style=\"text-align: right;\">\n",
              "      <th></th>\n",
              "      <th>AmbientTemperature</th>\n",
              "      <th>ExhaustVaccum</th>\n",
              "      <th>AmbientPressure</th>\n",
              "      <th>RelativeHumidity</th>\n",
              "      <th>EnergyOutput</th>\n",
              "    </tr>\n",
              "  </thead>\n",
              "  <tbody>\n",
              "    <tr>\n",
              "      <th>0</th>\n",
              "      <td>-1.517782</td>\n",
              "      <td>-1.065149</td>\n",
              "      <td>-0.407336</td>\n",
              "      <td>1.143885</td>\n",
              "      <td>1.530146</td>\n",
              "    </tr>\n",
              "    <tr>\n",
              "      <th>1</th>\n",
              "      <td>0.535228</td>\n",
              "      <td>0.329260</td>\n",
              "      <td>-0.313040</td>\n",
              "      <td>0.061028</td>\n",
              "      <td>-0.504776</td>\n",
              "    </tr>\n",
              "    <tr>\n",
              "      <th>2</th>\n",
              "      <td>1.353748</td>\n",
              "      <td>0.204141</td>\n",
              "      <td>-1.028675</td>\n",
              "      <td>-2.150575</td>\n",
              "      <td>-0.914338</td>\n",
              "    </tr>\n",
              "    <tr>\n",
              "      <th>3</th>\n",
              "      <td>-0.077992</td>\n",
              "      <td>-0.363223</td>\n",
              "      <td>-1.016888</td>\n",
              "      <td>0.238422</td>\n",
              "      <td>-0.074706</td>\n",
              "    </tr>\n",
              "    <tr>\n",
              "      <th>4</th>\n",
              "      <td>-1.053507</td>\n",
              "      <td>-1.073805</td>\n",
              "      <td>0.651804</td>\n",
              "      <td>1.636341</td>\n",
              "      <td>0.589734</td>\n",
              "    </tr>\n",
              "  </tbody>\n",
              "</table>\n",
              "</div>\n",
              "    <div class=\"colab-df-buttons\">\n",
              "\n",
              "  <div class=\"colab-df-container\">\n",
              "    <button class=\"colab-df-convert\" onclick=\"convertToInteractive('df-483639bc-51ac-4174-8ed2-7b196079ac44')\"\n",
              "            title=\"Convert this dataframe to an interactive table.\"\n",
              "            style=\"display:none;\">\n",
              "\n",
              "  <svg xmlns=\"http://www.w3.org/2000/svg\" height=\"24px\" viewBox=\"0 -960 960 960\">\n",
              "    <path d=\"M120-120v-720h720v720H120Zm60-500h600v-160H180v160Zm220 220h160v-160H400v160Zm0 220h160v-160H400v160ZM180-400h160v-160H180v160Zm440 0h160v-160H620v160ZM180-180h160v-160H180v160Zm440 0h160v-160H620v160Z\"/>\n",
              "  </svg>\n",
              "    </button>\n",
              "\n",
              "  <style>\n",
              "    .colab-df-container {\n",
              "      display:flex;\n",
              "      gap: 12px;\n",
              "    }\n",
              "\n",
              "    .colab-df-convert {\n",
              "      background-color: #E8F0FE;\n",
              "      border: none;\n",
              "      border-radius: 50%;\n",
              "      cursor: pointer;\n",
              "      display: none;\n",
              "      fill: #1967D2;\n",
              "      height: 32px;\n",
              "      padding: 0 0 0 0;\n",
              "      width: 32px;\n",
              "    }\n",
              "\n",
              "    .colab-df-convert:hover {\n",
              "      background-color: #E2EBFA;\n",
              "      box-shadow: 0px 1px 2px rgba(60, 64, 67, 0.3), 0px 1px 3px 1px rgba(60, 64, 67, 0.15);\n",
              "      fill: #174EA6;\n",
              "    }\n",
              "\n",
              "    .colab-df-buttons div {\n",
              "      margin-bottom: 4px;\n",
              "    }\n",
              "\n",
              "    [theme=dark] .colab-df-convert {\n",
              "      background-color: #3B4455;\n",
              "      fill: #D2E3FC;\n",
              "    }\n",
              "\n",
              "    [theme=dark] .colab-df-convert:hover {\n",
              "      background-color: #434B5C;\n",
              "      box-shadow: 0px 1px 3px 1px rgba(0, 0, 0, 0.15);\n",
              "      filter: drop-shadow(0px 1px 2px rgba(0, 0, 0, 0.3));\n",
              "      fill: #FFFFFF;\n",
              "    }\n",
              "  </style>\n",
              "\n",
              "    <script>\n",
              "      const buttonEl =\n",
              "        document.querySelector('#df-483639bc-51ac-4174-8ed2-7b196079ac44 button.colab-df-convert');\n",
              "      buttonEl.style.display =\n",
              "        google.colab.kernel.accessAllowed ? 'block' : 'none';\n",
              "\n",
              "      async function convertToInteractive(key) {\n",
              "        const element = document.querySelector('#df-483639bc-51ac-4174-8ed2-7b196079ac44');\n",
              "        const dataTable =\n",
              "          await google.colab.kernel.invokeFunction('convertToInteractive',\n",
              "                                                    [key], {});\n",
              "        if (!dataTable) return;\n",
              "\n",
              "        const docLinkHtml = 'Like what you see? Visit the ' +\n",
              "          '<a target=\"_blank\" href=https://colab.research.google.com/notebooks/data_table.ipynb>data table notebook</a>'\n",
              "          + ' to learn more about interactive tables.';\n",
              "        element.innerHTML = '';\n",
              "        dataTable['output_type'] = 'display_data';\n",
              "        await google.colab.output.renderOutput(dataTable, element);\n",
              "        const docLink = document.createElement('div');\n",
              "        docLink.innerHTML = docLinkHtml;\n",
              "        element.appendChild(docLink);\n",
              "      }\n",
              "    </script>\n",
              "  </div>\n",
              "\n",
              "\n",
              "<div id=\"df-0308f176-f23b-41ef-8861-abaa64513fd9\">\n",
              "  <button class=\"colab-df-quickchart\" onclick=\"quickchart('df-0308f176-f23b-41ef-8861-abaa64513fd9')\"\n",
              "            title=\"Suggest charts\"\n",
              "            style=\"display:none;\">\n",
              "\n",
              "<svg xmlns=\"http://www.w3.org/2000/svg\" height=\"24px\"viewBox=\"0 0 24 24\"\n",
              "     width=\"24px\">\n",
              "    <g>\n",
              "        <path d=\"M19 3H5c-1.1 0-2 .9-2 2v14c0 1.1.9 2 2 2h14c1.1 0 2-.9 2-2V5c0-1.1-.9-2-2-2zM9 17H7v-7h2v7zm4 0h-2V7h2v10zm4 0h-2v-4h2v4z\"/>\n",
              "    </g>\n",
              "</svg>\n",
              "  </button>\n",
              "\n",
              "<style>\n",
              "  .colab-df-quickchart {\n",
              "      --bg-color: #E8F0FE;\n",
              "      --fill-color: #1967D2;\n",
              "      --hover-bg-color: #E2EBFA;\n",
              "      --hover-fill-color: #174EA6;\n",
              "      --disabled-fill-color: #AAA;\n",
              "      --disabled-bg-color: #DDD;\n",
              "  }\n",
              "\n",
              "  [theme=dark] .colab-df-quickchart {\n",
              "      --bg-color: #3B4455;\n",
              "      --fill-color: #D2E3FC;\n",
              "      --hover-bg-color: #434B5C;\n",
              "      --hover-fill-color: #FFFFFF;\n",
              "      --disabled-bg-color: #3B4455;\n",
              "      --disabled-fill-color: #666;\n",
              "  }\n",
              "\n",
              "  .colab-df-quickchart {\n",
              "    background-color: var(--bg-color);\n",
              "    border: none;\n",
              "    border-radius: 50%;\n",
              "    cursor: pointer;\n",
              "    display: none;\n",
              "    fill: var(--fill-color);\n",
              "    height: 32px;\n",
              "    padding: 0;\n",
              "    width: 32px;\n",
              "  }\n",
              "\n",
              "  .colab-df-quickchart:hover {\n",
              "    background-color: var(--hover-bg-color);\n",
              "    box-shadow: 0 1px 2px rgba(60, 64, 67, 0.3), 0 1px 3px 1px rgba(60, 64, 67, 0.15);\n",
              "    fill: var(--button-hover-fill-color);\n",
              "  }\n",
              "\n",
              "  .colab-df-quickchart-complete:disabled,\n",
              "  .colab-df-quickchart-complete:disabled:hover {\n",
              "    background-color: var(--disabled-bg-color);\n",
              "    fill: var(--disabled-fill-color);\n",
              "    box-shadow: none;\n",
              "  }\n",
              "\n",
              "  .colab-df-spinner {\n",
              "    border: 2px solid var(--fill-color);\n",
              "    border-color: transparent;\n",
              "    border-bottom-color: var(--fill-color);\n",
              "    animation:\n",
              "      spin 1s steps(1) infinite;\n",
              "  }\n",
              "\n",
              "  @keyframes spin {\n",
              "    0% {\n",
              "      border-color: transparent;\n",
              "      border-bottom-color: var(--fill-color);\n",
              "      border-left-color: var(--fill-color);\n",
              "    }\n",
              "    20% {\n",
              "      border-color: transparent;\n",
              "      border-left-color: var(--fill-color);\n",
              "      border-top-color: var(--fill-color);\n",
              "    }\n",
              "    30% {\n",
              "      border-color: transparent;\n",
              "      border-left-color: var(--fill-color);\n",
              "      border-top-color: var(--fill-color);\n",
              "      border-right-color: var(--fill-color);\n",
              "    }\n",
              "    40% {\n",
              "      border-color: transparent;\n",
              "      border-right-color: var(--fill-color);\n",
              "      border-top-color: var(--fill-color);\n",
              "    }\n",
              "    60% {\n",
              "      border-color: transparent;\n",
              "      border-right-color: var(--fill-color);\n",
              "    }\n",
              "    80% {\n",
              "      border-color: transparent;\n",
              "      border-right-color: var(--fill-color);\n",
              "      border-bottom-color: var(--fill-color);\n",
              "    }\n",
              "    90% {\n",
              "      border-color: transparent;\n",
              "      border-bottom-color: var(--fill-color);\n",
              "    }\n",
              "  }\n",
              "</style>\n",
              "\n",
              "  <script>\n",
              "    async function quickchart(key) {\n",
              "      const quickchartButtonEl =\n",
              "        document.querySelector('#' + key + ' button');\n",
              "      quickchartButtonEl.disabled = true;  // To prevent multiple clicks.\n",
              "      quickchartButtonEl.classList.add('colab-df-spinner');\n",
              "      try {\n",
              "        const charts = await google.colab.kernel.invokeFunction(\n",
              "            'suggestCharts', [key], {});\n",
              "      } catch (error) {\n",
              "        console.error('Error during call to suggestCharts:', error);\n",
              "      }\n",
              "      quickchartButtonEl.classList.remove('colab-df-spinner');\n",
              "      quickchartButtonEl.classList.add('colab-df-quickchart-complete');\n",
              "    }\n",
              "    (() => {\n",
              "      let quickchartButtonEl =\n",
              "        document.querySelector('#df-0308f176-f23b-41ef-8861-abaa64513fd9 button');\n",
              "      quickchartButtonEl.style.display =\n",
              "        google.colab.kernel.accessAllowed ? 'block' : 'none';\n",
              "    })();\n",
              "  </script>\n",
              "</div>\n",
              "\n",
              "    </div>\n",
              "  </div>\n"
            ],
            "application/vnd.google.colaboratory.intrinsic+json": {
              "type": "dataframe",
              "variable_name": "df",
              "summary": "{\n  \"name\": \"df\",\n  \"rows\": 9568,\n  \"fields\": [\n    {\n      \"column\": \"AmbientTemperature\",\n      \"properties\": {\n        \"dtype\": \"number\",\n        \"std\": 1.0,\n        \"min\": -2.3940013788177064,\n        \"max\": 2.3426811844609805,\n        \"num_unique_values\": 2773,\n        \"samples\": [\n          -1.1581700358206326,\n          -0.542267118952384,\n          -0.4483385695389257\n        ],\n        \"semantic_type\": \"\",\n        \"description\": \"\"\n      }\n    },\n    {\n      \"column\": \"ExhaustVaccum\",\n      \"properties\": {\n        \"dtype\": \"number\",\n        \"std\": 1.0,\n        \"min\": -2.2777815114234086,\n        \"max\": 2.1446668053352864,\n        \"num_unique_values\": 634,\n        \"samples\": [\n          1.7228816989682652,\n          1.1602392529749432,\n          -1.19420298256634\n        ],\n        \"semantic_type\": \"\",\n        \"description\": \"\"\n      }\n    },\n    {\n      \"column\": \"AmbientPressure\",\n      \"properties\": {\n        \"dtype\": \"number\",\n        \"std\": 1.0,\n        \"min\": -3.429840045752908,\n        \"max\": 3.374583553721734,\n        \"num_unique_values\": 2517,\n        \"samples\": [\n          -2.067608248679161,\n          -1.8621789789103105,\n          1.901217889395994\n        ],\n        \"semantic_type\": \"\",\n        \"description\": \"\"\n      }\n    },\n    {\n      \"column\": \"RelativeHumidity\",\n      \"properties\": {\n        \"dtype\": \"number\",\n        \"std\": 1.0,\n        \"min\": -3.2704177326052895,\n        \"max\": 1.8390772529317707,\n        \"num_unique_values\": 4546,\n        \"samples\": [\n          -0.4663597606496964,\n          1.769215525247484,\n          1.087721220876254\n        ],\n        \"semantic_type\": \"\",\n        \"description\": \"\"\n      }\n    },\n    {\n      \"column\": \"EnergyOutput\",\n      \"properties\": {\n        \"dtype\": \"number\",\n        \"std\": 0.9999999999999999,\n        \"min\": -1.998301951031648,\n        \"max\": 2.425441068806913,\n        \"num_unique_values\": 4836,\n        \"samples\": [\n          -0.39110630819493597,\n          -0.6137582747563477,\n          -0.6647338565743551\n        ],\n        \"semantic_type\": \"\",\n        \"description\": \"\"\n      }\n    }\n  ]\n}"
            }
          },
          "metadata": {},
          "execution_count": 91
        }
      ]
    },
    {
      "cell_type": "code",
      "metadata": {
        "id": "applicable-tyler",
        "colab": {
          "base_uri": "https://localhost:8080/"
        },
        "outputId": "ee8a5254-a2d6-44fb-95ee-30e53c25c525"
      },
      "source": [
        "# YOUR CODE HERE\n",
        "\n",
        "from sklearn.linear_model import LinearRegression\n",
        "from sklearn.model_selection import train_test_split\n",
        "from sklearn.metrics import mean_squared_error\n",
        "\n",
        "\n",
        "\n",
        "regression = LinearRegression()\n",
        "feature_1, target_1 = featureTargetSplit(df)\n",
        "\n",
        "X_train, X_test, y_train, y_test = train_test_split(feature_1, target_1, test_size=0.70, random_state=42,shuffle=True)\n",
        "regression.fit(np.array(X_train),y_train)\n",
        "\n",
        "# Check the co-efficents from our LinearRegression Class and sklearns\n",
        "print('SKlearn  Linear Regression Co-efficient is : ',regression.coef_,regression.intercept_)\n",
        "\n",
        "y_pred = regression.predict(X_test)\n",
        "rmse = np.sqrt(mean_squared_error(y_test, y_pred))\n",
        "print(\"RMSE Error:\", rmse)"
      ],
      "id": "applicable-tyler",
      "execution_count": null,
      "outputs": [
        {
          "output_type": "stream",
          "name": "stdout",
          "text": [
            "SKlearn  Linear Regression Co-efficient is :  [-0.87481436 -0.16774442  0.02299454 -0.13255654] -0.008269650527378537\n",
            "RMSE Error: 0.26839497882117125\n"
          ]
        },
        {
          "output_type": "stream",
          "name": "stderr",
          "text": [
            "/usr/local/lib/python3.10/dist-packages/sklearn/base.py:458: UserWarning: X has feature names, but LinearRegression was fitted without feature names\n",
            "  warnings.warn(\n"
          ]
        }
      ]
    }
  ]
}